{
 "cells": [
  {
   "cell_type": "markdown",
   "id": "5d963157",
   "metadata": {},
   "source": [
    "## 1. List bên trong List\n",
    "+ Mọi người có thể đặt các danh sách (list) bên trong một danh sách tùy ý"
   ]
  },
  {
   "cell_type": "code",
   "execution_count": 1,
   "id": "0502ba83",
   "metadata": {},
   "outputs": [
    {
     "data": {
      "text/plain": [
       "list"
      ]
     },
     "execution_count": 1,
     "metadata": {},
     "output_type": "execute_result"
    }
   ],
   "source": [
    "# Ví dụ\n",
    "# Định nghĩa một danh sách chứa các danh sách bên trong\n",
    "# một list có tên là friends chứa một vài thông tin liên quan đến những người bạn\n",
    "# mỗi phần tử (element, item) là một list khác biểu diễn thông tin về tên và tuổi\n",
    "friends = [[\"Jen\", 23], [\"Bob\", 32], [\"Kenny\", 37]]\n",
    "type(friends)"
   ]
  },
  {
   "cell_type": "code",
   "execution_count": 2,
   "id": "9b556023",
   "metadata": {},
   "outputs": [
    {
     "name": "stdout",
     "output_type": "stream",
     "text": [
      "Jen\n",
      "23\n"
     ]
    }
   ],
   "source": [
    "\"\"\"\n",
    "Truy cập tên từ thông tin người bạn đầu tiên.\n",
    "Số 0 thứ nhất biểu diễn vị trí của danh sách con đầu tiên, \n",
    "số 0 thứ hai biểu diễn phần tử đầu tiên trong list con.\n",
    "\"\"\"\n",
    "print(friends[0][0]) \n",
    "\n",
    "\n",
    "# Lấy ra tuổi của người bạn đầu tiên\n",
    "print(friends[0][1])"
   ]
  },
  {
   "cell_type": "markdown",
   "id": "9de1f69a",
   "metadata": {},
   "source": [
    "### Lưu ý\n",
    "+ Khi lấy ra (truy cập) vào một vị trí không tồn tại trong list thì sẽ gặp lỗi IndexError (lỗi chỉ số) - chỉ số sử dụng trên danh sách vượt ra khỏi phạm vi."
   ]
  },
  {
   "cell_type": "code",
   "execution_count": 3,
   "id": "4a6cff41",
   "metadata": {},
   "outputs": [
    {
     "ename": "IndexError",
     "evalue": "list index out of range",
     "output_type": "error",
     "traceback": [
      "\u001b[1;31m---------------------------------------------------------------------------\u001b[0m",
      "\u001b[1;31mIndexError\u001b[0m                                Traceback (most recent call last)",
      "Cell \u001b[1;32mIn[3], line 2\u001b[0m\n\u001b[0;32m      1\u001b[0m \u001b[38;5;66;03m# Ví dụ cho lưu ý\u001b[39;00m\n\u001b[1;32m----> 2\u001b[0m \u001b[38;5;28mprint\u001b[39m(\u001b[43mfriends\u001b[49m\u001b[43m[\u001b[49m\u001b[38;5;241;43m3\u001b[39;49m\u001b[43m]\u001b[49m) \u001b[38;5;66;03m# 3 là vị trí không tồn tại trong danh sách friends\u001b[39;00m\n",
      "\u001b[1;31mIndexError\u001b[0m: list index out of range"
     ]
    }
   ],
   "source": [
    "# Ví dụ cho lưu ý\n",
    "print(friends[3]) # 3 là vị trí không tồn tại trong danh sách friends"
   ]
  },
  {
   "cell_type": "code",
   "execution_count": 4,
   "id": "0813c0ee",
   "metadata": {},
   "outputs": [
    {
     "ename": "IndexError",
     "evalue": "list index out of range",
     "output_type": "error",
     "traceback": [
      "\u001b[1;31m---------------------------------------------------------------------------\u001b[0m",
      "\u001b[1;31mIndexError\u001b[0m                                Traceback (most recent call last)",
      "Cell \u001b[1;32mIn[4], line 2\u001b[0m\n\u001b[0;32m      1\u001b[0m \u001b[38;5;66;03m# Tương tự cho các list con bên trong friends\u001b[39;00m\n\u001b[1;32m----> 2\u001b[0m \u001b[38;5;28mprint\u001b[39m(\u001b[43mfriends\u001b[49m\u001b[43m[\u001b[49m\u001b[38;5;241;43m0\u001b[39;49m\u001b[43m]\u001b[49m\u001b[43m[\u001b[49m\u001b[38;5;241;43m2\u001b[39;49m\u001b[43m]\u001b[49m) \u001b[38;5;66;03m# 2 là vị trí không tồn tại trong list con đầu tiên của friends\u001b[39;00m\n",
      "\u001b[1;31mIndexError\u001b[0m: list index out of range"
     ]
    }
   ],
   "source": [
    "# Tương tự cho các list con bên trong friends\n",
    "print(friends[0][2]) # 2 là vị trí không tồn tại trong list con đầu tiên của friends"
   ]
  },
  {
   "cell_type": "markdown",
   "id": "311f8ce6",
   "metadata": {},
   "source": [
    "## 2. Sao chép (copy) danh sách (list)"
   ]
  },
  {
   "cell_type": "code",
   "execution_count": 5,
   "id": "fe3609cc",
   "metadata": {},
   "outputs": [
    {
     "name": "stdout",
     "output_type": "stream",
     "text": [
      "Hai danh sách có cùng id hay không ? True\n",
      "Hai danh sách có phải là một hay không ? True\n",
      "Hai danh sách có cùng giá trị hay không ? True\n"
     ]
    }
   ],
   "source": [
    "# Ví dụ như sau:\n",
    "lst1 = [1, 3, 2]\n",
    "lst2 = lst1\n",
    "\n",
    "lst1.append(100)\n",
    "\n",
    "# hàm id trả về id duy nhất của giá trị được truyền vào, khác nhau cho mỗi lần chạy\n",
    "# id - địa chỉ bộ nhớ của đối tượng \n",
    "print(\"Hai danh sách có cùng id hay không ?\", id(lst1) == id(lst2))\n",
    "\n",
    "# Toán tử is để kiểm tra xem hai danh sách có phải là một hay không ?\n",
    "# nghĩa là cùng id hay không ? cùng một vị trí trong bộ nhớ\n",
    "print(\"Hai danh sách có phải là một hay không ?\", lst1 is lst2)\n",
    "\n",
    "# Toán tử == để kiểm tra giá trị của hai biến lst1 và lst2 có bằng nhau hay không ?\n",
    "print(\"Hai danh sách có cùng giá trị hay không ?\", lst1 == lst2)"
   ]
  },
  {
   "cell_type": "code",
   "execution_count": 6,
   "id": "6aa3f464",
   "metadata": {},
   "outputs": [
    {
     "name": "stdout",
     "output_type": "stream",
     "text": [
      "Hai danh sách có cùng id hay không ? False\n",
      "Hai danh sách có phải là một hay không ? False\n",
      "Hai danh sách có cùng giá trị hay không ? False\n"
     ]
    }
   ],
   "source": [
    "\"\"\"\n",
    "Chúng ta thấy rằng ở ví dụ trên hai danh sách là một. Bây giờ muốn chúng khác nhau thì mọi người phải làm như thế nào ?\n",
    "Sử dụng hàm copy trên list (list.copy)\n",
    "\"\"\"\n",
    "lst1 = [1, 3, 2]\n",
    "lst2 = lst1.copy()\n",
    "\n",
    "lst1.append(100)\n",
    "\n",
    "# hàm id trả về id duy nhất của giá trị được truyền vào, khác nhau cho mỗi lần chạy\n",
    "# id - địa chỉ bộ nhớ của đối tượng \n",
    "print(\"Hai danh sách có cùng id hay không ?\", id(lst1) == id(lst2))\n",
    "\n",
    "# Toán tử is để kiểm tra xem hai danh sách có phải là một hay không ?\n",
    "# nghĩa là cùng id hay không ? cùng một vị trí trong bộ nhớ\n",
    "print(\"Hai danh sách có phải là một hay không ?\", lst1 is lst2)\n",
    "\n",
    "# Toán tử == để kiểm tra giá trị của hai biến lst1 và lst2 có bằng nhau hay không ?\n",
    "print(\"Hai danh sách có cùng giá trị hay không ?\", lst1 == lst2)"
   ]
  },
  {
   "cell_type": "markdown",
   "id": "4431389c",
   "metadata": {},
   "source": [
    "## 3. List slicing (lấy ra một phần từ một danh sách)\n",
    "+ Cú pháp: list[start:stop:step]\n",
    "+ start - vị trí bắt đầu lấy giá trị từ danh sách gốc\n",
    "+ stop - vị trí kết thúc (không lấy giá trị tại đó)\n",
    "+ step: bước nhảy - nghĩa là: tăng lên vị trí thứ mấy so với vị trí start\n",
    "+ Nếu không chỉ ra giá trị start thì start mặc định là 0 (start = 0)\n",
    "+ Nếu không chỉ ra giá trị stop thì stop mặc định là len(list gốc) (stop = len(list gốc))\n",
    "+ Nếu không chỉ ra giá trị step thì step mặc định là 1 (step = 1)\n",
    "+ Nhớ: list slicing luôn tạo ra một danh sách mới hoàn toàn, không phải danh sách ban đầu (gốc)"
   ]
  },
  {
   "cell_type": "code",
   "execution_count": 7,
   "id": "c7ac4677",
   "metadata": {},
   "outputs": [
    {
     "name": "stdout",
     "output_type": "stream",
     "text": [
      "[1, 10, -23]\n"
     ]
    }
   ],
   "source": [
    "# Ví dụ\n",
    "# Đánh chỉ số cho list (danh sách)\n",
    "# Chỉ số trong list đếm từ 0\n",
    "#          0   1    2   3    4    5\n",
    "#         -6  -5   -4  -3   -2   -1   \n",
    "numbers = [1, 10, -23, 45, -89, 1000]\n",
    "\n",
    "# Lấy ra 3 giá trị đầu tiên từ numbers\n",
    "# không lấy giá trị tại ví trị 3 (hay vị trí thứ 4)\n",
    "new_numbers = numbers[0:3:1]\n",
    "print(new_numbers)"
   ]
  },
  {
   "cell_type": "code",
   "execution_count": 8,
   "id": "2acde5dd",
   "metadata": {},
   "outputs": [
    {
     "name": "stdout",
     "output_type": "stream",
     "text": [
      "[1, 10, -23]\n"
     ]
    }
   ],
   "source": [
    "# Viết gọn lại thì làm như sau:\n",
    "new_numbers = numbers[:3]\n",
    "print(new_numbers)"
   ]
  },
  {
   "cell_type": "code",
   "execution_count": 9,
   "id": "44b188ab",
   "metadata": {},
   "outputs": [
    {
     "name": "stdout",
     "output_type": "stream",
     "text": [
      "[10, -23, 45, -89, 1000]\n"
     ]
    }
   ],
   "source": [
    "# Lấy ra một danh sách từ vị trí 1 đến hết\n",
    "new_numbers = numbers[1:]\n",
    "print(new_numbers)"
   ]
  },
  {
   "cell_type": "code",
   "execution_count": 10,
   "id": "94f5c222",
   "metadata": {},
   "outputs": [
    {
     "name": "stdout",
     "output_type": "stream",
     "text": [
      "Hai danh sách có phải là 1 không ? False\n",
      "Hai danh sách có giá trị bằng nhau không ? True\n",
      "[1, 10, -23, 45, -89, 1000]\n"
     ]
    }
   ],
   "source": [
    "# Copy ra thành một danh sách mới sử dụng list slicing\n",
    "new_numbers = numbers[:]\n",
    "\n",
    "print(\"Hai danh sách có phải là 1 không ?\", new_numbers is numbers)\n",
    "print(\"Hai danh sách có giá trị bằng nhau không ?\", new_numbers == numbers)\n",
    "\n",
    "print(new_numbers)"
   ]
  },
  {
   "cell_type": "code",
   "execution_count": 11,
   "id": "be3f948d",
   "metadata": {},
   "outputs": [
    {
     "name": "stdout",
     "output_type": "stream",
     "text": [
      "[-23, 45, -89]\n"
     ]
    }
   ],
   "source": [
    "# Lấy ra một danh sách mới bắt đầu từ 2 tới 5 (bao gồm - nên không lấy giá trị tại 5)\n",
    "new_numbers = numbers[2:5]\n",
    "print(new_numbers)"
   ]
  },
  {
   "cell_type": "code",
   "execution_count": 12,
   "id": "a007959b",
   "metadata": {},
   "outputs": [
    {
     "name": "stdout",
     "output_type": "stream",
     "text": [
      "Danh sách ban đầu\t\t: [1, 10, -23, 45, -89, 1000]\n",
      "Danh sách sau khi đảo ngược\t: [1000, -89, 45, -23, 10, 1]\n"
     ]
    }
   ],
   "source": [
    "# Đảo ngược một list\n",
    "# \\t - dấu Tab thường = 4 spaces (4 dấu cách) - để căn cho đẹp\n",
    "print(\"Danh sách ban đầu\\t\\t:\", numbers)\n",
    "new_numbers = numbers[::-1]\n",
    "print(\"Danh sách sau khi đảo ngược\\t:\", new_numbers)"
   ]
  },
  {
   "cell_type": "code",
   "execution_count": 13,
   "id": "3388ed1d",
   "metadata": {},
   "outputs": [
    {
     "name": "stdout",
     "output_type": "stream",
     "text": [
      "[]\n"
     ]
    }
   ],
   "source": [
    "# Lấy theo chiều tăng mà step âm thì ra một danh sách rỗng\n",
    "# Ví dụ\n",
    "new_numbers = numbers[1:5:-1]\n",
    "print(new_numbers)"
   ]
  },
  {
   "cell_type": "code",
   "execution_count": 14,
   "id": "d3258be7",
   "metadata": {},
   "outputs": [
    {
     "name": "stdout",
     "output_type": "stream",
     "text": [
      "[-23, 45, -89, 1000]\n"
     ]
    }
   ],
   "source": [
    "# Lấy ra 4 giá trị cuối trong list ban đầu\n",
    "new_numbers = numbers[-4:]\n",
    "print(new_numbers)"
   ]
  },
  {
   "cell_type": "code",
   "execution_count": 15,
   "id": "c3e03543",
   "metadata": {},
   "outputs": [
    {
     "name": "stdout",
     "output_type": "stream",
     "text": [
      "[10, -23, 45, -89]\n"
     ]
    }
   ],
   "source": [
    "# Lấy ra các giá trị từ vị trí 1 đến sát cuối\n",
    "new_numbers = numbers[1:-1]\n",
    "print(new_numbers)"
   ]
  },
  {
   "cell_type": "markdown",
   "id": "dd1d0f6f",
   "metadata": {},
   "source": [
    "## 4. Bài tập\n",
    "1. Cho danh sách (list) friends = [\"Jen\", \"Jack\", \"Kenny\", \"Jelly\", \"Bob\", \"Henry\", \"Anne\"]\n",
    "+ Yêu cầu:\n",
    "+ a. Lấy ra 4 người bạn đầu tiên trong friends\n",
    "+ b. Lấy ra 4 người bạn cuối trong friends\n",
    "+ c. Đảo ngược danh sách friends\n",
    "+ d. Lấy ra những người bạn từ vị trí 1 đến hết\n",
    "+ e. Copy danh sách ban đầu thành một danh sách mới\n",
    "+ f. Lấy ra những người bạn từ vị trí 2 đến sát cuối\n",
    "\n",
    "2. Cho danh sách các sinh viên chứa thông tin của mỗi sinh viên [id, tên, tuổi] như sau: \n",
    "+ students = [[\"SV001\", \"Bob\", 23], [\"SV002\", \"Kenny\", 34], [\"SV003\", \"Henry\", 45]]\n",
    "+ Yêu cầu:\n",
    "+ a. Lấy ra thông tin của sinh viên thứ nhất và in ra định dạng \"ID: {id}, name: {name} - age: {age}\"\n",
    "+ b. Lấy ra tuổi của sinh viên thứ hai\n",
    "+ c. Lấy ra thông tin hai sinh viên cuối cùng\n",
    "+ d. Lấy ra id của sinh viên thứ ba"
   ]
  }
 ],
 "metadata": {
  "kernelspec": {
   "display_name": "Python 3 (ipykernel)",
   "language": "python",
   "name": "python3"
  },
  "language_info": {
   "codemirror_mode": {
    "name": "ipython",
    "version": 3
   },
   "file_extension": ".py",
   "mimetype": "text/x-python",
   "name": "python",
   "nbconvert_exporter": "python",
   "pygments_lexer": "ipython3",
   "version": "3.10.8"
  }
 },
 "nbformat": 4,
 "nbformat_minor": 5
}
