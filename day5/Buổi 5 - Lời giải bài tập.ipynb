{
 "cells": [
  {
   "cell_type": "markdown",
   "id": "17a412dc",
   "metadata": {},
   "source": [
    "## 4. Bài tập\n",
    "1. Cho danh sách (list) friends = [\"Jen\", \"Jack\", \"Kenny\", \"Jelly\", \"Bob\", \"Henry\", \"Anne\"]\n",
    "+ Yêu cầu:\n",
    "+ a. Lấy ra 4 người bạn đầu tiên trong friends\n",
    "+ b. Lấy ra 4 người bạn cuối trong friends\n",
    "+ c. Đảo ngược danh sách friends\n",
    "+ d. Lấy ra những người bạn từ vị trí 1 đến hết\n",
    "+ e. Copy danh sách ban đầu thành một danh sách mới\n",
    "+ f. Lấy ra những người bạn từ vị trí 2 đến sát cuối\n",
    "\n",
    "2. Cho danh sách các sinh viên chứa thông tin của mỗi sinh viên [id, tên, tuổi] như sau: \n",
    "+ students = [[\"SV001\", \"Bob\", 23], [\"SV002\", \"Kenny\", 34], [\"SV003\", \"Henry\", 45]]\n",
    "+ Yêu cầu:\n",
    "+ a. Lấy ra thông tin của sinh viên thứ nhất và in ra định dạng \"ID: {id}, name: {name} - age: {age}\"\n",
    "+ b. Lấy ra tuổi của sinh viên thứ hai\n",
    "+ c. Lấy ra thông tin hai sinh viên cuối cùng\n",
    "+ d. Lấy ra id của sinh viên thứ ba"
   ]
  },
  {
   "cell_type": "markdown",
   "id": "24fb9ef2",
   "metadata": {},
   "source": [
    "## Bài 1"
   ]
  },
  {
   "cell_type": "code",
   "execution_count": 1,
   "id": "b03d6bae",
   "metadata": {},
   "outputs": [
    {
     "name": "stdout",
     "output_type": "stream",
     "text": [
      "['Jen', 'Jack', 'Kenny', 'Jelly']\n"
     ]
    }
   ],
   "source": [
    "# a. Lấy ra 4 người bạn đầu tiên trong friends\n",
    "# Đánh chỉ số cho các phần tử\n",
    "#            0       1       2        3       4       5        6\n",
    "#           -7      -6      -5       -4      -3      -2       -1\n",
    "friends = [\"Jen\", \"Jack\", \"Kenny\", \"Jelly\", \"Bob\", \"Henry\", \"Anne\"]\n",
    "print(friends[:4])"
   ]
  },
  {
   "cell_type": "code",
   "execution_count": 2,
   "id": "3a3d7ccc",
   "metadata": {},
   "outputs": [
    {
     "name": "stdout",
     "output_type": "stream",
     "text": [
      "['Jelly', 'Bob', 'Henry', 'Anne']\n"
     ]
    }
   ],
   "source": [
    "# b. Lấy ra 4 người bạn cuối trong friends\n",
    "print(friends[-4:])"
   ]
  },
  {
   "cell_type": "code",
   "execution_count": 3,
   "id": "0d204a04",
   "metadata": {},
   "outputs": [
    {
     "name": "stdout",
     "output_type": "stream",
     "text": [
      "['Anne', 'Henry', 'Bob', 'Jelly', 'Kenny', 'Jack', 'Jen']\n"
     ]
    }
   ],
   "source": [
    "# c. Đảo ngược danh sách friends\n",
    "print(friends[::-1])"
   ]
  },
  {
   "cell_type": "code",
   "execution_count": 4,
   "id": "5a8f3d33",
   "metadata": {},
   "outputs": [
    {
     "name": "stdout",
     "output_type": "stream",
     "text": [
      "['Jack', 'Kenny', 'Jelly', 'Bob', 'Henry', 'Anne']\n"
     ]
    }
   ],
   "source": [
    "# d. Lấy ra những người bạn từ vị trí 1 đến hết\n",
    "print(friends[1:])"
   ]
  },
  {
   "cell_type": "code",
   "execution_count": 5,
   "id": "d189ac40",
   "metadata": {},
   "outputs": [
    {
     "name": "stdout",
     "output_type": "stream",
     "text": [
      "True\n",
      "['Jen', 'Jack', 'Kenny', 'Jelly', 'Bob', 'Henry', 'Anne']\n"
     ]
    }
   ],
   "source": [
    "# e. Copy danh sách ban đầu thành một danh sách mới\n",
    "new_friends = friends[:]\n",
    "print(new_friends == friends)\n",
    "print(new_friends)"
   ]
  },
  {
   "cell_type": "code",
   "execution_count": 6,
   "id": "0a7d14e1",
   "metadata": {},
   "outputs": [
    {
     "name": "stdout",
     "output_type": "stream",
     "text": [
      "['Kenny', 'Jelly', 'Bob', 'Henry']\n"
     ]
    }
   ],
   "source": [
    "# f. Lấy ra những người bạn từ vị trí 2 đến sát cuối\n",
    "print(friends[2:-1])"
   ]
  },
  {
   "cell_type": "markdown",
   "id": "5b1b0f86",
   "metadata": {},
   "source": [
    "## Bài 2"
   ]
  },
  {
   "cell_type": "code",
   "execution_count": 7,
   "id": "969332b8",
   "metadata": {},
   "outputs": [],
   "source": [
    "# a. Lấy ra thông tin của sinh viên thứ nhất và in ra định dạng \"ID: {id}, name: {name} - age: {age}\"\n",
    "# Đánh chỉ số cho list bên ngoài ([] bên ngoài)\n",
    "#                    0                        1                       2\n",
    "# Đánh chỉ số cho list bên trong\n",
    "#               0       1     2       0        1      2       0       1      2\n",
    "students = [[\"SV001\", \"Bob\", 23], [\"SV002\", \"Kenny\", 34], [\"SV003\", \"Henry\", 45]]"
   ]
  },
  {
   "cell_type": "code",
   "execution_count": 8,
   "id": "a4a4f177",
   "metadata": {},
   "outputs": [
    {
     "name": "stdout",
     "output_type": "stream",
     "text": [
      "['SV001', 'Bob', 23]\n"
     ]
    }
   ],
   "source": [
    "student_one = students[0]\n",
    "print(student_one)"
   ]
  },
  {
   "cell_type": "code",
   "execution_count": 9,
   "id": "80c115a7",
   "metadata": {},
   "outputs": [
    {
     "name": "stdout",
     "output_type": "stream",
     "text": [
      "ID: SV001, name: Bob - age: 23\n"
     ]
    }
   ],
   "source": [
    "# In ra định dạng \"ID: {id}, name: {name} - age: {age}\" của sinh viên đầu tiên\n",
    "student_id = student_one[0]\n",
    "student_name = student_one[1]\n",
    "student_age = student_one[2]\n",
    "\n",
    "print(f\"ID: {student_id}, name: {student_name} - age: {student_age}\")"
   ]
  },
  {
   "cell_type": "code",
   "execution_count": 10,
   "id": "7c71d975",
   "metadata": {},
   "outputs": [
    {
     "name": "stdout",
     "output_type": "stream",
     "text": [
      "Thông tin sinh viên thứ hai: ['SV002', 'Kenny', 34]\n",
      "Tuổi của sinh viên thứ hai: 34\n"
     ]
    }
   ],
   "source": [
    "# b. Lấy ra tuổi của sinh viên thứ hai\n",
    "student_two = students[1]\n",
    "student_age = student_two[2]\n",
    "\n",
    "print(\"Thông tin sinh viên thứ hai:\", student_two)\n",
    "print(\"Tuổi của sinh viên thứ hai:\", student_age)"
   ]
  },
  {
   "cell_type": "code",
   "execution_count": 11,
   "id": "982e2f78",
   "metadata": {},
   "outputs": [
    {
     "name": "stdout",
     "output_type": "stream",
     "text": [
      "[['SV002', 'Kenny', 34], ['SV003', 'Henry', 45]]\n"
     ]
    }
   ],
   "source": [
    "# c. Lấy ra thông tin hai sinh viên cuối cùng\n",
    "new_students = students[-2:]\n",
    "print(new_students)"
   ]
  },
  {
   "cell_type": "code",
   "execution_count": 12,
   "id": "85a2ca10",
   "metadata": {},
   "outputs": [
    {
     "name": "stdout",
     "output_type": "stream",
     "text": [
      "SV003\n"
     ]
    }
   ],
   "source": [
    "# d. Lấy ra id của sinh viên thứ ba\n",
    "student3_id = students[-1][0]\n",
    "print(student3_id)"
   ]
  }
 ],
 "metadata": {
  "kernelspec": {
   "display_name": "Python 3 (ipykernel)",
   "language": "python",
   "name": "python3"
  },
  "language_info": {
   "codemirror_mode": {
    "name": "ipython",
    "version": 3
   },
   "file_extension": ".py",
   "mimetype": "text/x-python",
   "name": "python",
   "nbconvert_exporter": "python",
   "pygments_lexer": "ipython3",
   "version": "3.10.8"
  }
 },
 "nbformat": 4,
 "nbformat_minor": 5
}
