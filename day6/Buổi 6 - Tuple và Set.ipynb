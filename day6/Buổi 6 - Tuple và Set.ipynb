{
 "cells": [
  {
   "cell_type": "markdown",
   "id": "a073d4ba",
   "metadata": {},
   "source": [
    "## 1. Tuple (Bộ giá trị)\n",
    "+ tuple được sử dụng để lưu trữ nhiều giá trị trong một biến duy nhất\n",
    "+ tuple là một cấu trúc dữ liệu có thứ tự, cho phép các giá trị trùng lặp \n",
    "+ tuple bản thân nó và các phần tử bên trong nó không thể thay đổi\n",
    "+ tuple được tạo bởi cặp dấu ngoặc tròn (nên dùng) ngăn cách với nhau bằng dấu phẩy (,)\n",
    "+ tuple cũng giống như list truy cập vào các phần tử bằng chỉ số (index)"
   ]
  },
  {
   "cell_type": "markdown",
   "id": "61fb2e67",
   "metadata": {},
   "source": [
    "### a. Khai báo (định nghĩa, tạo ra) tuple"
   ]
  },
  {
   "cell_type": "code",
   "execution_count": 1,
   "id": "a17bbb85",
   "metadata": {},
   "outputs": [
    {
     "data": {
      "text/plain": [
       "tuple"
      ]
     },
     "execution_count": 1,
     "metadata": {},
     "output_type": "execute_result"
    }
   ],
   "source": [
    "# Định nghĩa (tạo ra) một tuple chứa các số nguyên\n",
    "numbers = (1, 3, 2, 4)\n",
    "type(numbers)"
   ]
  },
  {
   "cell_type": "code",
   "execution_count": 2,
   "id": "f3f75116",
   "metadata": {},
   "outputs": [
    {
     "data": {
      "text/plain": [
       "tuple"
      ]
     },
     "execution_count": 2,
     "metadata": {},
     "output_type": "execute_result"
    }
   ],
   "source": [
    "# Tạo ra tuple (chứa các chuỗi) không sử dụng dấu ngoặc tròn\n",
    "friends = \"Kenny\", \"Anna\", \"Jren\", \"Jack\"\n",
    "type(friends)"
   ]
  },
  {
   "cell_type": "code",
   "execution_count": 3,
   "id": "6601122d",
   "metadata": {},
   "outputs": [
    {
     "data": {
      "text/plain": [
       "tuple"
      ]
     },
     "execution_count": 3,
     "metadata": {},
     "output_type": "execute_result"
    }
   ],
   "source": [
    "# Tuple có một phần tử (element, item)\n",
    "a_tuple = .5,\n",
    "type(a_tuple)"
   ]
  },
  {
   "cell_type": "markdown",
   "id": "22456076",
   "metadata": {},
   "source": [
    "### b. Truy cập vào các giá trị bên trong tuple\n",
    "+ Sử dụng cú pháp dấu ngoặc vuông sau tên tuple"
   ]
  },
  {
   "cell_type": "code",
   "execution_count": 4,
   "id": "6c23ea5e",
   "metadata": {},
   "outputs": [
    {
     "name": "stdout",
     "output_type": "stream",
     "text": [
      "giá trị thứ hai\t\t: Jren\n",
      "giá trị đầu tiên\t: Jack\n",
      "giá trị cuối cùng\t: Kenny\n"
     ]
    }
   ],
   "source": [
    "#             0       1       2       3\n",
    "friends = (\"Jack\", \"Jren\", \"John\", \"Kenny\")\n",
    "\n",
    "print(\"giá trị thứ hai\\t\\t:\", friends[1])\n",
    "print(\"giá trị đầu tiên\\t:\", friends[0])\n",
    "print(\"giá trị cuối cùng\\t:\", friends[-1])"
   ]
  },
  {
   "cell_type": "code",
   "execution_count": 5,
   "id": "21fce472",
   "metadata": {},
   "outputs": [
    {
     "ename": "IndexError",
     "evalue": "tuple index out of range",
     "output_type": "error",
     "traceback": [
      "\u001b[1;31m---------------------------------------------------------------------------\u001b[0m",
      "\u001b[1;31mIndexError\u001b[0m                                Traceback (most recent call last)",
      "Cell \u001b[1;32mIn[5], line 2\u001b[0m\n\u001b[0;32m      1\u001b[0m \u001b[38;5;66;03m# Truy cập vào một chỉ số bên ngoài tuple thì sẽ gặp lỗi IndexError\u001b[39;00m\n\u001b[1;32m----> 2\u001b[0m \u001b[38;5;28mprint\u001b[39m(\u001b[43mfriends\u001b[49m\u001b[43m[\u001b[49m\u001b[38;5;241;43m100\u001b[39;49m\u001b[43m]\u001b[49m)\n",
      "\u001b[1;31mIndexError\u001b[0m: tuple index out of range"
     ]
    }
   ],
   "source": [
    "# Truy cập vào một chỉ số bên ngoài tuple thì sẽ gặp lỗi IndexError\n",
    "print(friends[100])"
   ]
  },
  {
   "cell_type": "markdown",
   "id": "6854b215",
   "metadata": {},
   "source": [
    "### b. Thiết lập lại giá trị của một phần tử (biến) trong tuple\n",
    "+ Trong tuple các phần tử cũng như bản thân nó không thể thay đổi giá trị"
   ]
  },
  {
   "cell_type": "code",
   "execution_count": 6,
   "id": "55523f95",
   "metadata": {},
   "outputs": [
    {
     "ename": "TypeError",
     "evalue": "'tuple' object does not support item assignment",
     "output_type": "error",
     "traceback": [
      "\u001b[1;31m---------------------------------------------------------------------------\u001b[0m",
      "\u001b[1;31mTypeError\u001b[0m                                 Traceback (most recent call last)",
      "Cell \u001b[1;32mIn[6], line 2\u001b[0m\n\u001b[0;32m      1\u001b[0m numbers \u001b[38;5;241m=\u001b[39m (\u001b[38;5;241m1\u001b[39m, \u001b[38;5;241m2.5\u001b[39m, \u001b[38;5;241m7.5\u001b[39m, \u001b[38;5;241m-\u001b[39m\u001b[38;5;241m4.5\u001b[39m, \u001b[38;5;241m100\u001b[39m)\n\u001b[1;32m----> 2\u001b[0m \u001b[43mnumbers\u001b[49m\u001b[43m[\u001b[49m\u001b[38;5;241;43m0\u001b[39;49m\u001b[43m]\u001b[49m \u001b[38;5;241m=\u001b[39m \u001b[38;5;241m1000\u001b[39m\n",
      "\u001b[1;31mTypeError\u001b[0m: 'tuple' object does not support item assignment"
     ]
    }
   ],
   "source": [
    "numbers = (1, 2.5, 7.5, -4.5, 100)\n",
    "numbers[0] = 1000"
   ]
  },
  {
   "cell_type": "code",
   "execution_count": 7,
   "id": "2465ca11",
   "metadata": {},
   "outputs": [
    {
     "ename": "AttributeError",
     "evalue": "'tuple' object has no attribute 'append'",
     "output_type": "error",
     "traceback": [
      "\u001b[1;31m---------------------------------------------------------------------------\u001b[0m",
      "\u001b[1;31mAttributeError\u001b[0m                            Traceback (most recent call last)",
      "Cell \u001b[1;32mIn[7], line 2\u001b[0m\n\u001b[0;32m      1\u001b[0m \u001b[38;5;66;03m# tuple không có thuộc tính append nên nó không thể thay đổi được\u001b[39;00m\n\u001b[1;32m----> 2\u001b[0m \u001b[43mnumbers\u001b[49m\u001b[38;5;241;43m.\u001b[39;49m\u001b[43mappend\u001b[49m(\u001b[38;5;241m100\u001b[39m)\n",
      "\u001b[1;31mAttributeError\u001b[0m: 'tuple' object has no attribute 'append'"
     ]
    }
   ],
   "source": [
    "# tuple không có thuộc tính append nên nó không thể thay đổi được\n",
    "numbers.append(100)"
   ]
  },
  {
   "cell_type": "markdown",
   "id": "4ffd4f49",
   "metadata": {},
   "source": [
    "### c. Nối tuple với một tuple khác"
   ]
  },
  {
   "cell_type": "code",
   "execution_count": 8,
   "id": "c928581f",
   "metadata": {},
   "outputs": [],
   "source": [
    "tup1 = 1, 2, 3 # tuple chứa các giá trị cách nhau bởi dấu phẩy\n",
    "tup2 = (3,)    # tuple chứa một giá trị duy nhất"
   ]
  },
  {
   "cell_type": "code",
   "execution_count": 9,
   "id": "b3928981",
   "metadata": {},
   "outputs": [
    {
     "name": "stdout",
     "output_type": "stream",
     "text": [
      "(1, 2, 3, 3)\n"
     ]
    }
   ],
   "source": [
    "tup3 = tup1 + tup2\n",
    "print(tup3)"
   ]
  },
  {
   "cell_type": "code",
   "execution_count": 10,
   "id": "21067927",
   "metadata": {},
   "outputs": [
    {
     "name": "stdout",
     "output_type": "stream",
     "text": [
      "(1, 2, 3, 100)\n"
     ]
    }
   ],
   "source": [
    "# update lại giá trị của tup1\n",
    "tup1 += (100,)\n",
    "print(tup1)"
   ]
  },
  {
   "cell_type": "markdown",
   "id": "603df57c",
   "metadata": {},
   "source": [
    "## 2. Set\n",
    "+ set là một cấu trúc dữ liệu không cho phép các phần tử trùng lặp, không có thứ tự cố định, không thể truy cập bằng chỉ số\n",
    "+ set được tạo sử dụng cặp dấu ngoặc nhọn, nếu trống thì nó là dict trống không phải set\n",
    "+ tạo một set trống thì sử dụng như sau: set()"
   ]
  },
  {
   "cell_type": "code",
   "execution_count": 11,
   "id": "b37441b5",
   "metadata": {},
   "outputs": [
    {
     "data": {
      "text/plain": [
       "set"
      ]
     },
     "execution_count": 11,
     "metadata": {},
     "output_type": "execute_result"
    }
   ],
   "source": [
    "# Tạo ra một set trống\n",
    "empty_set = set()\n",
    "type(empty_set)"
   ]
  },
  {
   "cell_type": "code",
   "execution_count": 12,
   "id": "a46e77ab",
   "metadata": {},
   "outputs": [
    {
     "data": {
      "text/plain": [
       "set"
      ]
     },
     "execution_count": 12,
     "metadata": {},
     "output_type": "execute_result"
    }
   ],
   "source": [
    "# Tạo một set những người bạn\n",
    "friends = {\"Bob\", \"Jen\", \"Kenny\", \"Jack\"}\n",
    "type(friends)"
   ]
  },
  {
   "cell_type": "code",
   "execution_count": 13,
   "id": "7d95821c",
   "metadata": {},
   "outputs": [
    {
     "name": "stdout",
     "output_type": "stream",
     "text": [
      "{'Joe', 'Jen', 'Bob', 'Kenny', 'Jack'}\n"
     ]
    }
   ],
   "source": [
    "# Thêm một giá trị vào set\n",
    "friends = {\"Bob\", \"Jen\", \"Kenny\", \"Jack\"}\n",
    "\n",
    "friends.add(\"Joe\")\n",
    "friends.add(\"Joe\")\n",
    "\n",
    "print(friends)"
   ]
  },
  {
   "cell_type": "markdown",
   "id": "7e5e2ba0",
   "metadata": {},
   "source": [
    "### Chú ý:\n",
    "+ Dựa vào kết quả trên thấy rằng: trong set không thể chứ các giá trị trùng lặp (thêm hai lần Joe mà kết quả cuối cùng chỉ chứa một giá trị)"
   ]
  },
  {
   "cell_type": "code",
   "execution_count": 14,
   "id": "1d9ad872",
   "metadata": {},
   "outputs": [
    {
     "data": {
      "text/plain": [
       "['__and__',\n",
       " '__class__',\n",
       " '__class_getitem__',\n",
       " '__contains__',\n",
       " '__delattr__',\n",
       " '__dir__',\n",
       " '__doc__',\n",
       " '__eq__',\n",
       " '__format__',\n",
       " '__ge__',\n",
       " '__getattribute__',\n",
       " '__gt__',\n",
       " '__hash__',\n",
       " '__iand__',\n",
       " '__init__',\n",
       " '__init_subclass__',\n",
       " '__ior__',\n",
       " '__isub__',\n",
       " '__iter__',\n",
       " '__ixor__',\n",
       " '__le__',\n",
       " '__len__',\n",
       " '__lt__',\n",
       " '__ne__',\n",
       " '__new__',\n",
       " '__or__',\n",
       " '__rand__',\n",
       " '__reduce__',\n",
       " '__reduce_ex__',\n",
       " '__repr__',\n",
       " '__ror__',\n",
       " '__rsub__',\n",
       " '__rxor__',\n",
       " '__setattr__',\n",
       " '__sizeof__',\n",
       " '__str__',\n",
       " '__sub__',\n",
       " '__subclasshook__',\n",
       " '__xor__',\n",
       " 'add',\n",
       " 'clear',\n",
       " 'copy',\n",
       " 'difference',\n",
       " 'difference_update',\n",
       " 'discard',\n",
       " 'intersection',\n",
       " 'intersection_update',\n",
       " 'isdisjoint',\n",
       " 'issubset',\n",
       " 'issuperset',\n",
       " 'pop',\n",
       " 'remove',\n",
       " 'symmetric_difference',\n",
       " 'symmetric_difference_update',\n",
       " 'union',\n",
       " 'update']"
      ]
     },
     "execution_count": 14,
     "metadata": {},
     "output_type": "execute_result"
    }
   ],
   "source": [
    "# Liệt kê các hàm có trong set\n",
    "dir(set)"
   ]
  },
  {
   "cell_type": "code",
   "execution_count": 15,
   "id": "e4aaa4df",
   "metadata": {},
   "outputs": [
    {
     "name": "stdout",
     "output_type": "stream",
     "text": [
      "{'Joe', 'Jen', 'Bob', 'Kenny', 'Jack'}\n",
      "{'Joe', 'Jen', 'Naruto', 'Obito', 'Itachi', 'Bob', 'Kenny', 'Jack'}\n"
     ]
    }
   ],
   "source": [
    "# cập nhật giá trị trong set\n",
    "print(friends)\n",
    "friends.update((\"Obito\", \"Itachi\", \"Naruto\"))\n",
    "print(friends)"
   ]
  },
  {
   "cell_type": "code",
   "execution_count": 16,
   "id": "d675e0cd",
   "metadata": {},
   "outputs": [
    {
     "name": "stdout",
     "output_type": "stream",
     "text": [
      "{'Joe', 'Jen', 'Naruto', 'Obito', 'Itachi', 'Bob', 'Kenny', 'Jack'}\n",
      "{'Joe', 'Jen', 'Naruto', 'Obito', 'Bob', 'Kenny', 'Jack'}\n"
     ]
    }
   ],
   "source": [
    "# xóa một giá trị trong set\n",
    "print(friends)\n",
    "friends.remove(\"Itachi\")\n",
    "print(friends)"
   ]
  },
  {
   "cell_type": "code",
   "execution_count": 17,
   "id": "1ac5ecd7",
   "metadata": {},
   "outputs": [
    {
     "ename": "KeyError",
     "evalue": "'Sasuke'",
     "output_type": "error",
     "traceback": [
      "\u001b[1;31m---------------------------------------------------------------------------\u001b[0m",
      "\u001b[1;31mKeyError\u001b[0m                                  Traceback (most recent call last)",
      "Cell \u001b[1;32mIn[17], line 2\u001b[0m\n\u001b[0;32m      1\u001b[0m \u001b[38;5;66;03m# xóa một giá trị không tồn tại trong set - lỗi KeyError\u001b[39;00m\n\u001b[1;32m----> 2\u001b[0m \u001b[43mfriends\u001b[49m\u001b[38;5;241;43m.\u001b[39;49m\u001b[43mremove\u001b[49m\u001b[43m(\u001b[49m\u001b[38;5;124;43m\"\u001b[39;49m\u001b[38;5;124;43mSasuke\u001b[39;49m\u001b[38;5;124;43m\"\u001b[39;49m\u001b[43m)\u001b[49m\n",
      "\u001b[1;31mKeyError\u001b[0m: 'Sasuke'"
     ]
    }
   ],
   "source": [
    "# xóa một giá trị không tồn tại trong set - lỗi KeyError\n",
    "friends.remove(\"Sasuke\")"
   ]
  },
  {
   "cell_type": "code",
   "execution_count": 18,
   "id": "147bd404",
   "metadata": {},
   "outputs": [
    {
     "name": "stdout",
     "output_type": "stream",
     "text": [
      "Joe\n",
      "{'Jen', 'Naruto', 'Obito', 'Bob', 'Kenny', 'Jack'}\n"
     ]
    }
   ],
   "source": [
    "# xóa và trả về một phần tử bất kỳ trong set\n",
    "any_value = friends.pop()\n",
    "print(any_value)\n",
    "print(friends)"
   ]
  },
  {
   "cell_type": "code",
   "execution_count": 19,
   "id": "92341700",
   "metadata": {},
   "outputs": [
    {
     "name": "stdout",
     "output_type": "stream",
     "text": [
      "set()\n"
     ]
    }
   ],
   "source": [
    "# xóa tất cả các giá trị trong set\n",
    "friends.clear()\n",
    "print(friends)"
   ]
  },
  {
   "cell_type": "markdown",
   "id": "3c64f31a",
   "metadata": {},
   "source": [
    "## 3. Bài tập\n",
    "#### 1. Cho một list chứa các tuple như sau: friends = [(\"Bob\", \"Male\"), (\"Anna\", \"Female\"), (\"Max\", \"Male\")]\n",
    "+ a. Cho biết chiều dài của friends\n",
    "+ b. Lấy ra phần tử đầu, cuối và giữa và kiểm tra kiểu của chúng\n",
    "+ c. Nhập vào tên (name) và giới tính (gender) của một người bạn sau đó append vào friends tuple gồm hai giá trị (name, gender)"
   ]
  },
  {
   "cell_type": "markdown",
   "id": "dbf0d63a",
   "metadata": {},
   "source": [
    "#### 2. Tạo một set trống có tên là set_a\n",
    "+ a. Thêm 'Anna' vào set_a\n",
    "+ b. Thêm một tuple ('Kenny', 'Jen', 'Danny')\n",
    "+ c. In ra set_a và tính chiều dài của nó\n",
    "+ d. Xóa 'Jen' ra khỏi set_a\n",
    "+ e. Xóa tất cả các giá trị từ set_a"
   ]
  }
 ],
 "metadata": {
  "kernelspec": {
   "display_name": "Python 3 (ipykernel)",
   "language": "python",
   "name": "python3"
  },
  "language_info": {
   "codemirror_mode": {
    "name": "ipython",
    "version": 3
   },
   "file_extension": ".py",
   "mimetype": "text/x-python",
   "name": "python",
   "nbconvert_exporter": "python",
   "pygments_lexer": "ipython3",
   "version": "3.10.8"
  }
 },
 "nbformat": 4,
 "nbformat_minor": 5
}
