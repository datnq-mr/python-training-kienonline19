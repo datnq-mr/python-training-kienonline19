{
 "cells": [
  {
   "cell_type": "markdown",
   "id": "f174ec2c",
   "metadata": {},
   "source": [
    "## Bài tập\n",
    "#### 1. Cho một list chứa các tuple như sau: friends = [(\"Bob\", \"Male\"), (\"Anna\", \"Female\"), (\"Max\", \"Male\")]\n",
    "+ a. Cho biết chiều dài của friends\n",
    "+ b. Lấy ra phần tử đầu, cuối và giữa và kiểm tra kiểu của chúng\n",
    "+ c. Nhập vào tên (name) và giới tính (gender) của một người bạn sau đó append vào friends tuple gồm hai giá trị (name, gender)"
   ]
  },
  {
   "cell_type": "code",
   "execution_count": 1,
   "id": "490f6b3f",
   "metadata": {},
   "outputs": [],
   "source": [
    "friends = [(\"Bob\", \"Male\"), (\"Anna\", \"Female\"), (\"Max\", \"Male\")]"
   ]
  },
  {
   "cell_type": "code",
   "execution_count": 2,
   "id": "d88b5466",
   "metadata": {},
   "outputs": [
    {
     "name": "stdout",
     "output_type": "stream",
     "text": [
      "Chiều dài của [('Bob', 'Male'), ('Anna', 'Female'), ('Max', 'Male')] là 3\n"
     ]
    }
   ],
   "source": [
    "# a. Cho biết chiều dài của friends\n",
    "print(f\"Chiều dài của {friends} là {len(friends)}\")"
   ]
  },
  {
   "cell_type": "code",
   "execution_count": 3,
   "id": "ed50a9d1",
   "metadata": {},
   "outputs": [
    {
     "name": "stdout",
     "output_type": "stream",
     "text": [
      "Phần tử đầu tiên: ('Bob', 'Male')\n",
      "Phần tử giữa\t: ('Anna', 'Female')\n",
      "Phần tử cuối\t: ('Max', 'Male')\n"
     ]
    }
   ],
   "source": [
    "# b. Lấy ra phần tử đầu, cuối và giữa và kiểm tra kiểu của chúng\n",
    "first = friends[0]\n",
    "mid   = friends[1]\n",
    "last  = friends[-1]\n",
    "\n",
    "print(\"Phần tử đầu tiên:\", first)\n",
    "print(\"Phần tử giữa\\t:\", mid)\n",
    "print(\"Phần tử cuối\\t:\", last)"
   ]
  },
  {
   "cell_type": "code",
   "execution_count": 4,
   "id": "cc2ee864",
   "metadata": {},
   "outputs": [
    {
     "data": {
      "text/plain": [
       "tuple"
      ]
     },
     "execution_count": 4,
     "metadata": {},
     "output_type": "execute_result"
    }
   ],
   "source": [
    "# Trong vscode sử dụng print còn Jupyter Notebook sử dụng print không hiển thị trên Github\n",
    "type(first)"
   ]
  },
  {
   "cell_type": "code",
   "execution_count": 5,
   "id": "20fea383",
   "metadata": {},
   "outputs": [
    {
     "data": {
      "text/plain": [
       "tuple"
      ]
     },
     "execution_count": 5,
     "metadata": {},
     "output_type": "execute_result"
    }
   ],
   "source": [
    "type(mid)"
   ]
  },
  {
   "cell_type": "code",
   "execution_count": 6,
   "id": "03fad869",
   "metadata": {},
   "outputs": [
    {
     "data": {
      "text/plain": [
       "tuple"
      ]
     },
     "execution_count": 6,
     "metadata": {},
     "output_type": "execute_result"
    }
   ],
   "source": [
    "type(last)"
   ]
  },
  {
   "cell_type": "code",
   "execution_count": 7,
   "id": "a464a341",
   "metadata": {},
   "outputs": [
    {
     "name": "stdout",
     "output_type": "stream",
     "text": [
      "Nhập vào tên người bạn\t: Jeff\n",
      "Nhập vào giới tính\t: Male\n",
      "[('Bob', 'Male'), ('Anna', 'Female'), ('Max', 'Male'), ('Jeff', 'Male')]\n"
     ]
    }
   ],
   "source": [
    "# c. Nhập vào tên (name) và giới tính (gender) của một người bạn sau đó append vào friends tuple gồm hai giá trị (name, gender)\n",
    "friend_name = input(\"Nhập vào tên người bạn\\t: \")\n",
    "gender      = input(\"Nhập vào giới tính\\t: \")\n",
    "\n",
    "friend_tuple = (friend_name, gender)\n",
    "\n",
    "friends.append(friend_tuple)\n",
    "\n",
    "print(friends)"
   ]
  },
  {
   "cell_type": "markdown",
   "id": "d8829f00",
   "metadata": {},
   "source": [
    "#### 2. Tạo một set trống có tên là set_a\n",
    "+ a. Thêm 'Anna' vào set_a\n",
    "+ b. Thêm một tuple ('Kenny', 'Jen', 'Danny')\n",
    "+ c. In ra set_a và tính chiều dài của nó\n",
    "+ d. Xóa 'Jen' ra khỏi set_a\n",
    "+ e. Xóa tất cả các giá trị từ set_a"
   ]
  },
  {
   "cell_type": "code",
   "execution_count": 8,
   "id": "907a1014",
   "metadata": {},
   "outputs": [],
   "source": [
    "# Tạo một set trống có tên là set_a\n",
    "set_a = set()"
   ]
  },
  {
   "cell_type": "code",
   "execution_count": 9,
   "id": "6427db4b",
   "metadata": {},
   "outputs": [],
   "source": [
    "# a. Thêm 'Anna' vào set_a\n",
    "set_a.add('Anna')"
   ]
  },
  {
   "cell_type": "code",
   "execution_count": 10,
   "id": "221d3f71",
   "metadata": {},
   "outputs": [],
   "source": [
    "# b. Thêm một tuple ('Kenny', 'Jen', 'Danny')\n",
    "set_a.update(('Kenny', 'Jen', 'Danny'))"
   ]
  },
  {
   "cell_type": "code",
   "execution_count": 11,
   "id": "7a109545",
   "metadata": {},
   "outputs": [
    {
     "name": "stdout",
     "output_type": "stream",
     "text": [
      "{'Danny', 'Anna', 'Kenny', 'Jen'}\n",
      "4\n"
     ]
    }
   ],
   "source": [
    "# c. In ra set_a và tính chiều dài của nó\n",
    "print(set_a)\n",
    "print(len(set_a))"
   ]
  },
  {
   "cell_type": "code",
   "execution_count": 12,
   "id": "3fcdae65",
   "metadata": {},
   "outputs": [],
   "source": [
    "# d. Xóa 'Jen' ra khỏi set_a\n",
    "set_a.remove('Jen')"
   ]
  },
  {
   "cell_type": "code",
   "execution_count": 13,
   "id": "22c967eb",
   "metadata": {},
   "outputs": [],
   "source": [
    "# e. Xóa tất cả các giá trị từ set_a\n",
    "set_a.clear()"
   ]
  },
  {
   "cell_type": "code",
   "execution_count": 14,
   "id": "8d6c6e61",
   "metadata": {},
   "outputs": [
    {
     "name": "stdout",
     "output_type": "stream",
     "text": [
      "set()\n"
     ]
    }
   ],
   "source": [
    "print(set_a)"
   ]
  }
 ],
 "metadata": {
  "kernelspec": {
   "display_name": "Python 3 (ipykernel)",
   "language": "python",
   "name": "python3"
  },
  "language_info": {
   "codemirror_mode": {
    "name": "ipython",
    "version": 3
   },
   "file_extension": ".py",
   "mimetype": "text/x-python",
   "name": "python",
   "nbconvert_exporter": "python",
   "pygments_lexer": "ipython3",
   "version": "3.10.8"
  }
 },
 "nbformat": 4,
 "nbformat_minor": 5
}
