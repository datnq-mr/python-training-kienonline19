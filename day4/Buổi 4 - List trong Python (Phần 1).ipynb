{
 "cells": [
  {
   "cell_type": "markdown",
   "id": "7a175486",
   "metadata": {},
   "source": [
    "### 1. List là gì ?\n",
    "+ Như chúng ta đã biết trước đó, một biến chỉ giữ một giá trị duy nhất. Bây giờ câu hỏi là: làm cách nào để giữ nhiều giá trị trong một biến ?\n",
    "+ Khái niệm List (kiểu dữ liệu danh sách) sẽ giải quyết cho chúng ta vấn đề bên trên\n",
    "+ List trong Python là một cấu trúc dữ liệu dùng để giữ nhiều giá trị trong một biến duy nhất\n",
    "+ List được tạo sử dụng cặp dấu ngoặc vuông []\n",
    "+ Những giá trị trong một list có thứ tự, có thể thay đổi và cho phép những phần tử trùng lặp\n",
    "+ NHỚ: một phần tử (element, item) đề cập tới một biến (variable) hay một giá trị (value) trong list"
   ]
  },
  {
   "cell_type": "markdown",
   "id": "7cefd5f9",
   "metadata": {},
   "source": [
    "#### a. Tạo một list trong Python"
   ]
  },
  {
   "cell_type": "code",
   "execution_count": 1,
   "id": "c5285042",
   "metadata": {},
   "outputs": [
    {
     "data": {
      "text/plain": [
       "list"
      ]
     },
     "execution_count": 1,
     "metadata": {},
     "output_type": "execute_result"
    }
   ],
   "source": [
    "# Tạo (định nghĩa, khai báo) một danh sách (list) số nguyên\n",
    "int_numbers = [1, 10, -23, 4, 5] # cặp dấu [] (ngoặc vuông) thể hiện int_numbers là một list\n",
    "type(int_numbers) # In ra kiểu của int_numbers (list)"
   ]
  },
  {
   "cell_type": "code",
   "execution_count": 2,
   "id": "ecbab377",
   "metadata": {},
   "outputs": [
    {
     "name": "stdout",
     "output_type": "stream",
     "text": [
      "[1, 10, -23, 4, 5]\n"
     ]
    }
   ],
   "source": [
    "print(int_numbers) # In biểu diễn của list ra ngoài màn hình"
   ]
  },
  {
   "cell_type": "code",
   "execution_count": 3,
   "id": "4d3ed7df",
   "metadata": {},
   "outputs": [
    {
     "data": {
      "text/plain": [
       "list"
      ]
     },
     "execution_count": 3,
     "metadata": {},
     "output_type": "execute_result"
    }
   ],
   "source": [
    "# Tạo (định nghĩa, khai báo) một danh sách (list) số thực\n",
    "float_numbers = [0.25, -1.25, 3.5, 3.0]\n",
    "type(float_numbers)"
   ]
  },
  {
   "cell_type": "code",
   "execution_count": 4,
   "id": "b283b5d9",
   "metadata": {},
   "outputs": [
    {
     "name": "stdout",
     "output_type": "stream",
     "text": [
      "[0.25, -1.25, 3.5, 3.0]\n"
     ]
    }
   ],
   "source": [
    "print(float_numbers)"
   ]
  },
  {
   "cell_type": "code",
   "execution_count": 5,
   "id": "901f06e7",
   "metadata": {},
   "outputs": [
    {
     "data": {
      "text/plain": [
       "list"
      ]
     },
     "execution_count": 5,
     "metadata": {},
     "output_type": "execute_result"
    }
   ],
   "source": [
    "# Tạo ra một danh sách (list) những người bạn\n",
    "friends = [\"Bob\", \"Jen\", \"Kenny\", \"Jack\", \"John\"]\n",
    "type(friends)"
   ]
  },
  {
   "cell_type": "code",
   "execution_count": 6,
   "id": "b220e31b",
   "metadata": {},
   "outputs": [
    {
     "name": "stdout",
     "output_type": "stream",
     "text": [
      "['Bob', 'Jen', 'Kenny', 'Jack', 'John']\n"
     ]
    }
   ],
   "source": [
    "print(friends)"
   ]
  },
  {
   "cell_type": "markdown",
   "id": "b59d47d0",
   "metadata": {},
   "source": [
    "#### Lưu ý:\n",
    "+ Trong một list các giá trị nên có cùng kiểu để thể hiện ý nghĩa của tên biến, ví dụ: friends = [\"Bob\", 2, \"John\"] thì 2 không thể hiện là một tên người bạn.\n",
    "+ Chỉ số (thứ tự) trong một list bắt đầu từ 0, ví dụ: list a = [1, 2, 3] thì a[0] = 1, a[1] = 2, a[2] = 3, giá trị ở chỉ số 0 là 1, ở chỉ số 1 là 2 và còn lại ở chỉ số 2 là 3"
   ]
  },
  {
   "cell_type": "markdown",
   "id": "e9e0ce0a",
   "metadata": {},
   "source": [
    "#### b. Truy cập những giá trị trong list\n",
    "+ NHỚ: Trong Python: Chỉ số trong list bắt đầu từ 0 và chỉ số giá trị cuối cùng trong list là -1"
   ]
  },
  {
   "cell_type": "code",
   "execution_count": 7,
   "id": "93695e0c",
   "metadata": {},
   "outputs": [
    {
     "name": "stdout",
     "output_type": "stream",
     "text": [
      "giá trị thứ nhất trong list [1, -2.5, 6, 7, 0.5] là 1\n",
      "giá trị thứ hai trong list [1, -2.5, 6, 7, 0.5] là -2.5\n",
      "giá trị cuối cùng trong list [1, -2.5, 6, 7, 0.5] là 0.5\n"
     ]
    }
   ],
   "source": [
    "# Đánh chỉ số như sau\n",
    "# index: chỉ số\n",
    "# +: dương, -: âm\n",
    "#index(+)  0   1    2  3  4\n",
    "#index(-) -5  -4   -3 -2 -1\n",
    "numbers = [1, -2.5, 6, 7, 0.5] # Tạo một list các số\n",
    "# Truy cập giá trị đầu tiên trong list\n",
    "print(f\"giá trị thứ nhất trong list {numbers} là {numbers[0]}\")\n",
    "\n",
    "# Truy cập giá trị thứ hai trong list\n",
    "# giá trị thứ hai nằm ở chỉ số 1\n",
    "print(f\"giá trị thứ hai trong list {numbers} là {numbers[1]}\")\n",
    "\n",
    "# Truy cập giá trị cuối cùng trong list\n",
    "# giá trị cuối cùng nằm ở chỉ số -1\n",
    "print(f\"giá trị cuối cùng trong list {numbers} là {numbers[-1]}\")"
   ]
  },
  {
   "cell_type": "markdown",
   "id": "2497ab88",
   "metadata": {},
   "source": [
    "#### c. Thay đổi giá trị của một phần tử (element) trong list\n",
    "+ Để thay đổi giá trị của một phần tử (item, element) thì chúng ta đề cập tới chỉ số"
   ]
  },
  {
   "cell_type": "code",
   "execution_count": 8,
   "id": "bcf87323",
   "metadata": {},
   "outputs": [
    {
     "name": "stdout",
     "output_type": "stream",
     "text": [
      "1\n",
      "100\n"
     ]
    }
   ],
   "source": [
    "numbers = [1, 2, 3, 4]\n",
    "# Ban đầu phần tử ở chỉ số 0 có giá trị 1\n",
    "print(numbers[0])\n",
    "\n",
    "# Thay đổi giá trị của phần tử tại chỉ số 0 thành 100\n",
    "numbers[0] = 100\n",
    "print(numbers[0])"
   ]
  },
  {
   "cell_type": "code",
   "execution_count": 9,
   "id": "3cef7555",
   "metadata": {},
   "outputs": [
    {
     "name": "stdout",
     "output_type": "stream",
     "text": [
      "Số lượng giá trị của numbers: 4\n"
     ]
    }
   ],
   "source": [
    "# Lấy số lượng các giá trị trong list hay chiều dài của một list\n",
    "# chúng ta sử dụng hàm len trên list\n",
    "# Ví dụ:\n",
    "numbers = [1, 20, -30, 455]\n",
    "print(\"Số lượng giá trị của numbers:\", len(numbers))"
   ]
  },
  {
   "cell_type": "markdown",
   "id": "a215bd2e",
   "metadata": {},
   "source": [
    "#### d. Thêm một phần tử vào cuối của list\n",
    "+ Để thêm một giá trị vào cuối của list chúng ta sử dụng phương thức (hàm trong class) append trên list"
   ]
  },
  {
   "cell_type": "code",
   "execution_count": 10,
   "id": "4648225e",
   "metadata": {},
   "outputs": [
    {
     "name": "stdout",
     "output_type": "stream",
     "text": [
      "Ban đầu: ['mango', 'banana', 'lemon', 'apple']\n",
      "Sau đó:  ['mango', 'banana', 'lemon', 'apple', 'orange']\n"
     ]
    }
   ],
   "source": [
    "# Định nghĩa một danh sách (list) các loại hoa quả\n",
    "fruits = [\"mango\", \"banana\", \"lemon\", \"apple\"] # một danh sách chứa những chuỗi ký tự\n",
    "print(\"Ban đầu:\", fruits)\n",
    "\n",
    "# Thêm một giá trị tới cuối của fruits list\n",
    "fruits.append(\"orange\")\n",
    "\n",
    "# In kết quả ra ngoài màn hình\n",
    "print(\"Sau đó: \", fruits)"
   ]
  },
  {
   "cell_type": "markdown",
   "id": "7d8db3ef",
   "metadata": {},
   "source": [
    "#### Để ý giá trị 'orange' đã được thêm vào cuối của fruits list"
   ]
  },
  {
   "cell_type": "markdown",
   "id": "78fc7bc6",
   "metadata": {},
   "source": [
    "#### e. Xóa một phần tử từ một list\n",
    "+ Để xóa một phần tử từ một list thì chúng ta sử dụng hàm remove trên list\n",
    "+ Nếu phần tử cần xóa không tồn tại trong list thì việc xóa sẽ gặp lỗi"
   ]
  },
  {
   "cell_type": "code",
   "execution_count": 11,
   "id": "e26c78f7",
   "metadata": {},
   "outputs": [
    {
     "name": "stdout",
     "output_type": "stream",
     "text": [
      "Ban đầu: ['mango', 'banana', 'lemon', 'apple', 'mango']\n",
      "Sau đó:  ['banana', 'lemon', 'apple', 'mango']\n"
     ]
    }
   ],
   "source": [
    "# Lưu ý: list có thể chứa các giá trị trùng lặp, ví dụ như giá trị 'mango' ở bên dưới\n",
    "fruits = [\"mango\", \"banana\", \"lemon\", \"apple\", \"mango\"]\n",
    "print(\"Ban đầu:\", fruits)\n",
    "\n",
    "# Xóa giá trị 'mango' được tìm thấy đầu tiên ra khỏi fruits\n",
    "# chứ không phải xóa tất cả giá trị 'mango' có trong list\n",
    "fruits.remove(\"mango\")\n",
    "print(\"Sau đó: \", fruits)"
   ]
  },
  {
   "cell_type": "code",
   "execution_count": 12,
   "id": "5ef35187",
   "metadata": {},
   "outputs": [
    {
     "ename": "ValueError",
     "evalue": "list.remove(x): x not in list",
     "output_type": "error",
     "traceback": [
      "\u001b[1;31m---------------------------------------------------------------------------\u001b[0m",
      "\u001b[1;31mValueError\u001b[0m                                Traceback (most recent call last)",
      "Cell \u001b[1;32mIn[12], line 2\u001b[0m\n\u001b[0;32m      1\u001b[0m \u001b[38;5;66;03m# Xóa một giá trị không nằm trong fruits (là một list)\u001b[39;00m\n\u001b[1;32m----> 2\u001b[0m \u001b[43mfruits\u001b[49m\u001b[38;5;241;43m.\u001b[39;49m\u001b[43mremove\u001b[49m\u001b[43m(\u001b[49m\u001b[38;5;124;43m\"\u001b[39;49m\u001b[38;5;124;43mgrape\u001b[39;49m\u001b[38;5;124;43m\"\u001b[39;49m\u001b[43m)\u001b[49m\n",
      "\u001b[1;31mValueError\u001b[0m: list.remove(x): x not in list"
     ]
    }
   ],
   "source": [
    "# Xóa một giá trị không nằm trong fruits (là một list)\n",
    "fruits.remove(\"grape\")"
   ]
  },
  {
   "cell_type": "markdown",
   "id": "41db39af",
   "metadata": {},
   "source": [
    "#### f. Mở rộng một list bằng một list khác\n",
    "+ Để làm như vậy chúng ta sử dụng hàm extend trên list"
   ]
  },
  {
   "cell_type": "code",
   "execution_count": 13,
   "id": "eb11f324",
   "metadata": {},
   "outputs": [
    {
     "name": "stdout",
     "output_type": "stream",
     "text": [
      "Ban đầu: ['Kenny', 'Jack', 'John', 'Jose', 'Mary']\n",
      "Sau đó:  ['Kenny', 'Jack', 'John', 'Jose', 'Mary', 'Bob', 'Jen', 'David']\n"
     ]
    }
   ],
   "source": [
    "# Ví dụ\n",
    "friends = [\"Kenny\", \"Jack\", \"John\", \"Jose\", \"Mary\"]\n",
    "print(\"Ban đầu:\", friends)\n",
    "\n",
    "# Thêm vào cuối friends một danh sách khác\n",
    "friends.extend([\"Bob\", \"Jen\", \"David\"])\n",
    "\n",
    "print(\"Sau đó: \", friends)"
   ]
  },
  {
   "cell_type": "markdown",
   "id": "666d1e7a",
   "metadata": {},
   "source": [
    "#### g. Đảo ngược một list\n",
    "+ Để làm như vậy chúng ta sử dụng hàm reverse trên list"
   ]
  },
  {
   "cell_type": "code",
   "execution_count": 14,
   "id": "e203140a",
   "metadata": {},
   "outputs": [
    {
     "name": "stdout",
     "output_type": "stream",
     "text": [
      "Ban đầu: ['Kenny', 'Jack', 'John', 'Jose', 'Mary']\n",
      "Sau đó:  ['Mary', 'Jose', 'John', 'Jack', 'Kenny']\n"
     ]
    }
   ],
   "source": [
    "# Ví dụ\n",
    "friends = [\"Kenny\", \"Jack\", \"John\", \"Jose\", \"Mary\"]\n",
    "print(\"Ban đầu:\", friends)\n",
    "\n",
    "# Đảo ngược một list\n",
    "friends.reverse()\n",
    "\n",
    "print(\"Sau đó: \", friends)"
   ]
  },
  {
   "cell_type": "markdown",
   "id": "baecf4b7",
   "metadata": {},
   "source": [
    "#### h. Làm trống danh sách (list)\n",
    "+ Một danh sách trống là list không có một giá trị nào bên trong cả\n",
    "+ Ví dụ: a = [] thì a là một list trống\n",
    "+ Sử dụng hàm clear trên list"
   ]
  },
  {
   "cell_type": "code",
   "execution_count": 15,
   "id": "0cdc5318",
   "metadata": {},
   "outputs": [
    {
     "name": "stdout",
     "output_type": "stream",
     "text": [
      "Ban đầu: ['Kenny', 'Jack', 'John', 'Jose', 'Mary']\n",
      "Sau đó:  []\n"
     ]
    }
   ],
   "source": [
    "# Ví dụ\n",
    "friends = [\"Kenny\", \"Jack\", \"John\", \"Jose\", \"Mary\"]\n",
    "print(\"Ban đầu:\", friends)\n",
    "\n",
    "# Xóa tất cả các giá trị ra khỏi friends list\n",
    "friends.clear()\n",
    "\n",
    "print(\"Sau đó: \", friends)"
   ]
  },
  {
   "cell_type": "markdown",
   "id": "287fc7e4",
   "metadata": {},
   "source": [
    "#### i. Lấy chỉ số của một giá trị (element, item) trong list\n",
    "+ Sử dụng hàm index trên list\n",
    "+ Nếu giá trị truyền vào index không tồn tại thì sẽ gặp lỗi"
   ]
  },
  {
   "cell_type": "code",
   "execution_count": 16,
   "id": "e25527e8",
   "metadata": {},
   "outputs": [
    {
     "name": "stdout",
     "output_type": "stream",
     "text": [
      "Chỉ số của phần từ có giá trị Jack trong list: 1\n"
     ]
    }
   ],
   "source": [
    "# Đánh chỉ số\n",
    "#             0        1       2       3       4\n",
    "friends = [\"Kenny\", \"Jack\", \"John\", \"Jose\", \"Mary\"]\n",
    "\n",
    "# Lấy chỉ số của giá trị 'Jack'\n",
    "index_of_jack = friends.index(\"Jack\")\n",
    "\n",
    "print(\"Chỉ số của phần từ có giá trị Jack trong list:\", index_of_jack)"
   ]
  },
  {
   "cell_type": "code",
   "execution_count": 17,
   "id": "48789838",
   "metadata": {},
   "outputs": [
    {
     "ename": "ValueError",
     "evalue": "'Paul' is not in list",
     "output_type": "error",
     "traceback": [
      "\u001b[1;31m---------------------------------------------------------------------------\u001b[0m",
      "\u001b[1;31mValueError\u001b[0m                                Traceback (most recent call last)",
      "Cell \u001b[1;32mIn[17], line 2\u001b[0m\n\u001b[0;32m      1\u001b[0m \u001b[38;5;66;03m# Lấy chỉ số của giá trị không tồn tại trong list\u001b[39;00m\n\u001b[1;32m----> 2\u001b[0m index_of_paul \u001b[38;5;241m=\u001b[39m \u001b[43mfriends\u001b[49m\u001b[38;5;241;43m.\u001b[39;49m\u001b[43mindex\u001b[49m\u001b[43m(\u001b[49m\u001b[38;5;124;43m\"\u001b[39;49m\u001b[38;5;124;43mPaul\u001b[39;49m\u001b[38;5;124;43m\"\u001b[39;49m\u001b[43m)\u001b[49m\n",
      "\u001b[1;31mValueError\u001b[0m: 'Paul' is not in list"
     ]
    }
   ],
   "source": [
    "# Lấy chỉ số của giá trị không tồn tại trong list\n",
    "index_of_paul = friends.index(\"Paul\")"
   ]
  },
  {
   "cell_type": "markdown",
   "id": "884bab17",
   "metadata": {},
   "source": [
    "#### k. Đếm số lượng một giá trị trong list\n",
    "+ Sử dụng hàm count trên list\n",
    "+ Giá trị không tồn tại trả về 0"
   ]
  },
  {
   "cell_type": "code",
   "execution_count": 18,
   "id": "d6452139",
   "metadata": {},
   "outputs": [
    {
     "name": "stdout",
     "output_type": "stream",
     "text": [
      "Số lượng giá trị 1 trong numbers: 4\n"
     ]
    }
   ],
   "source": [
    "# Ví dụ\n",
    "numbers = [1, 2, 1, 3, 2, 4, 1, 1, 2]\n",
    "\n",
    "# Lấy số lượng của giá trị 1 trong numbers (list)\n",
    "count_for_one = numbers.count(1)\n",
    "\n",
    "print(\"Số lượng giá trị 1 trong numbers:\", count_for_one)"
   ]
  },
  {
   "cell_type": "code",
   "execution_count": 19,
   "id": "70effd07",
   "metadata": {},
   "outputs": [
    {
     "name": "stdout",
     "output_type": "stream",
     "text": [
      "Số lượng giá trị 100 trong numbers: 0\n"
     ]
    }
   ],
   "source": [
    "# Đếm giá trị 100 trong numbers\n",
    "count_for_100 = numbers.count(100)\n",
    "\n",
    "print(\"Số lượng giá trị 100 trong numbers:\", count_for_100)"
   ]
  },
  {
   "cell_type": "markdown",
   "id": "04150f4c",
   "metadata": {},
   "source": [
    "#### k. Lấy giá trị cuối và xóa giá trị đó ra khỏi List\n",
    "+ Sử dụng hàm pop trên list"
   ]
  },
  {
   "cell_type": "code",
   "execution_count": 20,
   "id": "22d759dd",
   "metadata": {},
   "outputs": [
    {
     "name": "stdout",
     "output_type": "stream",
     "text": [
      "Ban đầu: ['Kenny', 'Jack', 'John', 'Jose', 'Mary']\n",
      "Giá trị cuối cùng trong list: Mary\n",
      "Sau đó:  ['Kenny', 'Jack', 'John', 'Jose']\n"
     ]
    }
   ],
   "source": [
    "# Ví dụ\n",
    "friends = [\"Kenny\", \"Jack\", \"John\", \"Jose\", \"Mary\"]\n",
    "print(\"Ban đầu:\", friends)\n",
    "\n",
    "# Lấy giá trị cuối và xóa giá trị đó ra khỏi List\n",
    "last_value = friends.pop()\n",
    "\n",
    "print(\"Giá trị cuối cùng trong list:\", last_value)\n",
    "print(\"Sau đó: \", friends)"
   ]
  },
  {
   "cell_type": "markdown",
   "id": "b2c174f3",
   "metadata": {},
   "source": [
    "#### l. Chèn một giá trị vào một vị trí bất ký trong list\n",
    "+ Sử dụng insert trên list"
   ]
  },
  {
   "cell_type": "code",
   "execution_count": 21,
   "id": "a343c9ee",
   "metadata": {},
   "outputs": [
    {
     "name": "stdout",
     "output_type": "stream",
     "text": [
      "Ban đầu: ['Kenny', 'Jack', 'John', 'Jose', 'Mary']\n",
      "Sau đó:  ['David', 'Kenny', 'Jack', 'John', 'Jose', 'Mary']\n"
     ]
    }
   ],
   "source": [
    "#             0        1       2       3      4\n",
    "friends = [\"Kenny\", \"Jack\", \"John\", \"Jose\", \"Mary\"]\n",
    "print(\"Ban đầu:\", friends)\n",
    "\n",
    "# Chèn 'David' vào vị trí đầu (chỉ số 0)\n",
    "friends.insert(0, \"David\")\n",
    "\n",
    "print(\"Sau đó: \", friends)"
   ]
  },
  {
   "cell_type": "code",
   "execution_count": 22,
   "id": "b05b6852",
   "metadata": {},
   "outputs": [
    {
     "name": "stdout",
     "output_type": "stream",
     "text": [
      "['Jen', 'David', 'Kenny', 'Jack', 'John', 'Jose', 'Mary']\n"
     ]
    }
   ],
   "source": [
    "# Chèn vào một vị trí không tồn tại\n",
    "# thì insert sẽ chèn mặc định vào cuối nếu chỉ số dương (+)\n",
    "# vào đầu nếu chỉ số âm\n",
    "friends.insert(-100, \"Jen\")\n",
    "\n",
    "print(friends)"
   ]
  },
  {
   "cell_type": "markdown",
   "id": "567e7c97",
   "metadata": {},
   "source": [
    "## 2. Bài tập\n",
    "### Lưu ý: bài tập có nhiều yêu cầu liên quan đến nhau nên mọi người để trong một file nhé\n",
    "1. Tạo một movies list chứa tên các bộ phim đã xem\n",
    "2. Sử dụng hàm input để nhập vào một bộ phim khác không có trong movies list\n",
    "3. Thêm bộ phim vừa nhập vào cuối của danh sách movies\n",
    "4. In ra bộ phim đầu tiên, cuối cùng và ở giữa movies list\n",
    "5. Tính tổng bộ phim có trong movies\n",
    "6. Xóa bộ phim đầu và cuối trong movies\n",
    "7. Lấy ra và xóa bộ phim cuối cùng trong movies\n",
    "8. Chèn một bộ phim bất kỳ vào đầu danh sách movies\n",
    "9. Đếm số bộ phim có tiêu đề là \"One Piece\"\n",
    "10. Tìm vị trí của bộ phim có tên là \"gió\"\n",
    "11. Thêm một danh sách bộ phim khác vào cuối danh sách movies ban đầu\n",
    "12. Xóa tất cả các bộ phim có trong danh sách"
   ]
  }
 ],
 "metadata": {
  "kernelspec": {
   "display_name": "Python 3 (ipykernel)",
   "language": "python",
   "name": "python3"
  },
  "language_info": {
   "codemirror_mode": {
    "name": "ipython",
    "version": 3
   },
   "file_extension": ".py",
   "mimetype": "text/x-python",
   "name": "python",
   "nbconvert_exporter": "python",
   "pygments_lexer": "ipython3",
   "version": "3.10.8"
  }
 },
 "nbformat": 4,
 "nbformat_minor": 5
}
