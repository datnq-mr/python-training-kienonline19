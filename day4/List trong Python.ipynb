{
 "cells": [
  {
   "cell_type": "markdown",
   "id": "7a175486",
   "metadata": {},
   "source": [
    "### 1. List là gì ?\n",
    "+ Như chúng ta đã biết trước đó, một biến chỉ giữ một giá trị duy nhất. Bây giờ câu hỏi là: làm cách nào để giữ nhiều giá trị trong một biến ?\n",
    "+ Khái niệm List (kiểu dữ liệu danh sách) sẽ giải quyết cho chúng ta vấn đề bên trên\n",
    "+ List trong Python là một cấu trúc dữ liệu dùng để giữ nhiều giá trị trong một biến duy nhất\n",
    "+ List được tạo sử dụng cặp dấu ngoặc vuông []\n",
    "+ Những giá trị trong một list có thứ tự, có thể thay đổi và cho phép những phần tử trùng lặp"
   ]
  },
  {
   "cell_type": "markdown",
   "id": "7cefd5f9",
   "metadata": {},
   "source": [
    "#### a. Tạo một list trong Python"
   ]
  },
  {
   "cell_type": "code",
   "execution_count": 1,
   "id": "c5285042",
   "metadata": {},
   "outputs": [
    {
     "name": "stdout",
     "output_type": "stream",
     "text": [
      "<class 'list'>\n",
      "[1, 10, -23, 4, 5]\n"
     ]
    }
   ],
   "source": [
    "# Tạo (định nghĩa, khai báo) một danh sách (list) số nguyên\n",
    "int_numbers = [1, 10, -23, 4, 5] # cặp dấu [] (ngoặc vuông) thể hiện int_numbers là một list\n",
    "print(type(int_numbers)) # In ra kiểu của int_numbers (list)\n",
    "print(int_numbers) # In biểu diễn của list ra ngoài màn hình"
   ]
  },
  {
   "cell_type": "code",
   "execution_count": 2,
   "id": "4d3ed7df",
   "metadata": {},
   "outputs": [
    {
     "name": "stdout",
     "output_type": "stream",
     "text": [
      "<class 'list'>\n",
      "[0.25, -1.25, 3.5, 3.0]\n"
     ]
    }
   ],
   "source": [
    "# Tạo (định nghĩa, khai báo) một danh sách (list) số thực\n",
    "float_numbers = [0.25, -1.25, 3.5, 3.0]\n",
    "print(type(float_numbers))\n",
    "print(float_numbers)"
   ]
  },
  {
   "cell_type": "code",
   "execution_count": 3,
   "id": "901f06e7",
   "metadata": {},
   "outputs": [
    {
     "name": "stdout",
     "output_type": "stream",
     "text": [
      "<class 'list'>\n",
      "['Bob', 'Jen', 'Kenny', 'Jack', 'John']\n"
     ]
    }
   ],
   "source": [
    "# Tạo ra một danh sách (list) những người bạn\n",
    "friends = [\"Bob\", \"Jen\", \"Kenny\", \"Jack\", \"John\"]\n",
    "print(type(friends))\n",
    "print(friends)"
   ]
  },
  {
   "cell_type": "markdown",
   "id": "b59d47d0",
   "metadata": {},
   "source": [
    "#### Lưu ý:\n",
    "+ Trong một list các giá trị nên có cùng kiểu để thể hiện ý nghĩa của tên biến, ví dụ: friends = [\"Bob\", 2, \"John\"] thì 2 không thể hiện là một tên người bạn.\n",
    "+ Chỉ số (thứ tự) trong một list bắt đầu từ 0, ví dụ: list a = [1, 2, 3] thì a[0] = 1, a[1] = 2, a[2] = 3, giá trị ở chỉ số 0 là 1, ở chỉ số 1 là 2 và còn lại ở chỉ số 2 là 3"
   ]
  },
  {
   "cell_type": "markdown",
   "id": "e9e0ce0a",
   "metadata": {},
   "source": [
    "#### b. Truy cập những giá trị trong list\n",
    "+ NHỚ: Chỉ số trong list bắt đầu từ 0 và chỉ số giá trị cuối cùng trong list là -1"
   ]
  },
  {
   "cell_type": "code",
   "execution_count": 4,
   "id": "93695e0c",
   "metadata": {},
   "outputs": [
    {
     "name": "stdout",
     "output_type": "stream",
     "text": [
      "giá trị thứ nhất trong list [1, -2.5, 6, 7, 0.5] là 1\n",
      "giá trị thứ hai trong list [1, -2.5, 6, 7, 0.5] là -2.5\n",
      "giá trị cuối cùng trong list [1, -2.5, 6, 7, 0.5] là 0.5\n"
     ]
    }
   ],
   "source": [
    "# Đánh chỉ số như sau\n",
    "# index: chỉ số\n",
    "# +: dương, -: âm\n",
    "#index(+)  0   1    2  3  4\n",
    "#index(-) -5  -4   -3 -2 -1\n",
    "numbers = [1, -2.5, 6, 7, 0.5] # Tạo một list các số\n",
    "# Truy cập giá trị đầu tiên trong list\n",
    "print(f\"giá trị thứ nhất trong list {numbers} là {numbers[0]}\")\n",
    "\n",
    "# Truy cập giá trị thứ hai trong list\n",
    "# giá trị thứ hai nằm ở chỉ số 1\n",
    "print(f\"giá trị thứ hai trong list {numbers} là {numbers[1]}\")\n",
    "\n",
    "# Truy cập giá trị cuối cùng trong list\n",
    "# giá trị cuối cùng nằm ở chỉ số -1\n",
    "print(f\"giá trị cuối cùng trong list {numbers} là {numbers[-1]}\")"
   ]
  },
  {
   "cell_type": "code",
   "execution_count": null,
   "id": "c70d8388",
   "metadata": {},
   "outputs": [],
   "source": []
  }
 ],
 "metadata": {
  "kernelspec": {
   "display_name": "Python 3 (ipykernel)",
   "language": "python",
   "name": "python3"
  },
  "language_info": {
   "codemirror_mode": {
    "name": "ipython",
    "version": 3
   },
   "file_extension": ".py",
   "mimetype": "text/x-python",
   "name": "python",
   "nbconvert_exporter": "python",
   "pygments_lexer": "ipython3",
   "version": "3.10.8"
  }
 },
 "nbformat": 4,
 "nbformat_minor": 5
}
