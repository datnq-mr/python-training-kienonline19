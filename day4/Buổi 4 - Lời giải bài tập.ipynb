{
 "cells": [
  {
   "cell_type": "markdown",
   "id": "4fd651d7",
   "metadata": {},
   "source": [
    "## Bài tập\n",
    "### Lưu ý: bài tập có nhiều yêu cầu liên quan đến nhau nên mọi người để trong một file nhé\n",
    "1. Tạo một movies list chứa tên các bộ phim đã xem\n",
    "2. Sử dụng hàm input để nhập vào một bộ phim khác không có trong movies list\n",
    "3. Thêm bộ phim vừa nhập vào cuối của danh sách movies\n",
    "4. In ra bộ phim đầu tiên, cuối cùng và ở giữa movies list\n",
    "5. Tính tổng bộ phim có trong movies\n",
    "6. Xóa bộ phim đầu và cuối trong movies\n",
    "7. Lấy ra và xóa bộ phim cuối cùng trong movies\n",
    "8. Chèn một bộ phim bất kỳ vào đầu danh sách movies\n",
    "9. Đếm số bộ phim có tiêu đề là \"One Piece\"\n",
    "10. Tìm vị trí của bộ phim có tên là \"gió\"\n",
    "11. Thêm một danh sách bộ phim khác vào cuối danh sách movies ban đầu\n",
    "12. Xóa tất cả các bộ phim có trong danh sách"
   ]
  },
  {
   "cell_type": "code",
   "execution_count": 1,
   "id": "fe709f58",
   "metadata": {},
   "outputs": [],
   "source": [
    "# 1. Tạo một movies list chứa tên các bộ phim đã xem\n",
    "# Lưu ý: khi list trở nên dài ra thì chúng ta nên để các giá trị trên các hàng khác nhau\n",
    "movies = [\"Titanic (1997)\", \n",
    "          \"Me Before You\", \n",
    "          \"The Fault in Our Stars\", \n",
    "          \"Winter's Tale\", \n",
    "          \"Love, Rosie\", \n",
    "          \"La La Land\",\n",
    "          \"gió\",\n",
    "         \"Pride and Prejudice\",\n",
    "         \"One Piece\"]"
   ]
  },
  {
   "cell_type": "code",
   "execution_count": 2,
   "id": "5b847854",
   "metadata": {},
   "outputs": [
    {
     "name": "stdout",
     "output_type": "stream",
     "text": [
      "Nhập một bộ phim không có trong\n",
      "['Titanic (1997)', 'Me Before You', 'The Fault in Our Stars', \"Winter's Tale\", 'Love, Rosie', 'La La Land', 'gió', 'Pride and Prejudice', 'One Piece']: Naruto\n"
     ]
    }
   ],
   "source": [
    "# 2. Sử dụng hàm input để nhập vào một bộ phim khác không có trong movies list\n",
    "another_movie = input(f\"Nhập một bộ phim không có trong\\n{movies}: \")"
   ]
  },
  {
   "cell_type": "code",
   "execution_count": 3,
   "id": "5948c451",
   "metadata": {},
   "outputs": [
    {
     "name": "stdout",
     "output_type": "stream",
     "text": [
      "['Titanic (1997)',\n",
      " 'Me Before You',\n",
      " 'The Fault in Our Stars',\n",
      " \"Winter's Tale\",\n",
      " 'Love, Rosie',\n",
      " 'La La Land',\n",
      " 'gió',\n",
      " 'Pride and Prejudice',\n",
      " 'One Piece',\n",
      " 'Naruto']\n"
     ]
    }
   ],
   "source": [
    "# 3. Thêm bộ phim vừa nhập vào cuối của danh sách movies\n",
    "movies.append(another_movie)\n",
    "# Sử dụng pprint module|thư viên|library có sẵn trong Python để in danh sách ra ngoài màn hình\n",
    "# đẹp hơn khi sử dụng hàm print thông thường\n",
    "# Cú pháp\n",
    "from pprint import pprint\n",
    "pprint(movies)"
   ]
  },
  {
   "cell_type": "code",
   "execution_count": 4,
   "id": "8355460c",
   "metadata": {},
   "outputs": [
    {
     "name": "stdout",
     "output_type": "stream",
     "text": [
      "['Titanic (1997)', 'Me Before You', 'The Fault in Our Stars', \"Winter's Tale\", 'Love, Rosie', 'La La Land', 'gió', 'Pride and Prejudice', 'One Piece', 'Naruto']\n"
     ]
    }
   ],
   "source": [
    "# Với hàm print thông thường thì như sau:\n",
    "# Để ý nó không được đẹp mắt cho lắm\n",
    "print(movies)"
   ]
  },
  {
   "cell_type": "code",
   "execution_count": 5,
   "id": "1c5276d7",
   "metadata": {},
   "outputs": [
    {
     "name": "stdout",
     "output_type": "stream",
     "text": [
      "Bộ phim đầu tiên\t: Titanic (1997)\n",
      "Bộ phim cuối cùng\t: Naruto\n",
      "Bộ phim ở giữa\t\t: La La Land\n"
     ]
    }
   ],
   "source": [
    "# 4. In ra bộ phim đầu tiên, cuối cùng và ở giữa movies list\n",
    "# Thêm \\t (dấu Tab trên bàn phím thuông thường = 4 spaces (dấu cách)) để các giá trị có hàng lối ngăn ngắn\n",
    "print(f\"Bộ phim đầu tiên\\t: {movies[0]}\")\n",
    "print(f\"Bộ phim cuối cùng\\t: {movies[-1]}\")\n",
    "\n",
    "# Tính số lượng bộ phim\n",
    "amount = len(movies)\n",
    "print(\"Bộ phim ở giữa\\t\\t:\", movies[amount // 2])"
   ]
  },
  {
   "cell_type": "code",
   "execution_count": 6,
   "id": "e134a3d7",
   "metadata": {},
   "outputs": [
    {
     "name": "stdout",
     "output_type": "stream",
     "text": [
      "Số lượng bộ phim: 10\n"
     ]
    }
   ],
   "source": [
    "# 5. Tính tổng bộ phim có trong movies\n",
    "print(f\"Số lượng bộ phim: {amount}\")"
   ]
  },
  {
   "cell_type": "code",
   "execution_count": 7,
   "id": "6aceaa5e",
   "metadata": {},
   "outputs": [
    {
     "name": "stdout",
     "output_type": "stream",
     "text": [
      "['Me Before You',\n",
      " 'The Fault in Our Stars',\n",
      " \"Winter's Tale\",\n",
      " 'Love, Rosie',\n",
      " 'La La Land',\n",
      " 'gió',\n",
      " 'Pride and Prejudice',\n",
      " 'One Piece']\n"
     ]
    }
   ],
   "source": [
    "# 6. Xóa bộ phim đầu và cuối trong movies\n",
    "first_movie = movies[0]\n",
    "last_movie = movies[-1]\n",
    "\n",
    "movies.remove(first_movie)\n",
    "movies.remove(last_movie)\n",
    "\n",
    "pprint(movies)"
   ]
  },
  {
   "cell_type": "code",
   "execution_count": 8,
   "id": "9ff69dc8",
   "metadata": {},
   "outputs": [
    {
     "name": "stdout",
     "output_type": "stream",
     "text": [
      "['Me Before You',\n",
      " 'The Fault in Our Stars',\n",
      " \"Winter's Tale\",\n",
      " 'Love, Rosie',\n",
      " 'La La Land',\n",
      " 'gió',\n",
      " 'Pride and Prejudice']\n"
     ]
    }
   ],
   "source": [
    "# 7. Lấy ra và xóa bộ phim cuối cùng trong movies\n",
    "last_movie = movies.pop()\n",
    "\n",
    "pprint(movies)"
   ]
  },
  {
   "cell_type": "code",
   "execution_count": 9,
   "id": "34d1cd6e",
   "metadata": {},
   "outputs": [
    {
     "name": "stdout",
     "output_type": "stream",
     "text": [
      "['Attack on titan',\n",
      " 'Me Before You',\n",
      " 'The Fault in Our Stars',\n",
      " \"Winter's Tale\",\n",
      " 'Love, Rosie',\n",
      " 'La La Land',\n",
      " 'gió',\n",
      " 'Pride and Prejudice']\n"
     ]
    }
   ],
   "source": [
    "# 8. Chèn một bộ phim bất kỳ vào đầu danh sách movies\n",
    "movies.insert(0, \"Attack on titan\")\n",
    "pprint(movies)"
   ]
  },
  {
   "cell_type": "code",
   "execution_count": 10,
   "id": "cd675d96",
   "metadata": {},
   "outputs": [
    {
     "name": "stdout",
     "output_type": "stream",
     "text": [
      "Số lượng bộ phim có tiêu đề One Piece: 0\n"
     ]
    }
   ],
   "source": [
    "# 9. Đếm số bộ phim có tiêu đề là \"One Piece\"\n",
    "movie_title = \"One Piece\"\n",
    "number_of_onepiece = movies.count(movie_title)\n",
    "print(f\"Số lượng bộ phim có tiêu đề {movie_title}: {number_of_onepiece}\")"
   ]
  },
  {
   "cell_type": "code",
   "execution_count": 11,
   "id": "8733b554",
   "metadata": {},
   "outputs": [
    {
     "name": "stdout",
     "output_type": "stream",
     "text": [
      "Vị trí bộ phim có tên gió: 6\n"
     ]
    }
   ],
   "source": [
    "# 10. Tìm vị trí của bộ phim có tên là \"gió\"\n",
    "movie_name = \"gió\"\n",
    "position = movies.index(movie_name)\n",
    "\n",
    "print(f\"Vị trí bộ phim có tên {movie_name}: {position}\")"
   ]
  },
  {
   "cell_type": "code",
   "execution_count": 12,
   "id": "a4eb4d01",
   "metadata": {},
   "outputs": [
    {
     "name": "stdout",
     "output_type": "stream",
     "text": [
      "['Attack on titan',\n",
      " 'Me Before You',\n",
      " 'The Fault in Our Stars',\n",
      " \"Winter's Tale\",\n",
      " 'Love, Rosie',\n",
      " 'La La Land',\n",
      " 'gió',\n",
      " 'Pride and Prejudice',\n",
      " 'Golden Kamuy 4th Season',\n",
      " 'Boku no Hero Academia 6th Season',\n",
      " 'Holo no Graffiti',\n",
      " 'Blue Lock']\n"
     ]
    }
   ],
   "source": [
    "# 11. Thêm một danh sách bộ phim khác vào cuối danh sách movies ban đầu\n",
    "another_movies = [\"Golden Kamuy 4th Season\",\n",
    "                  \"Boku no Hero Academia 6th Season\",\n",
    "                  \"Holo no Graffiti\",\n",
    "                  \"Blue Lock\"]\n",
    "movies.extend(another_movies)\n",
    "\n",
    "pprint(movies)"
   ]
  },
  {
   "cell_type": "code",
   "execution_count": 13,
   "id": "998734bb",
   "metadata": {},
   "outputs": [
    {
     "name": "stdout",
     "output_type": "stream",
     "text": [
      "[]\n"
     ]
    }
   ],
   "source": [
    "# 12. Xóa tất cả các bộ phim có trong danh sách\n",
    "movies.clear()\n",
    "print(movies)"
   ]
  }
 ],
 "metadata": {
  "kernelspec": {
   "display_name": "Python 3 (ipykernel)",
   "language": "python",
   "name": "python3"
  },
  "language_info": {
   "codemirror_mode": {
    "name": "ipython",
    "version": 3
   },
   "file_extension": ".py",
   "mimetype": "text/x-python",
   "name": "python",
   "nbconvert_exporter": "python",
   "pygments_lexer": "ipython3",
   "version": "3.10.8"
  }
 },
 "nbformat": 4,
 "nbformat_minor": 5
}
