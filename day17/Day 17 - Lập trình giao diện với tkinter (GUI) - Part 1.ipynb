{
 "cells": [
  {
   "cell_type": "markdown",
   "id": "330116b7",
   "metadata": {},
   "source": [
    "## 1. Tài liệu tiếng việt (đã public lên github private repo)"
   ]
  },
  {
   "cell_type": "markdown",
   "id": "2757453d",
   "metadata": {},
   "source": [
    "## 2. Bài tập\n",
    "+ Tạo các giao diện người dùng và có chức năng tương tác được đặt trong thư mục exercises\n",
    "+ Lời giải cho các bài tập có trong thư mục solutions"
   ]
  }
 ],
 "metadata": {
  "kernelspec": {
   "display_name": "Python 3 (ipykernel)",
   "language": "python",
   "name": "python3"
  },
  "language_info": {
   "codemirror_mode": {
    "name": "ipython",
    "version": 3
   },
   "file_extension": ".py",
   "mimetype": "text/x-python",
   "name": "python",
   "nbconvert_exporter": "python",
   "pygments_lexer": "ipython3",
   "version": "3.10.9"
  }
 },
 "nbformat": 4,
 "nbformat_minor": 5
}
