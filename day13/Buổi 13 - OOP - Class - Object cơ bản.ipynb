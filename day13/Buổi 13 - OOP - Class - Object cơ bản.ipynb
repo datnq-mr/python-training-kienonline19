{
 "cells": [
  {
   "cell_type": "markdown",
   "id": "87516623",
   "metadata": {},
   "source": [
    "## 1. Lập trình hướng đối tượng (OOP) là gì ?\n",
    "+ OOP: một kỹ thuật lập trình đưa các đối tượng ngoài thực tế vào lập trình\n",
    "+ Class - lớp là cái gì đó chung chung không cụ thể. Ví dụ: Đàn ông, đàn bà, con gái, con trai, con mèo, con chó, vv\n",
    "+ Object - đối tượng là cái gì đó cụ thể. Ví dụ: người bạn gái tên Trang của tôi, con mèo Mimi nhà tôi, cái laptop tôi đang sử dụng, vv"
   ]
  },
  {
   "cell_type": "markdown",
   "id": "942dbf3f",
   "metadata": {},
   "source": [
    "## 2. Khai báo class trong Python\n",
    "+ Sử dụng từ khóa class"
   ]
  },
  {
   "cell_type": "code",
   "execution_count": 1,
   "id": "4986005f",
   "metadata": {},
   "outputs": [],
   "source": [
    "class Student:\n",
    "    pass # chẳng làm gì cả, tránh lỗi trống thân class"
   ]
  },
  {
   "cell_type": "markdown",
   "id": "7e0f4e8e",
   "metadata": {},
   "source": [
    "## 3. Tạo ra đối tượng\n",
    "+ Gọi class để tạo ra object"
   ]
  },
  {
   "cell_type": "code",
   "execution_count": 2,
   "id": "b516d257",
   "metadata": {},
   "outputs": [],
   "source": [
    "student_one = Student() # student_one object"
   ]
  },
  {
   "cell_type": "code",
   "execution_count": 3,
   "id": "440d155c",
   "metadata": {},
   "outputs": [
    {
     "name": "stdout",
     "output_type": "stream",
     "text": [
      "<__main__.Student object at 0x000001A4ADF323E0>\n"
     ]
    }
   ],
   "source": [
    "print(student_one)"
   ]
  },
  {
   "cell_type": "markdown",
   "id": "aeccd9e9",
   "metadata": {},
   "source": [
    "## 4. Tạo các thuộc tính (đặc điểm) cho object trong class\n",
    "+ Method (phương thức): hàm nằm bên trong class"
   ]
  },
  {
   "cell_type": "code",
   "execution_count": 4,
   "id": "f381f480",
   "metadata": {},
   "outputs": [
    {
     "name": "stdout",
     "output_type": "stream",
     "text": [
      "Bob\n",
      "23\n"
     ]
    }
   ],
   "source": [
    "# Sử dụng hàm đặc biệt __init__ (dunder methods)\n",
    "class Student: # Khai báo class\n",
    "    \"\"\"\n",
    "    + self      - tham số đầu tiên mặc định của các hàm (method) trong class, có thể đặt tên khác\n",
    "    + name, age - tham số nhận đối số từ việc gọi class\n",
    "    + __init__  - hàm đặc biệt được gọi tự động khi khởi tạo object (hai dấu gạch dưới ở đầu và cuối)\n",
    "    \"\"\"\n",
    "    def __init__(self, name, age):\n",
    "        self.name = name\n",
    "        self.age = age\n",
    "        \n",
    "\n",
    "# Tạo các student_one object với hai thuộc tính name=Bob, age=23\n",
    "student_one = Student(\"Bob\", 23)\n",
    "\n",
    "# Lấy ra name, age từ student_one\n",
    "print(student_one.name)\n",
    "print(student_one.age)"
   ]
  },
  {
   "cell_type": "markdown",
   "id": "8b772154",
   "metadata": {},
   "source": [
    "## 5. Định nghĩa các method khác trong class ngoài __init__"
   ]
  },
  {
   "cell_type": "code",
   "execution_count": 5,
   "id": "328735a9",
   "metadata": {},
   "outputs": [
    {
     "name": "stdout",
     "output_type": "stream",
     "text": [
      "31\n",
      "Name: Bob, age: 31\n"
     ]
    }
   ],
   "source": [
    "class Student:\n",
    "    def __init__(self, name, birth_year):\n",
    "        self.name = name\n",
    "        self.birth_year = birth_year\n",
    "        \n",
    "    def get_age(self):\n",
    "        return 2023 - self.birth_year\n",
    "    \n",
    "    def __str__(self):\n",
    "        return f\"Name: {self.name}, age: {self.get_age()}\"\n",
    "        \n",
    "\n",
    "student_one = Student(\"Bob\", 1992)\n",
    "# Gọi và in ra tuổi của student_one\n",
    "print(student_one.get_age()) # bản chất Student.get_age(student_one)\n",
    "\n",
    "# In ra nội dung của object tự động gọi __str__\n",
    "print(student_one)"
   ]
  },
  {
   "cell_type": "markdown",
   "id": "1bfb2047",
   "metadata": {},
   "source": [
    "## 6. Bài tập\n",
    "+ Tạo một class hình chữ nhật chứa hai thuộc tính: chiều dài và chiều rộng\n",
    "+ Tạo các method để tính chu vi và diện tích của hình chữ nhật\n",
    "+ Tạo đối tượng hình chữ nhật và gọi các method tương ứng"
   ]
  }
 ],
 "metadata": {
  "kernelspec": {
   "display_name": "Python 3 (ipykernel)",
   "language": "python",
   "name": "python3"
  },
  "language_info": {
   "codemirror_mode": {
    "name": "ipython",
    "version": 3
   },
   "file_extension": ".py",
   "mimetype": "text/x-python",
   "name": "python",
   "nbconvert_exporter": "python",
   "pygments_lexer": "ipython3",
   "version": "3.10.9"
  }
 },
 "nbformat": 4,
 "nbformat_minor": 5
}
