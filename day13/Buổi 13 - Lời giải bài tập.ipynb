{
 "cells": [
  {
   "cell_type": "markdown",
   "id": "043a036c",
   "metadata": {},
   "source": [
    "## Bài tập\n",
    "+ Tạo một class hình chữ nhật chứa hai thuộc tính: chiều dài và chiều rộng\n",
    "+ Tạo các method để tính chu vi và diện tích của hình chữ nhật\n",
    "+ Tạo đối tượng hình chữ nhật và gọi các method tương ứng"
   ]
  },
  {
   "cell_type": "code",
   "execution_count": 1,
   "id": "7a275bcf",
   "metadata": {},
   "outputs": [
    {
     "name": "stdout",
     "output_type": "stream",
     "text": [
      "30\n",
      "50\n"
     ]
    }
   ],
   "source": [
    "class Rectangle:\n",
    "    def __init__(self, width, height):\n",
    "        self.width = width\n",
    "        self.height = height\n",
    "        \n",
    "    def perimeter(self):\n",
    "        return  2 * (self.width + self.height)\n",
    "    \n",
    "    def area(self):\n",
    "        return self.width * self.height\n",
    "    \n",
    "    \n",
    "rect1 = Rectangle(10, 5)\n",
    "\n",
    "print(rect1.perimeter())\n",
    "print(rect1.area())"
   ]
  }
 ],
 "metadata": {
  "kernelspec": {
   "display_name": "Python 3 (ipykernel)",
   "language": "python",
   "name": "python3"
  },
  "language_info": {
   "codemirror_mode": {
    "name": "ipython",
    "version": 3
   },
   "file_extension": ".py",
   "mimetype": "text/x-python",
   "name": "python",
   "nbconvert_exporter": "python",
   "pygments_lexer": "ipython3",
   "version": "3.10.9"
  }
 },
 "nbformat": 4,
 "nbformat_minor": 5
}
