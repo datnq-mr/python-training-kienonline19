{
 "cells": [
  {
   "cell_type": "code",
   "execution_count": 1,
   "id": "60deb7c0",
   "metadata": {},
   "outputs": [
    {
     "name": "stdout",
     "output_type": "stream",
     "text": [
      "Tên tôi là Minh\n",
      "Tôi năm nay đã 30 tuổi rồi\n",
      "Tôi thích lập trình đặc biệt là Python\n",
      "Tôi vẫn chưa có người yêu vì yêu code hơn yêu những thứ khác\n",
      "Xin phép dừng lại ở đây ^^\n"
     ]
    }
   ],
   "source": [
    "# In một đoạn giới thiệu bản thân mình ra ngoài màn hình\n",
    "print(\"Tên tôi là Minh\")\n",
    "print(\"Tôi năm nay đã 30 tuổi rồi\")\n",
    "print(\"Tôi thích lập trình đặc biệt là Python\")\n",
    "print(\"Tôi vẫn chưa có người yêu vì yêu code hơn yêu những thứ khác\")\n",
    "print(\"Xin phép dừng lại ở đây ^^\")"
   ]
  },
  {
   "cell_type": "code",
   "execution_count": 2,
   "id": "e5dca574",
   "metadata": {},
   "outputs": [],
   "source": [
    "# In một đoạn thơ trong ảnh sau"
   ]
  },
  {
   "cell_type": "markdown",
   "id": "eb60aade",
   "metadata": {},
   "source": [
    "![](../images/wave.png)"
   ]
  },
  {
   "cell_type": "code",
   "execution_count": 3,
   "id": "b53015ee",
   "metadata": {},
   "outputs": [
    {
     "name": "stdout",
     "output_type": "stream",
     "text": [
      "\t\tSóng\n",
      "\tDữ dội và dịu êm\n",
      "\tỒn ào và lặng lẽ\n",
      "\tSông không hiểu nổi mình\n",
      "\tSóng tìm ra tận bể\n",
      "\n",
      "\tÔi con sóng ngày xưa\n",
      "\tVà ngày sau vẫn thế\n",
      "\tNỗi khát vọng tình yêu\n",
      "\tBồi hồi trong ngực trẻ\n"
     ]
    }
   ],
   "source": [
    "print('''\\t\\tSóng\n",
    "\\tDữ dội và dịu êm\n",
    "\\tỒn ào và lặng lẽ\n",
    "\\tSông không hiểu nổi mình\n",
    "\\tSóng tìm ra tận bể\n",
    "\n",
    "\\tÔi con sóng ngày xưa\n",
    "\\tVà ngày sau vẫn thế\n",
    "\\tNỗi khát vọng tình yêu\n",
    "\\tBồi hồi trong ngực trẻ''')"
   ]
  },
  {
   "cell_type": "code",
   "execution_count": 4,
   "id": "f97e6121",
   "metadata": {},
   "outputs": [
    {
     "name": "stdout",
     "output_type": "stream",
     "text": [
      "💚\n",
      "👌\n",
      "👍\n"
     ]
    }
   ],
   "source": [
    "# In ra các biểu tượng cảm xúc sau ra ngoài màn hình (💚, 👌, 👍)\n",
    "print('💚', '👌', '👍', sep='\\n')"
   ]
  }
 ],
 "metadata": {
  "kernelspec": {
   "display_name": "Python 3 (ipykernel)",
   "language": "python",
   "name": "python3"
  },
  "language_info": {
   "codemirror_mode": {
    "name": "ipython",
    "version": 3
   },
   "file_extension": ".py",
   "mimetype": "text/x-python",
   "name": "python",
   "nbconvert_exporter": "python",
   "pygments_lexer": "ipython3",
   "version": "3.10.8"
  }
 },
 "nbformat": 4,
 "nbformat_minor": 5
}
