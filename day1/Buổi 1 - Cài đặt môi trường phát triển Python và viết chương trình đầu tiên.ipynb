{
 "cells": [
  {
   "cell_type": "markdown",
   "id": "687a0dc7",
   "metadata": {},
   "source": [
    "## 1. Cài đặt Python"
   ]
  },
  {
   "cell_type": "markdown",
   "id": "706b6d0b",
   "metadata": {},
   "source": [
    "Link tải: https://www.python.org/ftp/python/3.10.8/python-3.10.8-amd64.exe (Trên Windows) "
   ]
  },
  {
   "cell_type": "markdown",
   "id": "63b966de",
   "metadata": {},
   "source": [
    "## 2. Cài đặt trình soạn thảo mã nguồn vscode"
   ]
  },
  {
   "cell_type": "markdown",
   "id": "1f7f149f",
   "metadata": {},
   "source": [
    "Link tải: https://code.visualstudio.com/download (Mac | Linux | Windows)"
   ]
  },
  {
   "cell_type": "markdown",
   "id": "7c1f5a77",
   "metadata": {},
   "source": [
    "## 3. Các extensions của vscode giúp lập trình Python tốt hơn"
   ]
  },
  {
   "cell_type": "markdown",
   "id": "4c78dda2",
   "metadata": {},
   "source": [
    "1. Python (https://marketplace.visualstudio.com/items?itemName=ms-python.python)\n",
    "2. Code Runner (https://marketplace.visualstudio.com/items?itemName=formulahendry.code-runner)\n",
    "3. CodeSnap (https://marketplace.visualstudio.com/items?itemName=adpyke.codesnap)\n",
    "4. VSCode Great Icons (https://marketplace.visualstudio.com/items?itemName=emmanuelbeziat.vscode-great-icons)\n",
    "5. Open (https://marketplace.visualstudio.com/items?itemName=sandcastle.vscode-open)"
   ]
  },
  {
   "cell_type": "markdown",
   "id": "994b8e95",
   "metadata": {},
   "source": [
    "## 4. Chương trình đầu tiên trong Python"
   ]
  },
  {
   "cell_type": "code",
   "execution_count": 1,
   "id": "7c67c53e",
   "metadata": {},
   "outputs": [
    {
     "name": "stdout",
     "output_type": "stream",
     "text": [
      "Hello world!\n"
     ]
    }
   ],
   "source": [
    "print(\"Hello world!\") # In dòng chữ Hello world! ra ngoài màn hình"
   ]
  },
  {
   "cell_type": "markdown",
   "id": "ddf82aae",
   "metadata": {},
   "source": [
    "## 5. Những lưu ý về hàm print"
   ]
  },
  {
   "cell_type": "markdown",
   "id": "a6344871",
   "metadata": {},
   "source": [
    "* print là một function (hàm) có sẵn trong ngôn ngữ lập trình Python\n",
    "* Các đối số (nguyên liệu cho hàm) hay sử dụng: sep, end\n",
    "* sep - separator - dấu ngăn cách\n",
    "* end - chuỗi kết thúc"
   ]
  },
  {
   "cell_type": "code",
   "execution_count": 2,
   "id": "6d2b819d",
   "metadata": {},
   "outputs": [
    {
     "name": "stdout",
     "output_type": "stream",
     "text": [
      "1 2 3 4\n"
     ]
    }
   ],
   "source": [
    "# In các giá trị trên cùng một hàng và ngăn cách nhau bởi khoảng trắng\n",
    "print(1, 2, 3, 4)"
   ]
  },
  {
   "cell_type": "code",
   "execution_count": 3,
   "id": "d42738e8",
   "metadata": {},
   "outputs": [
    {
     "name": "stdout",
     "output_type": "stream",
     "text": [
      "1 $ 2 $ 3 $ 4\n"
     ]
    }
   ],
   "source": [
    "# In các giá trị trên cùng một hàng cách nhau bởi ' $ '\n",
    "print(1, 2, 3, 4, sep=' $ ')"
   ]
  },
  {
   "cell_type": "code",
   "execution_count": 4,
   "id": "9eb4b8d5",
   "metadata": {},
   "outputs": [
    {
     "name": "stdout",
     "output_type": "stream",
     "text": [
      "1 2 3 4^^"
     ]
    }
   ],
   "source": [
    "# In ra các giá trị trên cùng một hàng và kết thúc bằng chuỗi '^^'\n",
    "print(1, 2, 3, 4, end='^^')"
   ]
  },
  {
   "cell_type": "code",
   "execution_count": 5,
   "id": "3f6bd6e6",
   "metadata": {},
   "outputs": [
    {
     "name": "stdout",
     "output_type": "stream",
     "text": [
      "hello\n",
      "nice to meet you\n",
      "thank you\n",
      "bye!\n"
     ]
    }
   ],
   "source": [
    "# In ra các giá trị trên nhiều hàng khác nhau\n",
    "print('hello')\n",
    "print('nice to meet you')\n",
    "print('thank you')\n",
    "print('bye!')"
   ]
  },
  {
   "cell_type": "code",
   "execution_count": 6,
   "id": "e3852263",
   "metadata": {},
   "outputs": [
    {
     "name": "stdout",
     "output_type": "stream",
     "text": [
      "❤️❤️❤️\n"
     ]
    }
   ],
   "source": [
    "# In ra các biểu tượng cảm xúc trên windows (shortcut: Win + .)\n",
    "print(\"❤️❤️❤️\")"
   ]
  },
  {
   "cell_type": "code",
   "execution_count": 7,
   "id": "84263930",
   "metadata": {},
   "outputs": [
    {
     "name": "stdout",
     "output_type": "stream",
     "text": [
      "😊😂🤣😍😘😁💕\n"
     ]
    }
   ],
   "source": [
    "print('😊😂🤣😍😘😁💕')"
   ]
  },
  {
   "cell_type": "code",
   "execution_count": 8,
   "id": "99556c46",
   "metadata": {},
   "outputs": [
    {
     "name": "stdout",
     "output_type": "stream",
     "text": [
      "Dòng 1\n",
      "Dòng 2\n",
      "Dòng 3\n"
     ]
    }
   ],
   "source": [
    "# In ra định dạng nhiều dòng chỉ bằng một lệnh print duy nhất\n",
    "print(\"\"\"Dòng 1\n",
    "Dòng 2\n",
    "Dòng 3\"\"\")"
   ]
  },
  {
   "cell_type": "markdown",
   "id": "9ee7f96b",
   "metadata": {},
   "source": [
    "## 6. Bài tập"
   ]
  },
  {
   "attachments": {},
   "cell_type": "markdown",
   "id": "1e10c36d",
   "metadata": {},
   "source": [
    "1. In một đoạn giới thiệu bản thân mình ra ngoài màn hình\n",
    "2. In một đoạn thơ trong ảnh sau ![Sóng](wave.png)\n",
    "3. In ra các biểu tượng cảm xúc sau ra ngoài màn hình (💚, 👌, 👍)"
   ]
  },
  {
   "cell_type": "markdown",
   "id": "b19b068e",
   "metadata": {},
   "source": []
  }
 ],
 "metadata": {
  "kernelspec": {
   "display_name": "Python 3 (ipykernel)",
   "language": "python",
   "name": "python3"
  },
  "language_info": {
   "codemirror_mode": {
    "name": "ipython",
    "version": 3
   },
   "file_extension": ".py",
   "mimetype": "text/x-python",
   "name": "python",
   "nbconvert_exporter": "python",
   "pygments_lexer": "ipython3",
   "version": "3.10.8"
  }
 },
 "nbformat": 4,
 "nbformat_minor": 5
}
