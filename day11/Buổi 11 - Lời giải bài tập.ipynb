{
 "cells": [
  {
   "cell_type": "markdown",
   "id": "a87f7147",
   "metadata": {},
   "source": [
    "## Bài tập\n",
    "1. Định nghĩa 4 hàm add, subtract, divide, multiply (+, -, /, *). Mỗi hàm nhận vào hai tham số thực hiện lần lượt các phép toán cộng, trừ, chia, nhân. Lưu ý hàm nên trả về thay vì in ra."
   ]
  },
  {
   "cell_type": "code",
   "execution_count": 1,
   "id": "d758942b",
   "metadata": {},
   "outputs": [],
   "source": [
    "# Hàm cộng hai số\n",
    "def add(num1, num2):\n",
    "    return num1 + num2\n",
    "\n",
    "\n",
    "# Hàm trừ hai số\n",
    "def subtract(num1, num2):\n",
    "    return num1 - num2\n",
    "\n",
    "\n",
    "# Hàm chia hai số\n",
    "def divide(num1, num2):\n",
    "    if num2 == 0:\n",
    "        return \"Divide by zero\"\n",
    "    return num1 / num2\n",
    "\n",
    "\n",
    "# Hàm nhân hai số\n",
    "def multiply(num1, num2):\n",
    "    return num1 * num2"
   ]
  },
  {
   "cell_type": "code",
   "execution_count": 2,
   "id": "eba26853",
   "metadata": {},
   "outputs": [
    {
     "name": "stdout",
     "output_type": "stream",
     "text": [
      "102\n",
      "98\n",
      "50.0\n",
      "Divide by zero\n",
      "200\n"
     ]
    }
   ],
   "source": [
    "# Gọi hàm (chạy hàm)\n",
    "number1 = 100\n",
    "number2 = 2\n",
    "\n",
    "# Trả về kết quả của hàm add và gán vào một biến\n",
    "total = add(number1, number2)\n",
    "print(total)\n",
    "\n",
    "# Trả về kết quả của hàm subtract và gán vào một biến\n",
    "sub = subtract(number1, number2)\n",
    "print(sub)\n",
    "\n",
    "# Trả về kết quả của hàm divide và gán vào một biến\n",
    "div = divide(number1, number2)\n",
    "print(div)\n",
    "\n",
    "div = divide(number1, 0)\n",
    "print(div)\n",
    "\n",
    "# Trả về kết quả của hàm multiply và gán vào một biến\n",
    "mul = multiply(number1, number2)\n",
    "print(mul)"
   ]
  },
  {
   "cell_type": "markdown",
   "id": "02fcc435",
   "metadata": {},
   "source": [
    "## 2. Định nghĩa một hàm được gọi là print_show_info nhận vào một tham số duy nhất đó là một dict, lúc gọi thì sử dụng dict như sau:\n",
    "tv_show = {\n",
    "    \"title\": \"Breaking Bad\",\n",
    "    \"seasons\": 5,\n",
    "    \"initial_release\": 2008\n",
    "}\n",
    "+ Hàm nên in ra một chuỗi có định dạng như sau:\n",
    "+ Breaking Bad (2008) - 5 seasons"
   ]
  },
  {
   "cell_type": "code",
   "execution_count": 3,
   "id": "261f4b44",
   "metadata": {},
   "outputs": [],
   "source": [
    "def print_show_info(tv_show):\n",
    "    print(f\"{tv_show['title']} ({tv_show['initial_release']}) - {tv_show['seasons']} seasons\")"
   ]
  },
  {
   "cell_type": "code",
   "execution_count": 4,
   "id": "c43ba91d",
   "metadata": {},
   "outputs": [
    {
     "name": "stdout",
     "output_type": "stream",
     "text": [
      "Breaking Bad (2008) - 5 seasons\n"
     ]
    }
   ],
   "source": [
    "# Chạy hàm\n",
    "info = {\n",
    "    \"title\": \"Breaking Bad\",\n",
    "    \"seasons\": 5,\n",
    "    \"initial_release\": 2008\n",
    "}\n",
    "\n",
    "print_show_info(info)"
   ]
  }
 ],
 "metadata": {
  "kernelspec": {
   "display_name": "Python 3 (ipykernel)",
   "language": "python",
   "name": "python3"
  },
  "language_info": {
   "codemirror_mode": {
    "name": "ipython",
    "version": 3
   },
   "file_extension": ".py",
   "mimetype": "text/x-python",
   "name": "python",
   "nbconvert_exporter": "python",
   "pygments_lexer": "ipython3",
   "version": "3.10.9"
  }
 },
 "nbformat": 4,
 "nbformat_minor": 5
}
