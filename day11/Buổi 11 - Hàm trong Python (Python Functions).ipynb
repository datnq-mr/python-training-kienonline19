{
 "cells": [
  {
   "cell_type": "markdown",
   "id": "7042785c",
   "metadata": {},
   "source": [
    "## 1. Định nghĩa hàm trong Python\n",
    "+ Hàm là một khối lệnh chỉ chạy khi nó được gọi\n",
    "+ Bạn có thể truyền vào dữ liệu (được hiểu như là tham số) vào trong một hàm (function)\n",
    "+ Một hàm có thể trả về (return) dữ liệu như là một kết quả"
   ]
  },
  {
   "cell_type": "markdown",
   "id": "d346d2b7",
   "metadata": {},
   "source": [
    "## 2. Cách để tạo và gọi một hàm trong Python\n",
    "+ Trong python một hàm được định nghĩa sử dụng từ khóa def\n",
    "+ Để gọi | thực thi | chạy một hàm (function) trong python chúng ta sử dụng tên hàm được theo sau bởi cặp dấu ngoặc tròn"
   ]
  },
  {
   "cell_type": "code",
   "execution_count": 1,
   "id": "5dd45c4d",
   "metadata": {},
   "outputs": [],
   "source": [
    "# Định nghĩa một hàm có tên là my_func\n",
    "def my_func():\n",
    "    print(\"Hello world!\")"
   ]
  },
  {
   "cell_type": "code",
   "execution_count": 2,
   "id": "da3760ee",
   "metadata": {},
   "outputs": [
    {
     "name": "stdout",
     "output_type": "stream",
     "text": [
      "Hello world!\n"
     ]
    }
   ],
   "source": [
    "# Chạy|Gọi|Thực thi hàm my_func\n",
    "my_func()"
   ]
  },
  {
   "cell_type": "markdown",
   "id": "abf32153",
   "metadata": {},
   "source": [
    "## 3. Đối số và tham số\n",
    "+ Thông tin (dữ liệu) có thể truyền vào một hàm như là đối số \n",
    "+ Hay nói cách khác đối số là giá trị cụ thể được đặt trong cặp dấu ngoặc tròn lúc gọi hàm\n",
    "+ Tham số là các biến được khai báo lúc định nghĩa hàm\n",
    "+ Có bao nhiêu tham số lúc gọi hàm cần truyền từng ấy đối số (không thừa, không thiếu)"
   ]
  },
  {
   "cell_type": "code",
   "execution_count": 3,
   "id": "fbb046a2",
   "metadata": {},
   "outputs": [
    {
     "name": "stdout",
     "output_type": "stream",
     "text": [
      "6\n"
     ]
    }
   ],
   "source": [
    "# Ví dụ\n",
    "def add(x, y, z): # x, y, z là các tham số (parameters)\n",
    "    print(x + y + z)\n",
    "    \n",
    "add(1, 2, 3) # 1, 2, 3 là các đối số (arguments)"
   ]
  },
  {
   "cell_type": "markdown",
   "id": "9443e666",
   "metadata": {},
   "source": [
    "## 4. Hàm có giá trị trả về (return)\n",
    "+ Để một hàm trả về một giá trị thì chúng ta sử dụng lệnh return"
   ]
  },
  {
   "cell_type": "code",
   "execution_count": 4,
   "id": "0d6633dc",
   "metadata": {},
   "outputs": [
    {
     "name": "stdout",
     "output_type": "stream",
     "text": [
      "John Doe\n"
     ]
    }
   ],
   "source": [
    "# Ví dụ\n",
    "def get_full_name(fname, lname):\n",
    "    return f\"{fname} {lname}\"\n",
    "\n",
    "# Hứng giá trị trả về khi gọi hàm bằng một biến\n",
    "full_name = get_full_name(\"John\", \"Doe\")\n",
    "print(full_name)"
   ]
  },
  {
   "cell_type": "markdown",
   "id": "4c789300",
   "metadata": {},
   "source": [
    "## 5. Lambda functions\n",
    "+ Là các hàm ngắn không có tên trả về một giá trị gì đó"
   ]
  },
  {
   "cell_type": "code",
   "execution_count": 5,
   "id": "90b96a8f",
   "metadata": {},
   "outputs": [
    {
     "name": "stdout",
     "output_type": "stream",
     "text": [
      "30\n"
     ]
    }
   ],
   "source": [
    "# def add(x, y):\n",
    "#     return x + y\n",
    "add = lambda x, y: x + y\n",
    "# Gọi hàm\n",
    "print(add(10, 20))"
   ]
  },
  {
   "cell_type": "markdown",
   "id": "e13dac52",
   "metadata": {},
   "source": [
    "## 6. Hàm nhận tham số mặc định\n",
    "+ Giá trị của tham số mặc định được khởi tạo lúc định nghĩa hàm"
   ]
  },
  {
   "cell_type": "code",
   "execution_count": 6,
   "id": "1b194e8f",
   "metadata": {},
   "outputs": [
    {
     "name": "stdout",
     "output_type": "stream",
     "text": [
      "110\n"
     ]
    }
   ],
   "source": [
    "# y là tham số mặc định có giá trị = 10 lúc định nghĩa hàm\n",
    "def add(x, y=10):\n",
    "    return x + y\n",
    "\n",
    "\n",
    "# 100 là giá trị của tham số x còn không truyền vào y thì y lấy mặc định = 10\n",
    "print(add(100))"
   ]
  },
  {
   "cell_type": "markdown",
   "id": "c8c1de87",
   "metadata": {},
   "source": [
    "## 7. Bài tập\n",
    "1. Định nghĩa 4 hàm add, subtract, divide, multiply (+, -, /, *). Mỗi hàm nhận vào hai tham số thực hiện lần lượt các phép toán cộng, trừ, chia, nhân. Lưu ý hàm nên trả về thay vì in ra.\n",
    "2. Định nghĩa một hàm được gọi là print_show_info nhận vào một tham số duy nhất đó là một dict, lúc gọi thì sử dụng dict như sau:"
   ]
  },
  {
   "cell_type": "code",
   "execution_count": 7,
   "id": "3f1f2d4a",
   "metadata": {},
   "outputs": [],
   "source": [
    "tv_show = {\n",
    "    \"title\": \"Breaking Bad\",\n",
    "    \"seasons\": 5,\n",
    "    \"initial_release\": 2008\n",
    "}"
   ]
  },
  {
   "cell_type": "markdown",
   "id": "d7a2004d",
   "metadata": {},
   "source": [
    "+ Hàm nên in ra một chuỗi có định dạng như sau:\n",
    "+ Breaking Bad (2008) - 5 seasons"
   ]
  }
 ],
 "metadata": {
  "kernelspec": {
   "display_name": "Python 3 (ipykernel)",
   "language": "python",
   "name": "python3"
  },
  "language_info": {
   "codemirror_mode": {
    "name": "ipython",
    "version": 3
   },
   "file_extension": ".py",
   "mimetype": "text/x-python",
   "name": "python",
   "nbconvert_exporter": "python",
   "pygments_lexer": "ipython3",
   "version": "3.10.9"
  }
 },
 "nbformat": 4,
 "nbformat_minor": 5
}
