{
 "cells": [
  {
   "cell_type": "markdown",
   "id": "c21ea8dd",
   "metadata": {},
   "source": [
    "## 1. Giá trị trong Python"
   ]
  },
  {
   "cell_type": "markdown",
   "id": "8b1ffc14",
   "metadata": {},
   "source": [
    "* 1, 2, 3, -1, -10, 0 là các giá trị thuộc kiểu số nguyên (integer - int)\n",
    "* 1.5, 0.0, -0.5, 3.14159265 là các giá trị thuộc kiểu số thực (floating point - float)\n",
    "* 'a', \"hello\", 'I am Henry' là các giá trị thuộc kiểu chuỗi (string - str)\n",
    "* True, False (not true, false) là hai giá trị thuộc kiểu boolean (bool: Đúng/Sai)\n",
    "* 1+2j là giá trị thuộc kiểu complex (số phức: a+bi - a: phần thực - b: phần ảo - i: đơn vị ảo với i^2 = -1)"
   ]
  },
  {
   "cell_type": "code",
   "execution_count": 1,
   "id": "966f53b8",
   "metadata": {},
   "outputs": [
    {
     "data": {
      "text/plain": [
       "int"
      ]
     },
     "execution_count": 1,
     "metadata": {},
     "output_type": "execute_result"
    }
   ],
   "source": [
    "# Muốn xác định kiểu của các giá trị trong Python chúng ta sử dụng hàm type\n",
    "# Ví dụ\n",
    "type(10) # int - kiểu số nguyên"
   ]
  },
  {
   "cell_type": "code",
   "execution_count": 2,
   "id": "acea6722",
   "metadata": {},
   "outputs": [
    {
     "data": {
      "text/plain": [
       "float"
      ]
     },
     "execution_count": 2,
     "metadata": {},
     "output_type": "execute_result"
    }
   ],
   "source": [
    "type(-1.25) # float - kiểu số thực"
   ]
  },
  {
   "cell_type": "code",
   "execution_count": 3,
   "id": "a1ecc29a",
   "metadata": {},
   "outputs": [
    {
     "data": {
      "text/plain": [
       "str"
      ]
     },
     "execution_count": 3,
     "metadata": {},
     "output_type": "execute_result"
    }
   ],
   "source": [
    "type(\"Hello\") # str- kiểu chuỗi ký tự"
   ]
  },
  {
   "cell_type": "code",
   "execution_count": 4,
   "id": "d1863785",
   "metadata": {},
   "outputs": [
    {
     "data": {
      "text/plain": [
       "bool"
      ]
     },
     "execution_count": 4,
     "metadata": {},
     "output_type": "execute_result"
    }
   ],
   "source": [
    "type(True) # bool - kiểu đúng/sai"
   ]
  },
  {
   "cell_type": "code",
   "execution_count": 5,
   "id": "bc3a9337",
   "metadata": {},
   "outputs": [
    {
     "data": {
      "text/plain": [
       "complex"
      ]
     },
     "execution_count": 5,
     "metadata": {},
     "output_type": "execute_result"
    }
   ],
   "source": [
    "type(1+2j) # complex - kiểu số phức trong toán học"
   ]
  },
  {
   "cell_type": "markdown",
   "id": "99e7e5b9",
   "metadata": {},
   "source": [
    "## 2. Biến (Variables) "
   ]
  },
  {
   "cell_type": "code",
   "execution_count": 6,
   "id": "ad1c6a2c",
   "metadata": {},
   "outputs": [
    {
     "name": "stdout",
     "output_type": "stream",
     "text": [
      "10\n"
     ]
    }
   ],
   "source": [
    "\"\"\"\n",
    "- Biến trong Python là một cái tên cho một giá trị nào đó\n",
    "- Biến có thể thay đổi trong suốt quá trình thực thi của chương trình\n",
    "- Biến giống như một cái hộp với nhãn bên ngoài hộp là tên biến và các đồ vật bên trong là các giá trị của biến\n",
    "\"\"\"\n",
    "# Ví dụ\n",
    "x = 10 # x là một biến có giá trị là số nguyên 10\n",
    "print(x) # In ra giá trị của biến x"
   ]
  },
  {
   "cell_type": "code",
   "execution_count": 7,
   "id": "26d51618",
   "metadata": {},
   "outputs": [
    {
     "name": "stdout",
     "output_type": "stream",
     "text": [
      "0\n"
     ]
    }
   ],
   "source": [
    "x = 0 # Thay đổi giá trị của biến\n",
    "print(x)"
   ]
  },
  {
   "cell_type": "code",
   "execution_count": 8,
   "id": "bf4ee5d4",
   "metadata": {},
   "outputs": [
    {
     "name": "stdout",
     "output_type": "stream",
     "text": [
      "1010a\n"
     ]
    }
   ],
   "source": [
    "x = \"1010a\" # Biến có giá trị thuộc kiểu khác\n",
    "print(x)"
   ]
  },
  {
   "cell_type": "code",
   "execution_count": 9,
   "id": "f1db6426",
   "metadata": {},
   "outputs": [
    {
     "name": "stdout",
     "output_type": "stream",
     "text": [
      "<class 'str'>\n"
     ]
    }
   ],
   "source": [
    "print(type(x)) # In ra kiểu của giá trị được giữ bởi biến x"
   ]
  },
  {
   "cell_type": "markdown",
   "id": "8b4809d7",
   "metadata": {},
   "source": [
    "Quy tắc đặt tên biến:\n",
    "+ Tên biến không được bắt đầu với chữ số\n",
    "+ Tên biến chỉ chứa chữ cái, chữ số và dấu gạch dưới\n",
    "+ Tên biến không thể chứa các ký tự đặc biệt: !@#$%^&*()?\n",
    "+ Đặt tên biến nên có ý nghĩa để mô tả tốt nhất giá trị của biến"
   ]
  },
  {
   "cell_type": "code",
   "execution_count": 10,
   "id": "7642d076",
   "metadata": {},
   "outputs": [
    {
     "ename": "SyntaxError",
     "evalue": "invalid decimal literal (3664806072.py, line 2)",
     "output_type": "error",
     "traceback": [
      "\u001b[1;36m  Cell \u001b[1;32mIn[10], line 2\u001b[1;36m\u001b[0m\n\u001b[1;33m    1a = 5 # 1a không phải tên biến hợp lệ vì nó chứa chữ số ở đầu\u001b[0m\n\u001b[1;37m    ^\u001b[0m\n\u001b[1;31mSyntaxError\u001b[0m\u001b[1;31m:\u001b[0m invalid decimal literal\n"
     ]
    }
   ],
   "source": [
    "# Ví dụ\n",
    "1a = 5 # 1a không phải tên biến hợp lệ vì nó chứa chữ số ở đầu\n",
    "print(1a)"
   ]
  },
  {
   "cell_type": "code",
   "execution_count": 11,
   "id": "7a384295",
   "metadata": {},
   "outputs": [
    {
     "name": "stdout",
     "output_type": "stream",
     "text": [
      "5\n"
     ]
    }
   ],
   "source": [
    "_ = 5 # _ (gạch dưới) là một tên biến hợp lệ\n",
    "print(_)"
   ]
  },
  {
   "cell_type": "code",
   "execution_count": 12,
   "id": "f3e15976",
   "metadata": {},
   "outputs": [
    {
     "ename": "SyntaxError",
     "evalue": "invalid syntax (2553325932.py, line 1)",
     "output_type": "error",
     "traceback": [
      "\u001b[1;36m  Cell \u001b[1;32mIn[12], line 1\u001b[1;36m\u001b[0m\n\u001b[1;33m    $name = \"Henry\" # $name không phải tên biến hợp lệ vì nó chứa dấu $ (ký tự đăc biệt) trong tên biến\u001b[0m\n\u001b[1;37m    ^\u001b[0m\n\u001b[1;31mSyntaxError\u001b[0m\u001b[1;31m:\u001b[0m invalid syntax\n"
     ]
    }
   ],
   "source": [
    "$name = \"Henry\" # $name không phải tên biến hợp lệ vì nó chứa dấu $ (ký tự đăc biệt) trong tên biến\n",
    "print($name)"
   ]
  },
  {
   "cell_type": "code",
   "execution_count": 13,
   "id": "6f194373",
   "metadata": {},
   "outputs": [],
   "source": [
    "# x, y, z mặc dù là tên biến hợp lệ nhưng nó không có ý nghĩa cụ thể\n",
    "x = 5\n",
    "y = 6\n",
    "z = 4\n",
    "# Nên đặt tên biến theo chuẩn tiếng anh (vì những tài liệu hay trên mạng theo chuẩn tiếng anh)\n",
    "# Ví dụ: user_name, age, gender, is_check, flag, vv\n",
    "user_name = \"boy2k\"\n",
    "password = \"jdk-java\"\n",
    "age = 34\n",
    "gender = \"male\""
   ]
  },
  {
   "cell_type": "code",
   "execution_count": 14,
   "id": "68b391ca",
   "metadata": {},
   "outputs": [
    {
     "name": "stdout",
     "output_type": "stream",
     "text": [
      "boy2k\n",
      "jdk-java\n",
      "34\n",
      "male\n"
     ]
    }
   ],
   "source": [
    "# In các giá trị của biến thì chúng ta sử dụng hàm print\n",
    "# Ví dụ\n",
    "print(user_name)\n",
    "print(password)\n",
    "print(age)\n",
    "print(gender)"
   ]
  },
  {
   "cell_type": "markdown",
   "id": "a615ee40",
   "metadata": {},
   "source": [
    "## 3. Hàm input"
   ]
  },
  {
   "cell_type": "markdown",
   "id": "198d31d4",
   "metadata": {},
   "source": [
    "- Input là một hàm có sẵn trong Python dùng để lấy dữ liệu từ người dùng thông qua bàn phím\n",
    "- Hàm input mặc định trả về một giá trị kiểu chuỗi (string - str)\n",
    "- Input có thể nhận vào một chuỗi thông báo người dùng nên nhập gì ?\n",
    "- Khi nhập xong thì chúng ta nhấn phím Enter để kết thúc việc nhập"
   ]
  },
  {
   "cell_type": "code",
   "execution_count": 15,
   "id": "d444eb7f",
   "metadata": {},
   "outputs": [
    {
     "name": "stdout",
     "output_type": "stream",
     "text": [
      "Enter an integer: 15\n"
     ]
    }
   ],
   "source": [
    "# Ví dụ\n",
    "# Nhập một số nguyên từ bàn phím\n",
    "number = input(\"Enter an integer: \")"
   ]
  },
  {
   "cell_type": "code",
   "execution_count": 16,
   "id": "6755379e",
   "metadata": {},
   "outputs": [],
   "source": [
    "# Nhưng kiểu dữ liệu của int_number lại là str (string - chuỗi ký tự)\n",
    "# nên khi mà thực hiện các phép toán trên giá trị int_number thì có thể gặp lỗi"
   ]
  },
  {
   "cell_type": "code",
   "execution_count": 17,
   "id": "c530d82c",
   "metadata": {},
   "outputs": [
    {
     "ename": "TypeError",
     "evalue": "can only concatenate str (not \"int\") to str",
     "output_type": "error",
     "traceback": [
      "\u001b[1;31m---------------------------------------------------------------------------\u001b[0m",
      "\u001b[1;31mTypeError\u001b[0m                                 Traceback (most recent call last)",
      "Cell \u001b[1;32mIn[17], line 2\u001b[0m\n\u001b[0;32m      1\u001b[0m \u001b[38;5;66;03m# Bởi vì hàm input trả về str (chuỗi) nên int_number có kiểu str, cộng với 4 sẽ bị lỗi vì hai kiểu khác nhau\u001b[39;00m\n\u001b[1;32m----> 2\u001b[0m \u001b[38;5;28mprint\u001b[39m(\u001b[43mnumber\u001b[49m\u001b[43m \u001b[49m\u001b[38;5;241;43m+\u001b[39;49m\u001b[43m \u001b[49m\u001b[38;5;241;43m4\u001b[39;49m)\n",
      "\u001b[1;31mTypeError\u001b[0m: can only concatenate str (not \"int\") to str"
     ]
    }
   ],
   "source": [
    "# Bởi vì hàm input trả về str (chuỗi) nên int_number có kiểu str, cộng với 4 sẽ bị lỗi vì hai kiểu khác nhau\n",
    "print(number + 4)"
   ]
  },
  {
   "cell_type": "code",
   "execution_count": 18,
   "id": "2a6a070a",
   "metadata": {},
   "outputs": [
    {
     "data": {
      "text/plain": [
       "int"
      ]
     },
     "execution_count": 18,
     "metadata": {},
     "output_type": "execute_result"
    }
   ],
   "source": [
    "# Để sửa lỗi này chúng ta cần ép kiểu giá trị int_number từ str thành int\n",
    "# hàm int() bên dưới nhận vào giá trị thuộc kiểu str|float và trả về giá trị thuộc kiểu int\n",
    "int_number = int(number)\n",
    "type(int_number)"
   ]
  },
  {
   "cell_type": "code",
   "execution_count": 19,
   "id": "29098352",
   "metadata": {},
   "outputs": [
    {
     "name": "stdout",
     "output_type": "stream",
     "text": [
      "19\n"
     ]
    }
   ],
   "source": [
    "print(int_number + 4)"
   ]
  },
  {
   "cell_type": "code",
   "execution_count": 20,
   "id": "9af6ce8c",
   "metadata": {},
   "outputs": [],
   "source": [
    "# Ngoài hàm int(value) thì có các hàm tương tự khác để ép kiểu\n",
    "# Ví dụ\n",
    "# Hàm float() trả về số thực, str() trả về chuỗi ký tự, vv"
   ]
  },
  {
   "cell_type": "code",
   "execution_count": 21,
   "id": "69edc89a",
   "metadata": {},
   "outputs": [
    {
     "name": "stdout",
     "output_type": "stream",
     "text": [
      "3.0\n",
      "3.5\n"
     ]
    }
   ],
   "source": [
    "print(float(3))\n",
    "print(float(\"3.5\"))"
   ]
  },
  {
   "cell_type": "code",
   "execution_count": 22,
   "id": "d2152ddf",
   "metadata": {},
   "outputs": [
    {
     "data": {
      "text/plain": [
       "'3'"
      ]
     },
     "execution_count": 22,
     "metadata": {},
     "output_type": "execute_result"
    }
   ],
   "source": [
    "str(3)"
   ]
  },
  {
   "cell_type": "code",
   "execution_count": 23,
   "id": "cef7ab03",
   "metadata": {},
   "outputs": [
    {
     "data": {
      "text/plain": [
       "'3.5'"
      ]
     },
     "execution_count": 23,
     "metadata": {},
     "output_type": "execute_result"
    }
   ],
   "source": [
    "str(3.5)"
   ]
  },
  {
   "cell_type": "markdown",
   "id": "06935ff9",
   "metadata": {},
   "source": [
    "## 4. Bài tập"
   ]
  },
  {
   "cell_type": "markdown",
   "id": "f889a396",
   "metadata": {},
   "source": [
    "1. Cho biết kiểu của các giá trị sau: -50, 1.456, False, 0.0, .5, 4+5j\n",
    "2. Định nghĩa hai biến num1, num2 có cùng giá trị\n",
    "3. Định nghĩa hai biến number1, number2 tích của chúng bằng 49\n",
    "4. Nhập vào tên và tuổi của bạn và in ra tên và tuổi của bạn trên cùng một hàng cách nhau bởi dấu | (xổ)\n",
    "5. Nhập vào một số nguyên n, số thực z, chuỗi s và in các giá trị của chúng trên các dòng riêng biệt"
   ]
  }
 ],
 "metadata": {
  "kernelspec": {
   "display_name": "Python 3 (ipykernel)",
   "language": "python",
   "name": "python3"
  },
  "language_info": {
   "codemirror_mode": {
    "name": "ipython",
    "version": 3
   },
   "file_extension": ".py",
   "mimetype": "text/x-python",
   "name": "python",
   "nbconvert_exporter": "python",
   "pygments_lexer": "ipython3",
   "version": "3.10.8"
  }
 },
 "nbformat": 4,
 "nbformat_minor": 5
}
