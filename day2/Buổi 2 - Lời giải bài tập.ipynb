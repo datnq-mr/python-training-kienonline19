{
 "cells": [
  {
   "cell_type": "code",
   "execution_count": 1,
   "id": "162a1eff",
   "metadata": {},
   "outputs": [
    {
     "name": "stdout",
     "output_type": "stream",
     "text": [
      "<class 'int'>\n",
      "<class 'float'>\n",
      "<class 'bool'>\n",
      "<class 'float'>\n",
      "<class 'float'>\n",
      "<class 'complex'>\n"
     ]
    }
   ],
   "source": [
    "# 1. Cho biết kiểu của các giá trị sau: -50, 1.456, False, 0.0, .5, 4+5j\n",
    "print(type(-50))\n",
    "print(type(1.456))\n",
    "print(type(False))\n",
    "print(type(0.0))\n",
    "print(type(.5))\n",
    "print(type(4+5j))"
   ]
  },
  {
   "cell_type": "code",
   "execution_count": 2,
   "id": "189fe0a9",
   "metadata": {},
   "outputs": [
    {
     "name": "stdout",
     "output_type": "stream",
     "text": [
      "4 4\n"
     ]
    }
   ],
   "source": [
    "# 2. Định nghĩa hai biến num1, num2 có cùng giá trị\n",
    "num1 = 4\n",
    "num2 = 4\n",
    "\n",
    "print(num1, num2)"
   ]
  },
  {
   "cell_type": "code",
   "execution_count": 3,
   "id": "63386a9f",
   "metadata": {},
   "outputs": [
    {
     "name": "stdout",
     "output_type": "stream",
     "text": [
      "16\n",
      "16\n"
     ]
    }
   ],
   "source": [
    "# có thể dùng cách khác như sau\n",
    "num1 = num2 = 16\n",
    "print(num1)\n",
    "print(num2)"
   ]
  },
  {
   "cell_type": "code",
   "execution_count": 4,
   "id": "16187678",
   "metadata": {},
   "outputs": [
    {
     "name": "stdout",
     "output_type": "stream",
     "text": [
      "7, 7\n"
     ]
    }
   ],
   "source": [
    "# 3. Định nghĩa hai biến number1, number2 tích của chúng bằng 49\n",
    "number1 = number2 = 7\n",
    "print(number1, number2, sep=', ')"
   ]
  },
  {
   "cell_type": "code",
   "execution_count": 5,
   "id": "caaba48d",
   "metadata": {},
   "outputs": [
    {
     "name": "stdout",
     "output_type": "stream",
     "text": [
      "Nhập vào tên của bạn: Trịnh Minh\n",
      "Nhập vào tuổi của bạn: 30\n",
      "--------------------------------------------------\n",
      "Trịnh Minh | 30\n"
     ]
    }
   ],
   "source": [
    "# 4. Nhập vào tên và tuổi của bạn và in ra tên và tuổi của bạn trên cùng một hàng cách nhau bởi dấu | (xổ)\n",
    "full_name = input(\"Nhập vào tên của bạn: \")\n",
    "age = int(input(\"Nhập vào tuổi của bạn: \"))\n",
    "\n",
    "print('--------------------------------------------------')\n",
    "print(full_name, age, sep=' | ')"
   ]
  },
  {
   "cell_type": "code",
   "execution_count": 6,
   "id": "dab34175",
   "metadata": {},
   "outputs": [
    {
     "name": "stdout",
     "output_type": "stream",
     "text": [
      "Nhập vào một số nguyên n = 234\n",
      "Nhập vào một số thực z = 2.34\n",
      "Nhập vào một chuỗi s = Hiii\n",
      "\n",
      "n = 234\n",
      "z = 2.34\n",
      "s = Hiii\n"
     ]
    }
   ],
   "source": [
    "# 5. Nhập vào một số nguyên n, số thực z, chuỗi s và in các giá trị của chúng trên các dòng riêng biệt\n",
    "n = int(input(\"Nhập vào một số nguyên n = \"))\n",
    "z = float(input(\"Nhập vào một số thực z = \"))\n",
    "s = input(\"Nhập vào một chuỗi s = \")\n",
    "\n",
    "print()\n",
    "print(\"n =\", n)\n",
    "print(\"z =\", z)\n",
    "print(\"s =\", s)"
   ]
  }
 ],
 "metadata": {
  "kernelspec": {
   "display_name": "Python 3 (ipykernel)",
   "language": "python",
   "name": "python3"
  },
  "language_info": {
   "codemirror_mode": {
    "name": "ipython",
    "version": 3
   },
   "file_extension": ".py",
   "mimetype": "text/x-python",
   "name": "python",
   "nbconvert_exporter": "python",
   "pygments_lexer": "ipython3",
   "version": "3.10.8"
  }
 },
 "nbformat": 4,
 "nbformat_minor": 5
}
