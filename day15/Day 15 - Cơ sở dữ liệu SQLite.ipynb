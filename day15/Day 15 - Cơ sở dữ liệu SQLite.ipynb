{
 "cells": [
  {
   "cell_type": "markdown",
   "id": "95db06fe",
   "metadata": {},
   "source": [
    "## 1. Định nghĩa\n",
    "+ Cơ sở dữ liệu quan hệ là nơi để lưu trữ dữ liệu, trong CSDL tổ chức thành nhiều bảng có các quan hệ 1-1, 1-n, n-n\n",
    "1. 1 - 1: một sinh viên thì có một luận văn, một luận văn thì thuộc về một sinh viên\n",
    "2. 1 - n: một người có thể post nhiều bài lên facebook, nhiều post trên facebook thuộc về một người\n",
    "3. n - n: một nhân viên thì tham gia 1 hay nhiều dự án, một dự án thì gồm nhiều nhân viên tham gia\n",
    "+ SQL là ngôn ngữ truy vấn có cấu trúc (giống tiếng anh) hay ngôn ngữ máy tính dùng để tương tác với các cơ sở dữ liệu quan hệ\n",
    "1. Thêm, sửa, xóa, lấy thông tin từ một hay nhiều bảng\n",
    "2. Tạo CSDL, bảng (Table)\n",
    "+ SQLite là hệ quản trị cơ sở dữ liệu (phần mềm) mà quản lý cơ sở dữ liệu thường biểu diễn bằng một file *.db lưu trữ trên ổ cứng trong máy tính\n",
    "+ Các đặc điểm chính:\n",
    "1. Nhỏ gọn\n",
    "2. Nhanh (vì nó không phải mô hình client-server)"
   ]
  },
  {
   "cell_type": "markdown",
   "id": "e12be3b4",
   "metadata": {},
   "source": [
    "## 2. Thư viện (lib)/module sqlite3 (có sẵn của Python)"
   ]
  },
  {
   "cell_type": "markdown",
   "id": "2ad1b653",
   "metadata": {},
   "source": [
    "## Tài liệu chi tiết: https://docs.python.org/3/library/sqlite3.html"
   ]
  },
  {
   "cell_type": "markdown",
   "id": "d7b64294",
   "metadata": {},
   "source": [
    "## 3. Demo về module sqlite3\n",
    "+ sqlite3 là một thư viện C cung cấp các hàm (chức năng) tương tác với cơ sở dữ liệu SQLite (csdl nhẹ nằm trong ổ cứng máy tính)"
   ]
  },
  {
   "cell_type": "code",
   "execution_count": 1,
   "id": "f57d29a0",
   "metadata": {},
   "outputs": [],
   "source": [
    "# Thêm vào thư viện sqlite3\n",
    "import sqlite3\n",
    "\n",
    "# Tạo một cơ sở dữ liệu mới nếu không tồn tại\n",
    "# và mở một kết nối để sqlite3 có thể làm việc với\n",
    "conn = sqlite3.connect(\"movies.db\")\n",
    "\n",
    "# Tạo Cursor object để thực thi/chạy các truy vấn SQL (hay các câu lệnh SQL)\n",
    "cur = conn.cursor()\n",
    "\n",
    "# Tạo bảng movie trong CSDL - movies\n",
    "table_sql = \"\"\"CREATE TABLE IF NOT EXISTS movie (\n",
    "                    title TEXT,\n",
    "                    year INTEGER,\n",
    "                    score REAL\n",
    ");\"\"\"\n",
    "\n",
    "cur.execute(table_sql)\n",
    "\n",
    "# Chèn dữ liệu vào bảng movie\n",
    "insertion_sql = \"\"\"INSERT INTO movie VALUES\n",
    "('Mr. Boot', 1998, 8.2),\n",
    "('The ring', 1996, 7.5);\"\"\"\n",
    "\n",
    "cur.execute(insertion_sql)\n",
    "\n",
    "# Lưu dữ liệu vào file movies.db\n",
    "conn.commit()\n",
    "\n",
    "# Đóng kết nối\n",
    "conn.close()"
   ]
  },
  {
   "cell_type": "code",
   "execution_count": 2,
   "id": "2e07f7d5",
   "metadata": {},
   "outputs": [
    {
     "name": "stdout",
     "output_type": "stream",
     "text": [
      "('Mr. Boot', 1998, 8.2)\n",
      "('The ring', 1996, 7.5)\n"
     ]
    }
   ],
   "source": [
    "# Lấy dữ liệu từ database bằng lệnh SELECT\n",
    "import sqlite3\n",
    "\n",
    "conn = sqlite3.connect(\"movies.db\")\n",
    "cur = conn.cursor()\n",
    "\n",
    "sql_command = \"SELECT * FROM movie;\"\n",
    "cur.execute(sql_command)\n",
    "\n",
    "for item in cur:\n",
    "    print(item) # mỗi item là một tuple\n",
    "\n",
    "conn.close()"
   ]
  },
  {
   "cell_type": "code",
   "execution_count": 3,
   "id": "63f26c24",
   "metadata": {},
   "outputs": [],
   "source": [
    "# Cập nhật một bảng trong CSDL (database)\n",
    "import sqlite3\n",
    "\n",
    "conn = sqlite3.connect(\"movies.db\")\n",
    "cur = conn.cursor()\n",
    "\n",
    "sql_command = \"\"\"\n",
    "UPDATE movie\n",
    "SET year=2000\n",
    "WHERE title=?\n",
    "\"\"\"\n",
    "\n",
    "# Sử dụng ? để tránh SQL Injection Attacks\n",
    "cur.execute(sql_command, (\"Mr. Boot\",))\n",
    "\n",
    "conn.commit() # Xác nhận dữ liệu được update, không có thì bảng không thay đổi sau khi thực hiện UPDATE\n",
    "conn.close()"
   ]
  },
  {
   "cell_type": "code",
   "execution_count": 4,
   "id": "a98bde0e",
   "metadata": {},
   "outputs": [],
   "source": [
    "# Xóa hết dữ liệu trong CSDL\n",
    "import sqlite3\n",
    "\n",
    "conn = sqlite3.connect(\"movies.db\")\n",
    "cur = conn.cursor()\n",
    "\n",
    "sql_command = \"DELETE FROM movie;\"\n",
    "\n",
    "cur.execute(sql_command)\n",
    "\n",
    "conn.commit()\n",
    "conn.close()"
   ]
  },
  {
   "cell_type": "markdown",
   "id": "7c108dca",
   "metadata": {},
   "source": [
    "## 4. Bài tập\n",
    "+ Thực hành tạo một chương trình CRUD (Create - Read - Update - Delete) sử dụng sqlite3 trong Python trên một bảng book (id, name, author) với id là khóa chính kiểu Integer tự động tăng giá trị khi một bản ghi được chèn vào. Chữa tại lớp"
   ]
  }
 ],
 "metadata": {
  "kernelspec": {
   "display_name": "Python 3 (ipykernel)",
   "language": "python",
   "name": "python3"
  },
  "language_info": {
   "codemirror_mode": {
    "name": "ipython",
    "version": 3
   },
   "file_extension": ".py",
   "mimetype": "text/x-python",
   "name": "python",
   "nbconvert_exporter": "python",
   "pygments_lexer": "ipython3",
   "version": "3.10.9"
  }
 },
 "nbformat": 4,
 "nbformat_minor": 5
}
