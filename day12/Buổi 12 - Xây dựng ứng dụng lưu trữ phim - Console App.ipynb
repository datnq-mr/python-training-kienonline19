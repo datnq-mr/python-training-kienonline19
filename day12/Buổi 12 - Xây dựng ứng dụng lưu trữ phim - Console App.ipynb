{
 "cells": [
  {
   "attachments": {},
   "cell_type": "markdown",
   "id": "fd1ab19a",
   "metadata": {},
   "source": [
    "## 1. Yêu cầu\n",
    "### Công việc của bạn là tạo ra một ứng dụng lưu trữ những bộ phim mà cho phép người dùng quản lý bộ sưu tập các bộ phim của họ và tìm bất kỳ bộ phim nào họ muốn\n",
    "+ Đây là 5 chức năng chính\n",
    "1. Thêm một bộ phim tới bộ sưu tập\n",
    "2. Hiển thị danh sách các bộ phim trong bộ sưu tập\n",
    "3. Tìm kiếm phim theo tên (nâng cao có thể tìm kiếm theo nhiều thuộc tính khác)\n",
    "4. Xóa một bộ phim theo tên\n",
    "5. Sửa thông tin của một bộ phim"
   ]
  },
  {
   "cell_type": "markdown",
   "id": "8359e2c0",
   "metadata": {},
   "source": [
    "## 2. Gợi ý\n",
    "+ Mỗi bộ phim là một dict có thể có các thuộc tính (đặc điểm):\n",
    "1. Tên (name)\n",
    "2. Đạo diễn (director)\n",
    "3. Năm phát hành (release year)\n",
    "+ Nơi những bộ phim được lưu trữ\n",
    "1. Có thể sử dụng list[dict] (danh sách chứa những dict bên trong mô tả mỗi bộ phim)"
   ]
  },
  {
   "cell_type": "markdown",
   "id": "b1646fee",
   "metadata": {},
   "source": [
    "## 3. Mã nguồn (Full code)\n",
    "+ file app.py trong cùng thư mục buổi 12"
   ]
  }
 ],
 "metadata": {
  "kernelspec": {
   "display_name": "Python 3 (ipykernel)",
   "language": "python",
   "name": "python3"
  },
  "language_info": {
   "codemirror_mode": {
    "name": "ipython",
    "version": 3
   },
   "file_extension": ".py",
   "mimetype": "text/x-python",
   "name": "python",
   "nbconvert_exporter": "python",
   "pygments_lexer": "ipython3",
   "version": "3.10.9"
  }
 },
 "nbformat": 4,
 "nbformat_minor": 5
}
