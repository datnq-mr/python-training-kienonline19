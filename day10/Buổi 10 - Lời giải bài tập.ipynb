{
 "cells": [
  {
   "cell_type": "markdown",
   "id": "4b35e4ce",
   "metadata": {},
   "source": [
    "## Bài tập\n",
    "1. Đếm số chẵn và lẻ trong đoạn [0, 1000] theo 2 cách: thông thường và list comprehension\n",
    "2. Nhập vào một danh sách những số nguyên và hiển thị gấp đôi của các số trong danh sách sử dụng list comprehension\n",
    "3. Cho dict như sau:\n",
    "people = {\n",
    "  \"Emma\": 71,\n",
    "  \"Jack\": 45,\n",
    "  \"Amy\": 15,\n",
    "  \"Ben\"\n",
    "}\n",
    "+ In ra người già nhất\n",
    "+ Tạo ra một dict mới dựa vào people dict với tuổi của mỗi người tăng gấp đôi\n",
    "+ In ra enumerate các key trong people dict\n",
    "+ Sử dụng hàm dict để biến enumerate bên trên trở thành dict\n",
    "4. Sử dụng zip function để tạo 2 lists sau trở thành một dict\n",
    "+ fruits  = [\"banana\", \"apple\", \"kiwi\", \"mango\", \"cherry\", \"orange\"]\n",
    "+ amounts = [12, 34, 90, 100, 300, 45, 60, 70, 678]"
   ]
  },
  {
   "cell_type": "code",
   "execution_count": 1,
   "id": "a1a5903f",
   "metadata": {},
   "outputs": [
    {
     "name": "stdout",
     "output_type": "stream",
     "text": [
      "Số lượng giá trị chẵn trong [0, 1000]\t: 501\n",
      "Số lượng giá trị lẻ trong [0, 1000]\t: 500\n"
     ]
    }
   ],
   "source": [
    "# 1. Đếm số chẵn và lẻ trong đoạn [0, 1000] theo 2 cách: thông thường và list comprehension\n",
    "# Cách 1: thông thường\n",
    "odd = even = 0\n",
    "\n",
    "for n in range(0, 1001):\n",
    "    if n % 2 == 0:\n",
    "        even += 1\n",
    "    else:\n",
    "        odd += 1\n",
    "        \n",
    "print(f\"Số lượng giá trị chẵn trong [0, 1000]\\t: {even}\")\n",
    "print(f\"Số lượng giá trị lẻ trong [0, 1000]\\t: {odd}\")"
   ]
  },
  {
   "cell_type": "code",
   "execution_count": 2,
   "id": "08c62605",
   "metadata": {},
   "outputs": [
    {
     "name": "stdout",
     "output_type": "stream",
     "text": [
      "Số lượng giá trị chẵn trong [0, 1000]\t: 501\n",
      "Số lượng giá trị lẻ trong [0, 1000]\t: 500\n"
     ]
    }
   ],
   "source": [
    "# Cách 2: Sử dụng list comprehension\n",
    "even = sum([1 for n in range(0, 1001) if n % 2 == 0])\n",
    "odd  = sum([1 for n in range(0, 1001) if n % 2 != 0])\n",
    "\n",
    "print(f\"Số lượng giá trị chẵn trong [0, 1000]\\t: {even}\")\n",
    "print(f\"Số lượng giá trị lẻ trong [0, 1000]\\t: {odd}\")"
   ]
  },
  {
   "cell_type": "code",
   "execution_count": 3,
   "id": "b112ae05",
   "metadata": {},
   "outputs": [
    {
     "name": "stdout",
     "output_type": "stream",
     "text": [
      "Nhập vào danh sách các số nguyên:\n",
      "1 2 3 4\n",
      "[2, 4, 6, 8]\n"
     ]
    }
   ],
   "source": [
    "# 2. Nhập vào một danh sách những số nguyên và hiển thị gấp đôi của các số trong danh sách sử dụng list comprehension\n",
    "int_numbers = [int(x) for x in input(\"Nhập vào danh sách các số nguyên:\\n\").split()]\n",
    "doubled_numbers = [n*2 for n in int_numbers]\n",
    "\n",
    "print(doubled_numbers)"
   ]
  },
  {
   "cell_type": "code",
   "execution_count": 4,
   "id": "a9b22941",
   "metadata": {},
   "outputs": [
    {
     "name": "stdout",
     "output_type": "stream",
     "text": [
      "Emma\n"
     ]
    }
   ],
   "source": [
    "# 3. Cho dict như sau: people = { \"Emma\": 71, \"Jack\": 45, \"Amy\": 15, \"Ben\" }\n",
    "people = {\n",
    "  \"Emma\": 71,\n",
    "  \"Jack\": 45,\n",
    "  \"Amy\": 15,\n",
    "  \"Ben\": 29\n",
    "}\n",
    "\n",
    "# In ra người già nhất\n",
    "max_age = max(people.values())\n",
    "\n",
    "for name, age in people.items():\n",
    "    if age == max_age:\n",
    "        print(name)\n",
    "        break"
   ]
  },
  {
   "cell_type": "code",
   "execution_count": 5,
   "id": "3eea5f98",
   "metadata": {},
   "outputs": [
    {
     "name": "stdout",
     "output_type": "stream",
     "text": [
      "Emma\n"
     ]
    }
   ],
   "source": [
    "# Cách 2:\n",
    "print(max(people, key=people.get))"
   ]
  },
  {
   "cell_type": "code",
   "execution_count": 6,
   "id": "bdff2b3b",
   "metadata": {},
   "outputs": [
    {
     "name": "stdout",
     "output_type": "stream",
     "text": [
      "{\n",
      "    \"Emma\": 142,\n",
      "    \"Jack\": 90,\n",
      "    \"Amy\": 30,\n",
      "    \"Ben\": 58\n",
      "}\n"
     ]
    }
   ],
   "source": [
    "# Tạo ra một dict mới dựa vào people dict với tuổi của mỗi người tăng gấp đôi\n",
    "new_people = {\n",
    "    name: age*2\n",
    "    for name, age in people.items()\n",
    "}\n",
    "\n",
    "import json\n",
    "print(json.dumps(new_people, indent=4))"
   ]
  },
  {
   "cell_type": "code",
   "execution_count": 7,
   "id": "7124be04",
   "metadata": {},
   "outputs": [
    {
     "name": "stdout",
     "output_type": "stream",
     "text": [
      "[(0, 'Emma'), (1, 'Jack'), (2, 'Amy'), (3, 'Ben')]\n"
     ]
    }
   ],
   "source": [
    "# In ra enumerate các key trong people dict\n",
    "print(list(enumerate(people)))"
   ]
  },
  {
   "cell_type": "code",
   "execution_count": 8,
   "id": "37f2e16a",
   "metadata": {},
   "outputs": [
    {
     "name": "stdout",
     "output_type": "stream",
     "text": [
      "{\n",
      "    \"0\": \"Emma\",\n",
      "    \"1\": \"Jack\",\n",
      "    \"2\": \"Amy\",\n",
      "    \"3\": \"Ben\"\n",
      "}\n"
     ]
    }
   ],
   "source": [
    "# Sử dụng hàm dict để biến enumerate bên trên trở thành dict\n",
    "dict_obj = dict(enumerate(people))\n",
    "print(json.dumps(dict_obj, indent=4))"
   ]
  },
  {
   "cell_type": "code",
   "execution_count": 9,
   "id": "ccdf1663",
   "metadata": {},
   "outputs": [
    {
     "name": "stdout",
     "output_type": "stream",
     "text": [
      "{\n",
      "    \"banana\": 12,\n",
      "    \"apple\": 34,\n",
      "    \"kiwi\": 90,\n",
      "    \"mango\": 100,\n",
      "    \"cherry\": 300,\n",
      "    \"orange\": 45\n",
      "}\n"
     ]
    }
   ],
   "source": [
    "# 4. Sử dụng zip function để tạo 2 lists sau trở thành một dict\n",
    "fruits  = [\"banana\", \"apple\", \"kiwi\", \"mango\", \"cherry\", \"orange\"]\n",
    "amounts = [ 12,       34,      90,     100,     300,      45,    60, 70, 678]\n",
    "\n",
    "fruits_info = dict(zip(fruits, amounts))\n",
    "print(json.dumps(fruits_info, indent=4))"
   ]
  }
 ],
 "metadata": {
  "kernelspec": {
   "display_name": "Python 3 (ipykernel)",
   "language": "python",
   "name": "python3"
  },
  "language_info": {
   "codemirror_mode": {
    "name": "ipython",
    "version": 3
   },
   "file_extension": ".py",
   "mimetype": "text/x-python",
   "name": "python",
   "nbconvert_exporter": "python",
   "pygments_lexer": "ipython3",
   "version": "3.10.9"
  }
 },
 "nbformat": 4,
 "nbformat_minor": 5
}
