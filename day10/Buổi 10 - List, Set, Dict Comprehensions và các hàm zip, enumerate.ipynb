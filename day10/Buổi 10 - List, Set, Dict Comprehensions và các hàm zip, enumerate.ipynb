{
 "cells": [
  {
   "cell_type": "markdown",
   "id": "20c9bfa1",
   "metadata": {},
   "source": [
    "## 1. Duyệt (đi qua) một list, set, tuple, dict bằng vòng lặp for"
   ]
  },
  {
   "cell_type": "code",
   "execution_count": 1,
   "id": "c15dde01",
   "metadata": {},
   "outputs": [
    {
     "name": "stdout",
     "output_type": "stream",
     "text": [
      "Bob\n",
      "Jen\n",
      "Kenny\n",
      "David\n",
      "Joe\n"
     ]
    }
   ],
   "source": [
    "# Duyệt qua một list\n",
    "friends = [\"Bob\", \"Jen\", \"Kenny\", \"David\", \"Joe\"]\n",
    "\n",
    "for friend in friends:\n",
    "    print(friend)"
   ]
  },
  {
   "cell_type": "code",
   "execution_count": 2,
   "id": "cce05e87",
   "metadata": {},
   "outputs": [
    {
     "name": "stdout",
     "output_type": "stream",
     "text": [
      "r g b "
     ]
    }
   ],
   "source": [
    "# Duyệt qua một tuple\n",
    "channels = ('r', 'g', 'b')\n",
    "\n",
    "for channel in channels:\n",
    "    print(channel, end=' ')"
   ]
  },
  {
   "cell_type": "code",
   "execution_count": 3,
   "id": "2ee9bed3",
   "metadata": {},
   "outputs": [
    {
     "name": "stdout",
     "output_type": "stream",
     "text": [
      "4\n",
      "-40\n",
      "-1000\n",
      "10\n",
      "60\n"
     ]
    }
   ],
   "source": [
    "# Duyệt qua một set\n",
    "numbers = {4, 10, -40, 60, -1000}\n",
    "\n",
    "for n in numbers:\n",
    "    print(n)"
   ]
  },
  {
   "cell_type": "code",
   "execution_count": 4,
   "id": "141c0924",
   "metadata": {},
   "outputs": [
    {
     "name": "stdout",
     "output_type": "stream",
     "text": [
      "id\n",
      "name\n",
      "age\n",
      "gender\n"
     ]
    }
   ],
   "source": [
    "# Duyệt qua một dict\n",
    "\"\"\"\n",
    "+ Duyệt lấy các key (khóa)\n",
    "+ Duyệt lấy các giá trị (values) tương ứng với các khóa\n",
    "+ Duyệt lấy các items (phần tử) dưới dạng mỗi item là tuple\n",
    "\"\"\"\n",
    "# Duyệt lấy các key\n",
    "student = {\n",
    "    \"id\": \"SV001\",\n",
    "    \"name\": \"Kenny\",\n",
    "    \"age\": 23,\n",
    "    \"gender\": \"male\"\n",
    "}\n",
    "\n",
    "for key in student:\n",
    "    print(key)"
   ]
  },
  {
   "cell_type": "code",
   "execution_count": 5,
   "id": "7ec6343a",
   "metadata": {},
   "outputs": [
    {
     "name": "stdout",
     "output_type": "stream",
     "text": [
      "SV001\n",
      "Kenny\n",
      "23\n",
      "male\n"
     ]
    }
   ],
   "source": [
    "# Duyệt lấy các giá trị (values) tương ứng với các khóa\n",
    "for value in student.values():\n",
    "    print(value)"
   ]
  },
  {
   "cell_type": "code",
   "execution_count": 6,
   "id": "c8e6c1a4",
   "metadata": {},
   "outputs": [
    {
     "name": "stdout",
     "output_type": "stream",
     "text": [
      "('id', 'SV001')\n",
      "('name', 'Kenny')\n",
      "('age', 23)\n",
      "('gender', 'male')\n"
     ]
    }
   ],
   "source": [
    "# Duyệt lấy các items (phần tử) dưới dạng mỗi item là tuple\n",
    "for item in student.items():\n",
    "    print(item)"
   ]
  },
  {
   "cell_type": "markdown",
   "id": "3000b510",
   "metadata": {},
   "source": [
    "## 2. List, Set, Dict Comprehensions"
   ]
  },
  {
   "cell_type": "code",
   "execution_count": 7,
   "id": "511389dc",
   "metadata": {},
   "outputs": [
    {
     "name": "stdout",
     "output_type": "stream",
     "text": [
      "['apple', 'banana', 'orange', 'mango']\n"
     ]
    }
   ],
   "source": [
    "# List Comprehension\n",
    "\"\"\"\n",
    "+ là cú pháp cho phép chúng ta rút gọn một đoạn code dài dòng\n",
    "+ luôn tạo ra một danh sách (list) mới\n",
    "+ biến nhận giá trị sau for sẽ không tồn tại khi kết thúc\n",
    "\"\"\"\n",
    "# Lấy ra một danh sách chứa các loại hoa quả bắt đầu với ký tự 'a'\n",
    "# một cách thông thường chúng ta sẽ ghi:\n",
    "fruits = [\"apple\", \"banana\", \"orange\", \"kiwi\", \"mango\", \"cherry\"]\n",
    "\n",
    "new_list = []\n",
    "\n",
    "for fruit in fruits:\n",
    "    if 'a' in fruit: # Kiểm tra ký tự 'a' có nằm trong chuỗi fruit hay không ?\n",
    "        new_list.append(fruit)\n",
    "        \n",
    "print(new_list)"
   ]
  },
  {
   "cell_type": "code",
   "execution_count": 8,
   "id": "2ce0a9a1",
   "metadata": {},
   "outputs": [
    {
     "name": "stdout",
     "output_type": "stream",
     "text": [
      "['apple', 'banana', 'orange', 'mango']\n"
     ]
    }
   ],
   "source": [
    "# Sử dụng list comprehension\n",
    "new_list = [fruit for fruit in fruits if 'a' in fruit]\n",
    "print(new_list)"
   ]
  },
  {
   "cell_type": "code",
   "execution_count": 9,
   "id": "3efb448f",
   "metadata": {},
   "outputs": [
    {
     "name": "stdout",
     "output_type": "stream",
     "text": [
      "{'apple'}\n"
     ]
    }
   ],
   "source": [
    "# Sử dụng set comprehension\n",
    "new_set = {fruit for fruit in fruits if fruit.startswith('a')} # Lấy ra một set các phần tử bắt đầu với 'a'\n",
    "print(new_set)"
   ]
  },
  {
   "cell_type": "code",
   "execution_count": 10,
   "id": "a968aaed",
   "metadata": {},
   "outputs": [
    {
     "name": "stdout",
     "output_type": "stream",
     "text": [
      "{'a': 2, 'b': 4, 'c': 6, 'd': 8}\n"
     ]
    }
   ],
   "source": [
    "# Sử dụng Dict comprehension\n",
    "d = {'a': 1, 'b': 2, 'c': 3, 'd': 4}\n",
    "\n",
    "# Dict comprehension\n",
    "# new_d = {\n",
    "#     i[0]: i[1] * 2\n",
    "#     for i in d.items()\n",
    "# }\n",
    "\n",
    "# Có thể viết sử dụng cú pháp unpacking cũng tương tự\n",
    "new_d = {\n",
    "    k: v * 2\n",
    "    for k, v in d.items()\n",
    "}\n",
    "\n",
    "print(new_d)"
   ]
  },
  {
   "cell_type": "markdown",
   "id": "1149f683",
   "metadata": {},
   "source": [
    "## 3. Các hàm có sẵn zip và enumerate"
   ]
  },
  {
   "cell_type": "code",
   "execution_count": 11,
   "id": "74eb2faf",
   "metadata": {},
   "outputs": [
    {
     "name": "stdout",
     "output_type": "stream",
     "text": [
      "[('a', 1), ('b', 2), ('c', 3), ('d', 4)]\n"
     ]
    }
   ],
   "source": [
    "# Hàm zip để kết hợp hai hay nhiều iterable (cái có thể for được như: list, tuple, set, dict)\n",
    "# Nó kết hợp theo cách như sau:\n",
    "\"\"\"\n",
    "* lấy iterable có len nhỏ nhất làm chuẩn\n",
    "* lấy giá trị thứ nhất của iterable1 và irterable2, ... kết hợp với nhau => tuple\n",
    "* zip trả về một zip object chứa một loạt các tuple tương ứng như trên\n",
    "\"\"\"\n",
    "lst1 = list(\"abcd\") # list - ['a', 'b', 'c', 'd']\n",
    "lst2 = (1, 2, 3, 4, 5) # tuple\n",
    "\n",
    "print(list(zip(lst1, lst2))) # List[tuple] vì zip object khi in ra không thể đọc được các giá trị bên trong"
   ]
  },
  {
   "cell_type": "code",
   "execution_count": 12,
   "id": "fae8dd04",
   "metadata": {},
   "outputs": [
    {
     "name": "stdout",
     "output_type": "stream",
     "text": [
      "[(0, 'aa'), (1, 'bb'), (2, 'cc'), (3, 'dd')]\n"
     ]
    }
   ],
   "source": [
    "# Hàm enumerate trả về một enumerate object chứa một loạt các tuple (vị trí, giá trị) của mỗi item trong iterable truyền vào\n",
    "lst = ['aa', 'bb', 'cc', 'dd']\n",
    "print(list(enumerate(lst)))"
   ]
  },
  {
   "cell_type": "markdown",
   "id": "dab0c222",
   "metadata": {},
   "source": [
    "## 4. Bài tập\n",
    "1. Đếm số chẵn và lẻ trong đoạn [0, 1000] theo 2 cách: thông thường và list comprehension\n",
    "2. Nhập vào một danh sách những số nguyên và hiển thị gấp đôi của các số trong danh sách sử dụng list comprehension\n",
    "3. Cho dict như sau:"
   ]
  },
  {
   "cell_type": "code",
   "execution_count": 13,
   "id": "85619718",
   "metadata": {},
   "outputs": [],
   "source": [
    "people = {\n",
    "  \"Emma\": 71,\n",
    "  \"Jack\": 45,\n",
    "  \"Amy\": 15,\n",
    "  \"Ben\": 29\n",
    "}"
   ]
  },
  {
   "cell_type": "markdown",
   "id": "5a7cf50b",
   "metadata": {},
   "source": [
    "+ In ra người già nhất\n",
    "+ Tạo ra một dict mới dựa vào people dict với tuổi của mỗi người tăng gấp đôi\n",
    "+ In ra enumerate các key trong people dict\n",
    "+ Sử dụng hàm dict để biến enumerate bên trên trở thành dict\n",
    "4. Sử dụng zip function để tạo 2 lists sau trở thành một dict\n",
    "+ fruits  = [\"banana\", \"apple\", \"kiwi\", \"mango\", \"cherry\", \"orange\"]\n",
    "+ amounts = [12, 34, 90, 100, 300, 45, 60, 70, 678]"
   ]
  }
 ],
 "metadata": {
  "kernelspec": {
   "display_name": "Python 3 (ipykernel)",
   "language": "python",
   "name": "python3"
  },
  "language_info": {
   "codemirror_mode": {
    "name": "ipython",
    "version": 3
   },
   "file_extension": ".py",
   "mimetype": "text/x-python",
   "name": "python",
   "nbconvert_exporter": "python",
   "pygments_lexer": "ipython3",
   "version": "3.10.9"
  }
 },
 "nbformat": 4,
 "nbformat_minor": 5
}
