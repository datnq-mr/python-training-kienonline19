{
 "cells": [
  {
   "cell_type": "markdown",
   "id": "b8a0edd4",
   "metadata": {},
   "source": [
    "## 1. Tổng quan về lệnh if\n",
    "+ câu lệnh if cho phép chúng ta thực hiện một tập những hành động (khối lệnh) dựa trên một điều kiện được đánh giá True hay False\n",
    "+ ví dụ: nếu còn tiền trong tài khoản ngân hàng thì máy ATM sẽ cho phép rút tiền ngược lại thì thông báo lỗi"
   ]
  },
  {
   "cell_type": "code",
   "execution_count": 1,
   "id": "5431c332",
   "metadata": {},
   "outputs": [
    {
     "name": "stdout",
     "output_type": "stream",
     "text": [
      "Nhập vào một số: -1.25\n",
      "-1.25 là số âm\n"
     ]
    }
   ],
   "source": [
    "# Ví dụ về câu lệnh if\n",
    "# Kiểm tra một số nhập vào là dương, âm hay bằng 0\n",
    "user_number = float(input(\"Nhập vào một số: \"))\n",
    "\n",
    "if user_number > 0:\n",
    "    print(f\"{user_number} là số dương\")\n",
    "elif user_number < 0:\n",
    "    print(f\"{user_number} là số âm\")\n",
    "else:\n",
    "    print(f\"{user_number} là số 0\")"
   ]
  },
  {
   "cell_type": "markdown",
   "id": "0f25c9cc",
   "metadata": {},
   "source": [
    "### Đoạn code bên trên có ý nghĩa như sau\n",
    "1. Nhập vào một số thực có tên là user_number từ bàn phím\n",
    "2. Kiểm tra nếu user_number lớn hơn 0 thì in ra dòng chữ 'user_number là số dương'\n",
    "3. Ngược lại nếu (elif) user_number < 0 thì in ra dòng chữ 'user_number là số âm'\n",
    "4. Ngược lại (else) - nghĩa là hai điều kiện trên là sai thì thực hiện in ra 'user_number là số 0'\n",
    "5. Kết thúc chương trình"
   ]
  },
  {
   "cell_type": "markdown",
   "id": "664ed024",
   "metadata": {},
   "source": [
    "### Lưu ý:\n",
    "1. Về cú pháp:\n",
    "+ Cuối if, elif, else phải có dấu hai chấm (:) biểu thị khối lệnh\n",
    "+ Những dòng print trong đoạn code trên bị thụt lề (thường là một Tab = 4 spaces) gọi là Indentation\n",
    "+ Thụt lề rất quan trọng trong các câu lệnh if, for, while, def nên mọi người phải chú ý\n",
    "+ So sánh bằng sau câu lệnh if thì sử dụng toán tử == (bằng bằng) không phải một dấu = (phép gán - định nghĩa biến)"
   ]
  },
  {
   "cell_type": "code",
   "execution_count": 2,
   "id": "991a6698",
   "metadata": {},
   "outputs": [
    {
     "ename": "SyntaxError",
     "evalue": "cannot assign to literal here. Maybe you meant '==' instead of '='? (1759646807.py, line 2)",
     "output_type": "error",
     "traceback": [
      "\u001b[1;36m  Cell \u001b[1;32mIn[2], line 2\u001b[1;36m\u001b[0m\n\u001b[1;33m    if 1=2: # phải là == không phải =\u001b[0m\n\u001b[1;37m       ^\u001b[0m\n\u001b[1;31mSyntaxError\u001b[0m\u001b[1;31m:\u001b[0m cannot assign to literal here. Maybe you meant '==' instead of '='?\n"
     ]
    }
   ],
   "source": [
    "# Ví dụ về những đoạn code sai cú pháp câu lệnh if-elif-else\n",
    "if 1=2: # phải là == không phải =\n",
    "    print('Something')"
   ]
  },
  {
   "cell_type": "code",
   "execution_count": 3,
   "id": "8df2b000",
   "metadata": {},
   "outputs": [
    {
     "ename": "IndentationError",
     "evalue": "expected an indented block after 'if' statement on line 1 (1088837474.py, line 2)",
     "output_type": "error",
     "traceback": [
      "\u001b[1;36m  Cell \u001b[1;32mIn[3], line 2\u001b[1;36m\u001b[0m\n\u001b[1;33m    print(\"Something else\") # phải thụt lề - indentation\u001b[0m\n\u001b[1;37m    ^\u001b[0m\n\u001b[1;31mIndentationError\u001b[0m\u001b[1;31m:\u001b[0m expected an indented block after 'if' statement on line 1\n"
     ]
    }
   ],
   "source": [
    "if True:\n",
    "print(\"Something else\") # phải thụt lề - indentation"
   ]
  },
  {
   "cell_type": "code",
   "execution_count": 4,
   "id": "997bd4f0",
   "metadata": {},
   "outputs": [
    {
     "ename": "SyntaxError",
     "evalue": "expected ':' (3149444782.py, line 2)",
     "output_type": "error",
     "traceback": [
      "\u001b[1;36m  Cell \u001b[1;32mIn[4], line 2\u001b[1;36m\u001b[0m\n\u001b[1;33m    if a > b # thiếu dấu hai chấm ở cuối (:)\u001b[0m\n\u001b[1;37m             ^\u001b[0m\n\u001b[1;31mSyntaxError\u001b[0m\u001b[1;31m:\u001b[0m expected ':'\n"
     ]
    }
   ],
   "source": [
    "a = b = 2\n",
    "if a > b # thiếu dấu hai chấm ở cuối (:)\n",
    "    print('a lớn hơn b')"
   ]
  },
  {
   "cell_type": "code",
   "execution_count": 5,
   "id": "eb61346d",
   "metadata": {},
   "outputs": [
    {
     "name": "stdout",
     "output_type": "stream",
     "text": [
      "nice\n"
     ]
    }
   ],
   "source": [
    "# Tuy rằng ví dụ này vẫn ra kết quả nhưng Indentation (thụt lề) bị thiết lập không đồng đều ở các dòng print\n",
    "# nên chúng ta chú ý set số lượng dấu cách phù hợp thông thường 4 spaces (dấu cách) = 1 Tab (thụt lề)\n",
    "# Trong vscode cũng có chỗ set mình sẽ hướng dẫn mọi người trong buổi học\n",
    "if 2 > 3:\n",
    "    print('hello')\n",
    "elif not False:\n",
    "  print(\"nice\")\n",
    "else:\n",
    " print(\"bye\")"
   ]
  },
  {
   "cell_type": "markdown",
   "id": "69c31330",
   "metadata": {},
   "source": [
    "## Lệnh if-else rút gọn"
   ]
  },
  {
   "cell_type": "code",
   "execution_count": 6,
   "id": "4131a3ab",
   "metadata": {},
   "outputs": [
    {
     "name": "stdout",
     "output_type": "stream",
     "text": [
      "a không chia hết cho 3\n"
     ]
    }
   ],
   "source": [
    "# Kiểm tra số nguyên a có chia hết cho 3 không ?\n",
    "# Bình thường ta viết\n",
    "a = 10\n",
    "\n",
    "if a % 3 == 0:\n",
    "    print(\"a chia hết cho 3\")\n",
    "else:\n",
    "    print(\"a không chia hết cho 3\")"
   ]
  },
  {
   "cell_type": "code",
   "execution_count": 7,
   "id": "454d11e9",
   "metadata": {},
   "outputs": [
    {
     "name": "stdout",
     "output_type": "stream",
     "text": [
      "a không chia hết cho 3\n"
     ]
    }
   ],
   "source": [
    "# Sử dụng lệnh if-else rút gọn\n",
    "print(\"a chia hết cho 3\" if a % 3 == 0 else \"a không chia hết cho 3\")"
   ]
  },
  {
   "cell_type": "markdown",
   "id": "24c8585e",
   "metadata": {},
   "source": [
    "## 2. Kỹ thuật debug chương trình\n",
    "+ Lợi ích\n",
    "1. Biết cách chương trình hoạt động bằng việc chạy qua từng dòng code một\n",
    "2. Fix (sửa chữa) các lỗi liên quan đến logic\n",
    "+ Demo trong vscode (Mình sẽ hướng dẫn trong buổi học)"
   ]
  },
  {
   "cell_type": "markdown",
   "id": "b66868b4",
   "metadata": {},
   "source": [
    "## 3. Bài tập\n",
    "1. Nhập vào một số nguyên n. Kiểm tra và in ra n là số chẵn hay lẻ\n",
    "2. Nhập vào một năm bất kỳ. Kiểm tra xem năm đó có phải là năm nhuận hay không ?\n",
    "3. Nhập hai số a và b từ bàn phím. In ra số lớn nhất và nhỏ nhất trong hai số\n",
    "4. Giải và biện luận phương trình bậc nhất một ẩn ax + b = 0 (ẩn x, a và b là hai số cho trước)\n",
    "5. Giải và biện luận phương trình bậc nhất một hai ax^2 + bx + c = 0 (ẩn x, a, b, c là ba số cho trước)"
   ]
  }
 ],
 "metadata": {
  "kernelspec": {
   "display_name": "Python 3 (ipykernel)",
   "language": "python",
   "name": "python3"
  },
  "language_info": {
   "codemirror_mode": {
    "name": "ipython",
    "version": 3
   },
   "file_extension": ".py",
   "mimetype": "text/x-python",
   "name": "python",
   "nbconvert_exporter": "python",
   "pygments_lexer": "ipython3",
   "version": "3.10.9"
  }
 },
 "nbformat": 4,
 "nbformat_minor": 5
}
