{
 "cells": [
  {
   "cell_type": "markdown",
   "id": "069c9bd6",
   "metadata": {},
   "source": [
    "## 3. Bài tập\n",
    "1. Nhập vào một số nguyên n. Kiểm tra và in ra n là số chẵn hay lẻ\n",
    "2. Nhập vào một năm bất kỳ. Kiểm tra xem năm đó có phải là năm nhuận hay không ?\n",
    "3. Nhập hai số a và b từ bàn phím. In ra số lớn nhất và nhỏ nhất trong hai số\n",
    "4. Giải và biện luận phương trình bậc nhất một ẩn ax + b = 0 (ẩn x, a và b là hai số cho trước)\n",
    "5. Giải và biện luận phương trình bậc nhất một hai ax^2 + bx + c = 0 (ẩn x, a, b, c là ba số cho trước)"
   ]
  },
  {
   "cell_type": "code",
   "execution_count": 1,
   "id": "6b574908",
   "metadata": {},
   "outputs": [
    {
     "name": "stdout",
     "output_type": "stream",
     "text": [
      "Nhập vào số nguyên n: 123\n",
      "123 là số lẻ\n"
     ]
    }
   ],
   "source": [
    "# 1. Nhập vào một số nguyên n. Kiểm tra và in ra n là số chẵn hay lẻ\n",
    "n = int(input(\"Nhập vào số nguyên n: \"))\n",
    "\n",
    "if n % 2 == 0:\n",
    "    print(f\"{n} là số chẵn\")\n",
    "else:\n",
    "    print(f\"{n} là số lẻ\")"
   ]
  },
  {
   "cell_type": "code",
   "execution_count": 2,
   "id": "8cb73699",
   "metadata": {},
   "outputs": [
    {
     "name": "stdout",
     "output_type": "stream",
     "text": [
      "Nhập vào một năm: 2022\n",
      "2022 không phải là năm nhuận\n"
     ]
    }
   ],
   "source": [
    "# 2. Nhập vào một năm bất kỳ. Kiểm tra xem năm đó có phải là năm nhuận hay không ?\n",
    "year = int(input(\"Nhập vào một năm: \"))\n",
    "\n",
    "if year % 400 == 0 or (year % 4 == 0 and year % 100 != 0):\n",
    "    print(f\"{year} là năm nhuận\")\n",
    "else:\n",
    "    print(f\"{year} không phải là năm nhuận\")"
   ]
  },
  {
   "cell_type": "code",
   "execution_count": 3,
   "id": "35c7b297",
   "metadata": {},
   "outputs": [
    {
     "name": "stdout",
     "output_type": "stream",
     "text": [
      "a = 1\n",
      "b = 1\n",
      "Số lớn nhất trong hai số 1.0 và 1.0 là 1.0\n",
      "Số nhỏ nhất trong hai số 1.0 và 1.0 là 1.0\n"
     ]
    }
   ],
   "source": [
    "# 3. Nhập hai số a và b từ bàn phím. In ra số lớn nhất và nhỏ nhất trong hai số\n",
    "a = float(input('a = '))\n",
    "b = float(input('b = '))\n",
    "\n",
    "if a > b:\n",
    "    print(f\"Số lớn nhất trong hai số {a} và {b} là {a}\")\n",
    "    print(f\"Số nhỏ nhất trong hai số {a} và {b} là {b}\")\n",
    "else:\n",
    "    print(f\"Số lớn nhất trong hai số {a} và {b} là {b}\")\n",
    "    print(f\"Số nhỏ nhất trong hai số {a} và {b} là {a}\")"
   ]
  },
  {
   "cell_type": "code",
   "execution_count": 4,
   "id": "72724a73",
   "metadata": {},
   "outputs": [
    {
     "name": "stdout",
     "output_type": "stream",
     "text": [
      "a = 0\n",
      "b = 0\n",
      "Phương trình có vô số nghiệm\n"
     ]
    }
   ],
   "source": [
    "# 4. Giải và biện luận phương trình bậc nhất một ẩn ax + b = 0 (ẩn x, a và b là hai số cho trước)\n",
    "a = float(input('a = '))\n",
    "b = float(input('b = '))\n",
    "\n",
    "if a == 0:\n",
    "    if b == 0:\n",
    "        print(\"Phương trình có vô số nghiệm\")\n",
    "    else:\n",
    "        print(\"Phương trình vô nghiệm\")\n",
    "else:\n",
    "    print(\"Phương trình có nghiệm duy nhất x =\", -b/a)"
   ]
  },
  {
   "cell_type": "code",
   "execution_count": 5,
   "id": "2aa61d55",
   "metadata": {},
   "outputs": [
    {
     "name": "stdout",
     "output_type": "stream",
     "text": [
      "a = 1\n",
      "b = -3\n",
      "c = 2\n",
      "Phương trình có 2 nghiệm phân biệt: 2.0 1.0\n"
     ]
    }
   ],
   "source": [
    "# 5. Giải và biện luận phương trình bậc nhất một hai ax^2 + bx + c = 0 (ẩn x, a, b, c là ba số cho trước)\n",
    "a = float(input('a = '))\n",
    "b = float(input('b = '))\n",
    "c = float(input('c = '))\n",
    "\n",
    "if a == 0:\n",
    "    if b == 0:\n",
    "        if c == 0:\n",
    "            print(\"Phương trình có vô số nghiệm\")\n",
    "        else:\n",
    "            print(\"Phương trình vô nghiệm\")\n",
    "    else:\n",
    "        print(\"Phương trình có nghiệm duy nhất x =\", -c/b)\n",
    "else:\n",
    "    denta = b**2 - 4*a*c\n",
    "    \n",
    "    if denta > 0:\n",
    "        x1 = (-b + denta**0.5) / (2*a)\n",
    "        x2 = (-b - denta**0.5) / (2*a)\n",
    "        \n",
    "        print(\"Phương trình có 2 nghiệm phân biệt:\", x1, x2)\n",
    "    elif denta == 0:\n",
    "        print(\"Phương trình có nghiệm kép:\", -b/(2*a))\n",
    "    else:\n",
    "        print(\"Phương trình vô nghiệm\")"
   ]
  }
 ],
 "metadata": {
  "kernelspec": {
   "display_name": "Python 3 (ipykernel)",
   "language": "python",
   "name": "python3"
  },
  "language_info": {
   "codemirror_mode": {
    "name": "ipython",
    "version": 3
   },
   "file_extension": ".py",
   "mimetype": "text/x-python",
   "name": "python",
   "nbconvert_exporter": "python",
   "pygments_lexer": "ipython3",
   "version": "3.10.9"
  }
 },
 "nbformat": 4,
 "nbformat_minor": 5
}
