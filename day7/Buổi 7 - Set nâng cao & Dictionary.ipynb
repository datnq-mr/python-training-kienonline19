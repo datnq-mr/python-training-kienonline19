{
 "cells": [
  {
   "cell_type": "markdown",
   "id": "648ec286",
   "metadata": {},
   "source": [
    "## 1. Set nâng cao\n",
    "+ Có hai cách sử dụng:\n",
    "+ Cách 1: sử dụng hàm thì biến gọi hàm phải là set còn cái truyền vào hàm có thể là list, tuple, set và kết quả trả về là một set mới hoàn toàn\n",
    "+ Cách 2: sử dụng toán tử: & (giao), - (khác biệt), ^ (lấy tất trừ phần chung), | (lấy tất)\n",
    "+ Lưu ý: cách 2 hai toán hạng hai bên của toán tử bắt buộc là set"
   ]
  },
  {
   "cell_type": "code",
   "execution_count": 1,
   "id": "e0ba3fc5",
   "metadata": {},
   "outputs": [
    {
     "name": "stdout",
     "output_type": "stream",
     "text": [
      "{2, 4}\n",
      "{2, 4}\n"
     ]
    }
   ],
   "source": [
    "# Tìm các phần tử chung giữa hai set\n",
    "set_a = {1, 2, 3, 4, -1, -10}\n",
    "set_b = {2, 4, 5, 6, 7}\n",
    "\n",
    "set_c = set_a.intersection(set_b) # sử dụng hàm\n",
    "print(set_a & set_b) # sử dụng toán tử\n",
    "print(set_c) "
   ]
  },
  {
   "cell_type": "code",
   "execution_count": 2,
   "id": "937f6c13",
   "metadata": {},
   "outputs": [
    {
     "name": "stdout",
     "output_type": "stream",
     "text": [
      "{1, 3, -10, -1}\n",
      "{1, 3, -10, -1}\n"
     ]
    }
   ],
   "source": [
    "# Tìm các phần tử thuộc set_a nhưng không thuộc set_b\n",
    "set_d = set_a.difference(set_b)\n",
    "print(set_a - set_b)\n",
    "print(set_d)"
   ]
  },
  {
   "cell_type": "code",
   "execution_count": 3,
   "id": "d48f8da0",
   "metadata": {},
   "outputs": [
    {
     "name": "stdout",
     "output_type": "stream",
     "text": [
      "{5, 6, 7}\n",
      "{5, 6, 7}\n"
     ]
    }
   ],
   "source": [
    "# Tìm các phần tử thuộc set_b nhưng không thuộc set_a\n",
    "set_e = set_b.difference(set_a)\n",
    "print(set_b - set_a)\n",
    "print(set_e)"
   ]
  },
  {
   "cell_type": "code",
   "execution_count": 4,
   "id": "fdcf2c4a",
   "metadata": {},
   "outputs": [
    {
     "name": "stdout",
     "output_type": "stream",
     "text": [
      "{1, 2, 3, 4, 5, 6, 7, -10, -1}\n",
      "{1, 2, 3, 4, 5, 6, 7, -10, -1}\n"
     ]
    }
   ],
   "source": [
    "# Kết hợp hai set_a & b thành một\n",
    "set_f = set_a.union(set_b)\n",
    "print(set_a | set_b)\n",
    "print(set_f)"
   ]
  },
  {
   "cell_type": "code",
   "execution_count": 5,
   "id": "26c8a36c",
   "metadata": {},
   "outputs": [
    {
     "name": "stdout",
     "output_type": "stream",
     "text": [
      "{1, 3, 5, 6, 7, -10, -1}\n",
      "{1, 3, 5, 6, 7, -10, -1}\n"
     ]
    }
   ],
   "source": [
    "# Tìm các phần tử trong hai set ngoại trừ phần chung\n",
    "set_g = set_a.symmetric_difference(set_b)\n",
    "print(set_a ^ set_b)\n",
    "print(set_g)"
   ]
  },
  {
   "cell_type": "markdown",
   "id": "b0924ed3",
   "metadata": {},
   "source": [
    "## 2. Dictionary (dict - từ điển)\n",
    "+ dict là một cấu trúc dữ liệu mà tạo bởi các cặp key:value (item - element) bên trong nó\n",
    "+ dict cũng được tạo sử dụng cặp dấu ngoặc nhọn {}\n",
    "+ các key trong dict không được lặp lại và không thể thay đổi (tuple - str - int- float - bool ...)\n",
    "+ các value có thể thay đổi (list hay dict khác)\n",
    "+ lưu ý: sử dụng hàm list để biến một dict thành một danh sách"
   ]
  },
  {
   "cell_type": "code",
   "execution_count": 6,
   "id": "be76c564",
   "metadata": {},
   "outputs": [
    {
     "data": {
      "text/plain": [
       "dict"
      ]
     },
     "execution_count": 6,
     "metadata": {},
     "output_type": "execute_result"
    }
   ],
   "source": [
    "# Tạo ra một dictionary (dict)\n",
    "student = {\n",
    "    \"name\": \"Bob\", # có thể xài dấu nháy đơn ' cho chuỗi\n",
    "    \"age\": 34,\n",
    "    \"grades\": [78, 90, 98, 78, 99]\n",
    "}\n",
    "\n",
    "type(student)"
   ]
  },
  {
   "cell_type": "code",
   "execution_count": 7,
   "id": "3c09cfae",
   "metadata": {},
   "outputs": [
    {
     "name": "stdout",
     "output_type": "stream",
     "text": [
      "Giá trị tương ứng với key name: Bob\n"
     ]
    }
   ],
   "source": [
    "# Lấy giá trị tương ứng với key = name\n",
    "value = student['name']\n",
    "print(f\"Giá trị tương ứng với key name:\", value)"
   ]
  },
  {
   "cell_type": "code",
   "execution_count": 8,
   "id": "d930617a",
   "metadata": {},
   "outputs": [
    {
     "ename": "KeyError",
     "evalue": "'id'",
     "output_type": "error",
     "traceback": [
      "\u001b[1;31m---------------------------------------------------------------------------\u001b[0m",
      "\u001b[1;31mKeyError\u001b[0m                                  Traceback (most recent call last)",
      "Cell \u001b[1;32mIn[8], line 3\u001b[0m\n\u001b[0;32m      1\u001b[0m \u001b[38;5;66;03m# Truy cập vào một key không tồn tại trong dict sẽ cho một lỗi KeyError\u001b[39;00m\n\u001b[0;32m      2\u001b[0m key \u001b[38;5;241m=\u001b[39m \u001b[38;5;124m\"\u001b[39m\u001b[38;5;124mid\u001b[39m\u001b[38;5;124m\"\u001b[39m\n\u001b[1;32m----> 3\u001b[0m \u001b[38;5;28mprint\u001b[39m(\u001b[43mstudent\u001b[49m\u001b[43m[\u001b[49m\u001b[43mkey\u001b[49m\u001b[43m]\u001b[49m)\n",
      "\u001b[1;31mKeyError\u001b[0m: 'id'"
     ]
    }
   ],
   "source": [
    "# Truy cập vào một key không tồn tại trong dict sẽ cho một lỗi KeyError\n",
    "key = \"id\"\n",
    "print(student[key])"
   ]
  },
  {
   "cell_type": "code",
   "execution_count": 9,
   "id": "d905e816",
   "metadata": {},
   "outputs": [
    {
     "name": "stdout",
     "output_type": "stream",
     "text": [
      "None\n"
     ]
    }
   ],
   "source": [
    "# Cách khác để khắc phục lỗi đó là sử dụng hàm get trên dict\n",
    "# hàm get sẽ trả về None (mặc định) nếu key không tồn tại\n",
    "print(student.get(key)) # None"
   ]
  },
  {
   "cell_type": "code",
   "execution_count": 10,
   "id": "941020da",
   "metadata": {},
   "outputs": [
    {
     "name": "stdout",
     "output_type": "stream",
     "text": [
      "SV001\n"
     ]
    }
   ],
   "source": [
    "# hàm get trả về giá trị khác None\n",
    "print(student.get(key, \"SV001\"))"
   ]
  },
  {
   "cell_type": "code",
   "execution_count": 11,
   "id": "f65d689d",
   "metadata": {},
   "outputs": [
    {
     "name": "stdout",
     "output_type": "stream",
     "text": [
      "{'name': 'Bob', 'age': 22, 'grades': [78, 90, 98, 78, 99], 'id': 'SV001'}\n"
     ]
    }
   ],
   "source": [
    "# Tạo ra một key mới trong dict\n",
    "student['id'] = 'SV001'\n",
    "\n",
    "# Update key tồn tại trong dict\n",
    "student['age'] = 22\n",
    "\n",
    "print(student)"
   ]
  },
  {
   "cell_type": "code",
   "execution_count": 12,
   "id": "08a765d6",
   "metadata": {},
   "outputs": [
    {
     "name": "stdout",
     "output_type": "stream",
     "text": [
      "{'name': 'Bob', 'grades': [78, 90, 98, 78, 99], 'id': 'SV001'}\n"
     ]
    }
   ],
   "source": [
    "# Xóa một phần tử (item) từ dict\n",
    "del student[\"age\"] # xóa giá trị của key = age\n",
    "print(student)"
   ]
  },
  {
   "cell_type": "code",
   "execution_count": 13,
   "id": "f70f6a17",
   "metadata": {},
   "outputs": [
    {
     "name": "stdout",
     "output_type": "stream",
     "text": [
      "Bob\n",
      "{'grades': [78, 90, 98, 78, 99], 'id': 'SV001'}\n"
     ]
    }
   ],
   "source": [
    "# Lấy ra giá trị và xóa phần tử tương ứng với key trong dict\n",
    "any_value = student.pop(\"name\") # Xóa key name trong dict\n",
    "print(any_value)\n",
    "print(student)"
   ]
  },
  {
   "cell_type": "code",
   "execution_count": 14,
   "id": "6f59efa3",
   "metadata": {},
   "outputs": [
    {
     "name": "stdout",
     "output_type": "stream",
     "text": [
      "('id', 'SV001')\n",
      "{'grades': [78, 90, 98, 78, 99]}\n"
     ]
    }
   ],
   "source": [
    "# Lấy ra một tuple(key, value) của cái cuối cùng và xóa phần tử ứng với key đó ra khỏi dict\n",
    "last = student.popitem()\n",
    "print(last)\n",
    "print(student)"
   ]
  },
  {
   "cell_type": "code",
   "execution_count": 15,
   "id": "9f52a794",
   "metadata": {},
   "outputs": [
    {
     "name": "stdout",
     "output_type": "stream",
     "text": [
      "{'grades': [78, 90, 98, 78, 99], 'id': 'SV001', 'address': 'New York'}\n"
     ]
    }
   ],
   "source": [
    "# update một dict sử dụng các đối số có tên (id='SV001') - id là một đối số có tên\n",
    "student.update(id='SV001', address='New York')\n",
    "print(student)"
   ]
  },
  {
   "cell_type": "code",
   "execution_count": 16,
   "id": "0262c70e",
   "metadata": {},
   "outputs": [
    {
     "name": "stdout",
     "output_type": "stream",
     "text": [
      "{'grades': [78, 90, 98, 78, 99], 'id': 'SV001', 'address': 'New York', 'is_married': False, 'gender': 'male'}\n"
     ]
    }
   ],
   "source": [
    "# update dựa vào một dict khác\n",
    "info = {\n",
    "    'is_married': False,\n",
    "    'gender': 'male'\n",
    "}\n",
    "\n",
    "student.update(info)\n",
    "print(student)"
   ]
  },
  {
   "cell_type": "code",
   "execution_count": 17,
   "id": "646840cf",
   "metadata": {},
   "outputs": [
    {
     "name": "stdout",
     "output_type": "stream",
     "text": [
      "{'address': 'New York',\n",
      " 'gender': 'male',\n",
      " 'grades': [78, 90, 98, 78, 99],\n",
      " 'hobbies': ['Sing', 'Draw', 'Code'],\n",
      " 'id': 'SV001',\n",
      " 'is_married': False,\n",
      " 'major': 'IT'}\n"
     ]
    }
   ],
   "source": [
    "# update dựa vào một list[tuple] (list chứa bên trong những tuple)\n",
    "from pprint import pprint\n",
    "student_info = [('hobbies', [\"Sing\", \"Draw\", \"Code\"]), ('major', 'IT')]\n",
    "student.update(student_info)\n",
    "pprint(student)"
   ]
  },
  {
   "cell_type": "markdown",
   "id": "d1cc021b",
   "metadata": {},
   "source": [
    "## 3. Bài tập\n",
    "1. Cho hai tập hợp (set)\n",
    "+ art_students = {\"John\", \"Max\", \"Anna\", \"Bob\", \"Obito\"}\n",
    "+ math_students = {\"Max\", \"Mery\", \"David\", \"Anna\", \"Naruto\", \"John\"}\n",
    "+ Tìm những người bạn học cả vẽ lẫn toán\n",
    "+ Tìm những người bạn học vẽ nhưng không học toán\n",
    "+ Tìm những người bạn học toán nhưng không học vẽ\n",
    "+ Tìm những người bạn học vẽ hay toán không phải cả hai\n",
    "+ Tìm tất cả những người bạn\n",
    "2. Cho dict sau:"
   ]
  },
  {
   "cell_type": "code",
   "execution_count": 18,
   "id": "2252c0b2",
   "metadata": {},
   "outputs": [],
   "source": [
    "album_info = {\n",
    "    \"album_name\": \"The Dark Side of the Moon\",\n",
    "    \"band\": \"Pink Floyd\",\n",
    "    \"release_year\": 1973,\n",
    "    \"track_list\": [\n",
    "        \"Speak to Me\",\n",
    "        \"Breathe\",\n",
    "        \"On the Run\",\n",
    "        \"Time\",\n",
    "        \"The Great Gig in the Sky\",\n",
    "        \"Money\",\n",
    "        \"Us and Them\",\n",
    "        \"Any Colour You Like\",\n",
    "        \"Brain Damage\",\n",
    "        \"Eclipse\"\n",
    "    ]\n",
    "}"
   ]
  },
  {
   "cell_type": "markdown",
   "id": "bcf7587b",
   "metadata": {},
   "source": [
    "+ Yêu cầu:\n",
    "+ 1. Lấy ra giá trị của các key sau: album_name, release_year bằng hai cách\n",
    "+ 2. Thay đổi giá trị của key: release_year từ 1973 thành 1971\n",
    "+ 3. Xóa phần tử với key là track_list\n",
    "+ 4. Thêm một key mới là amount = 2000 bằng hai cách\n",
    "+ 5. Làm trống dict: album_info"
   ]
  }
 ],
 "metadata": {
  "kernelspec": {
   "display_name": "Python 3 (ipykernel)",
   "language": "python",
   "name": "python3"
  },
  "language_info": {
   "codemirror_mode": {
    "name": "ipython",
    "version": 3
   },
   "file_extension": ".py",
   "mimetype": "text/x-python",
   "name": "python",
   "nbconvert_exporter": "python",
   "pygments_lexer": "ipython3",
   "version": "3.10.9"
  }
 },
 "nbformat": 4,
 "nbformat_minor": 5
}
