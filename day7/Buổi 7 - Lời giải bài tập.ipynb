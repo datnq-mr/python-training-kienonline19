{
 "cells": [
  {
   "cell_type": "markdown",
   "id": "0dec91de",
   "metadata": {},
   "source": [
    "1. Cho hai tập hợp (set)\n",
    "+ art_students = {\"John\", \"Max\", \"Anna\", \"Bob\", \"Obito\"}\n",
    "+ math_students = {\"Max\", \"Mery\", \"David\", \"Anna\", \"Naruto\", \"John\"}\n",
    "+ Tìm những người bạn học cả vẽ lẫn toán\n",
    "+ Tìm những người bạn học vẽ nhưng không học toán\n",
    "+ Tìm những người bạn học toán nhưng không học vẽ\n",
    "+ Tìm những người bạn học vẽ hay toán không phải cả hai\n",
    "+ Tìm tất cả những người bạn"
   ]
  },
  {
   "cell_type": "code",
   "execution_count": 1,
   "id": "6ac784d6",
   "metadata": {},
   "outputs": [],
   "source": [
    "art_students  = {\"John\", \"Max\", \"Anna\", \"Bob\", \"Obito\"}\n",
    "math_students = {\"Max\", \"Mery\", \"David\", \"Anna\", \"Naruto\", \"John\"}"
   ]
  },
  {
   "cell_type": "code",
   "execution_count": 2,
   "id": "518df0b3",
   "metadata": {},
   "outputs": [
    {
     "name": "stdout",
     "output_type": "stream",
     "text": [
      "{'John', 'Max', 'Anna'}\n"
     ]
    }
   ],
   "source": [
    "# Tìm những người bạn học cả vẽ lẫn toán\n",
    "both = art_students.intersection(math_students)\n",
    "print(both)"
   ]
  },
  {
   "cell_type": "code",
   "execution_count": 3,
   "id": "b6186ec8",
   "metadata": {},
   "outputs": [
    {
     "name": "stdout",
     "output_type": "stream",
     "text": [
      "{'Bob', 'Obito'}\n"
     ]
    }
   ],
   "source": [
    "# Tìm những người bạn học vẽ nhưng không học toán\n",
    "art_but_math = art_students.difference(math_students)\n",
    "print(art_but_math)"
   ]
  },
  {
   "cell_type": "code",
   "execution_count": 4,
   "id": "efc224e1",
   "metadata": {},
   "outputs": [
    {
     "name": "stdout",
     "output_type": "stream",
     "text": [
      "{'David', 'Mery', 'Naruto'}\n"
     ]
    }
   ],
   "source": [
    "# Tìm những người bạn học toán nhưng không học vẽ\n",
    "math_but_art = math_students.difference(art_students)\n",
    "print(math_but_art)"
   ]
  },
  {
   "cell_type": "code",
   "execution_count": 5,
   "id": "c3fc2e89",
   "metadata": {},
   "outputs": [
    {
     "name": "stdout",
     "output_type": "stream",
     "text": [
      "{'Naruto', 'Bob', 'David', 'Mery', 'Obito'}\n"
     ]
    }
   ],
   "source": [
    "# Tìm những người bạn học vẽ hay toán không phải cả hai\n",
    "art_or_math = art_students.symmetric_difference(math_students)\n",
    "print(art_or_math)"
   ]
  },
  {
   "cell_type": "code",
   "execution_count": 6,
   "id": "cbfbb426",
   "metadata": {},
   "outputs": [
    {
     "name": "stdout",
     "output_type": "stream",
     "text": [
      "{'Max', 'Bob', 'David', 'Mery', 'Obito', 'John', 'Anna', 'Naruto'}\n"
     ]
    }
   ],
   "source": [
    "# Tìm tất cả những người bạn\n",
    "_all = art_students.union(math_students)\n",
    "print(_all)"
   ]
  },
  {
   "cell_type": "code",
   "execution_count": 7,
   "id": "2bc32479",
   "metadata": {},
   "outputs": [],
   "source": [
    "# Bài 2:\n",
    "album_info = {\n",
    "    \"album_name\": \"The Dark Side of the Moon\",\n",
    "    \"band\": \"Pink Floyd\",\n",
    "    \"release_year\": 1973,\n",
    "    \"track_list\": [\n",
    "        \"Speak to Me\",\n",
    "        \"Breathe\",\n",
    "        \"On the Run\",\n",
    "        \"Time\",\n",
    "        \"The Great Gig in the Sky\",\n",
    "        \"Money\",\n",
    "        \"Us and Them\",\n",
    "        \"Any Colour You Like\",\n",
    "        \"Brain Damage\",\n",
    "        \"Eclipse\"\n",
    "    ]\n",
    "}"
   ]
  },
  {
   "cell_type": "markdown",
   "id": "40c72eb0",
   "metadata": {},
   "source": [
    "+ Yêu cầu:\n",
    "+ 1. Lấy ra giá trị của các key sau: album_name, release_year bằng hai cách\n",
    "+ 2. Thay đổi giá trị của key: release_year từ 1973 thành 1971\n",
    "+ 3. Xóa phần tử với key là track_list\n",
    "+ 4. Thêm một key mới là amount = 2000 bằng hai cách\n",
    "+ 5. Làm trống dict: album_info"
   ]
  },
  {
   "cell_type": "code",
   "execution_count": 8,
   "id": "8de0eddb",
   "metadata": {},
   "outputs": [
    {
     "name": "stdout",
     "output_type": "stream",
     "text": [
      "The Dark Side of the Moon\n",
      "The Dark Side of the Moon\n",
      "1973\n",
      "1973\n"
     ]
    }
   ],
   "source": [
    "# 1. Lấy ra giá trị của các key sau: album_name, release_year bằng hai cách\n",
    "print(album_info[\"album_name\"])\n",
    "print(album_info.get(\"album_name\"))\n",
    "\n",
    "print(album_info[\"release_year\"])\n",
    "print(album_info.get(\"release_year\"))"
   ]
  },
  {
   "cell_type": "code",
   "execution_count": 9,
   "id": "117b6d65",
   "metadata": {},
   "outputs": [
    {
     "name": "stdout",
     "output_type": "stream",
     "text": [
      "{\n",
      "    \"album_name\": \"The Dark Side of the Moon\",\n",
      "    \"band\": \"Pink Floyd\",\n",
      "    \"release_year\": 1971,\n",
      "    \"track_list\": [\n",
      "        \"Speak to Me\",\n",
      "        \"Breathe\",\n",
      "        \"On the Run\",\n",
      "        \"Time\",\n",
      "        \"The Great Gig in the Sky\",\n",
      "        \"Money\",\n",
      "        \"Us and Them\",\n",
      "        \"Any Colour You Like\",\n",
      "        \"Brain Damage\",\n",
      "        \"Eclipse\"\n",
      "    ]\n",
      "}\n"
     ]
    }
   ],
   "source": [
    "# 2. Thay đổi giá trị của key: release_year từ 1973 thành 1971\n",
    "# Sử dụng json module có sẵn để in dict đẹp hơn print thông thường\n",
    "import json\n",
    "\n",
    "album_info[\"release_year\"] = 1971\n",
    "print(json.dumps(album_info, indent=4))"
   ]
  },
  {
   "cell_type": "code",
   "execution_count": 10,
   "id": "8614f3b3",
   "metadata": {},
   "outputs": [
    {
     "name": "stdout",
     "output_type": "stream",
     "text": [
      "{\n",
      "    \"album_name\": \"The Dark Side of the Moon\",\n",
      "    \"band\": \"Pink Floyd\",\n",
      "    \"release_year\": 1971\n",
      "}\n"
     ]
    }
   ],
   "source": [
    "# 3. Xóa phần tử với key là track_list\n",
    "del album_info[\"track_list\"]\n",
    "print(json.dumps(album_info, indent=4))"
   ]
  },
  {
   "cell_type": "code",
   "execution_count": 11,
   "id": "b6158082",
   "metadata": {},
   "outputs": [
    {
     "name": "stdout",
     "output_type": "stream",
     "text": [
      "{\n",
      "    \"album_name\": \"The Dark Side of the Moon\",\n",
      "    \"band\": \"Pink Floyd\",\n",
      "    \"release_year\": 1971,\n",
      "    \"amount\": 2000\n",
      "}\n"
     ]
    }
   ],
   "source": [
    "# 4. Thêm một key mới là amount = 2000 bằng hai cách\n",
    "album_info[\"amount\"] = 2000\n",
    "album_info.update(amount=2000)\n",
    "\n",
    "print(json.dumps(album_info, indent=4))"
   ]
  },
  {
   "cell_type": "code",
   "execution_count": 12,
   "id": "6bad14fe",
   "metadata": {},
   "outputs": [
    {
     "name": "stdout",
     "output_type": "stream",
     "text": [
      "{}\n"
     ]
    }
   ],
   "source": [
    "# 5. Làm trống dict: album_info\n",
    "album_info.clear()\n",
    "print(album_info)"
   ]
  }
 ],
 "metadata": {
  "kernelspec": {
   "display_name": "Python 3 (ipykernel)",
   "language": "python",
   "name": "python3"
  },
  "language_info": {
   "codemirror_mode": {
    "name": "ipython",
    "version": 3
   },
   "file_extension": ".py",
   "mimetype": "text/x-python",
   "name": "python",
   "nbconvert_exporter": "python",
   "pygments_lexer": "ipython3",
   "version": "3.10.9"
  }
 },
 "nbformat": 4,
 "nbformat_minor": 5
}
