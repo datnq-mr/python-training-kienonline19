{
 "cells": [
  {
   "cell_type": "markdown",
   "id": "c7b74fb5",
   "metadata": {},
   "source": [
    "## 1. Đặt vấn đề\n",
    "+ Tại sao chúng ta sử dụng vòng lặp ?\n",
    "1. Tái sử dụng lại code\n",
    "2. Cấu trúc chương trình rõ ràng, dễ hiểu hơn\n",
    "3. Tiết kiệm việc viết những đoạn code dài không cần thiết"
   ]
  },
  {
   "cell_type": "markdown",
   "id": "97295c4c",
   "metadata": {},
   "source": [
    "## 2. Hàm range\n",
    "+ nó tạo ra một loạt các giá trị với các tham số xác định\n",
    "+ cú pháp: range(start, stop, step)\n",
    "+ start: điểm bắt đầu có giá trị mặc định là 0\n",
    "+ stop: điểm kết thúc (không lấy tại đó)\n",
    "+ step: bước nhảy mặc định là 1\n",
    "+ sử dụng hàm list() để biến range thành danh sách vì hàm range() trả về một range object không phải list"
   ]
  },
  {
   "cell_type": "code",
   "execution_count": 1,
   "id": "949b51d6",
   "metadata": {},
   "outputs": [
    {
     "name": "stdout",
     "output_type": "stream",
     "text": [
      "range(0, 100)\n"
     ]
    }
   ],
   "source": [
    "# Ví dụ\n",
    "print(range(100)) # In ra biểu diễn của range object"
   ]
  },
  {
   "cell_type": "code",
   "execution_count": 2,
   "id": "4faf873e",
   "metadata": {},
   "outputs": [
    {
     "name": "stdout",
     "output_type": "stream",
     "text": [
      "[0, 1, 2, 3, 4, 5, 6, 7, 8, 9]\n"
     ]
    }
   ],
   "source": [
    "print(list(range(10))) # In ra một danh sách từ 0 đến 9 với stop = 10 (không lấy), start = 0, step = 1"
   ]
  },
  {
   "cell_type": "code",
   "execution_count": 3,
   "id": "98190ba8",
   "metadata": {},
   "outputs": [
    {
     "name": "stdout",
     "output_type": "stream",
     "text": [
      "[1, 2, 3, 4, 5, 6, 7, 8, 9, 10, 11, 12, 13, 14, 15, 16, 17, 18, 19, 20]\n"
     ]
    }
   ],
   "source": [
    "print(list(range(1, 21))) # In ra danh sách các số từ 1 đến 20 với start = 1, stop = 21 (không lấy), step = 1"
   ]
  },
  {
   "cell_type": "code",
   "execution_count": 4,
   "id": "56c253b1",
   "metadata": {},
   "outputs": [
    {
     "name": "stdout",
     "output_type": "stream",
     "text": [
      "[1, 3, 5, 7, 9, 11, 13, 15, 17, 19]\n"
     ]
    }
   ],
   "source": [
    "print(list(range(1, 20, 2))) # In ra danh sách các số lẻ tính từ 1 đến 19 với start = 1, stop = 20 (không lấy), step = 2"
   ]
  },
  {
   "cell_type": "code",
   "execution_count": 5,
   "id": "31b40011",
   "metadata": {},
   "outputs": [
    {
     "name": "stdout",
     "output_type": "stream",
     "text": [
      "[10, 9, 8, 7, 6, 5, 4, 3, 2, 1]\n"
     ]
    }
   ],
   "source": [
    "print(list(range(10, 0, -1))) # In ra danh sách các số giảm dần từ 10 về 0 (không lấy tại 0 vì stop = 0)"
   ]
  },
  {
   "cell_type": "code",
   "execution_count": 6,
   "id": "75984c36",
   "metadata": {},
   "outputs": [
    {
     "ename": "TypeError",
     "evalue": "'float' object cannot be interpreted as an integer",
     "output_type": "error",
     "traceback": [
      "\u001b[1;31m---------------------------------------------------------------------------\u001b[0m",
      "\u001b[1;31mTypeError\u001b[0m                                 Traceback (most recent call last)",
      "Cell \u001b[1;32mIn[6], line 5\u001b[0m\n\u001b[0;32m      1\u001b[0m \u001b[38;5;124;03m\"\"\"\u001b[39;00m\n\u001b[0;32m      2\u001b[0m \u001b[38;5;124;03mHàm range chỉ nhận các giá trị số nguyên (int) của start, stop, step không phải số thực (float)\u001b[39;00m\n\u001b[0;32m      3\u001b[0m \u001b[38;5;124;03mnên truyền vào số thực cho range sẽ bị lỗi\u001b[39;00m\n\u001b[0;32m      4\u001b[0m \u001b[38;5;124;03m\"\"\"\u001b[39;00m\n\u001b[1;32m----> 5\u001b[0m \u001b[38;5;28mprint\u001b[39m(\u001b[38;5;28;43mrange\u001b[39;49m\u001b[43m(\u001b[49m\u001b[38;5;241;43m10.5\u001b[39;49m\u001b[43m)\u001b[49m)\n",
      "\u001b[1;31mTypeError\u001b[0m: 'float' object cannot be interpreted as an integer"
     ]
    }
   ],
   "source": [
    "\"\"\"\n",
    "Hàm range chỉ nhận các giá trị số nguyên (int) của start, stop, step không phải số thực (float)\n",
    "nên truyền vào số thực cho range sẽ bị lỗi\n",
    "\"\"\"\n",
    "print(range(10.5))"
   ]
  },
  {
   "cell_type": "code",
   "execution_count": 7,
   "id": "5cceb3e5",
   "metadata": {},
   "outputs": [
    {
     "ename": "TypeError",
     "evalue": "'float' object cannot be interpreted as an integer",
     "output_type": "error",
     "traceback": [
      "\u001b[1;31m---------------------------------------------------------------------------\u001b[0m",
      "\u001b[1;31mTypeError\u001b[0m                                 Traceback (most recent call last)",
      "Cell \u001b[1;32mIn[7], line 1\u001b[0m\n\u001b[1;32m----> 1\u001b[0m \u001b[38;5;28mprint\u001b[39m(\u001b[38;5;28;43mrange\u001b[39;49m\u001b[43m(\u001b[49m\u001b[38;5;241;43m1.5\u001b[39;49m\u001b[43m,\u001b[49m\u001b[43m \u001b[49m\u001b[38;5;241;43m3\u001b[39;49m\u001b[43m)\u001b[49m)\n",
      "\u001b[1;31mTypeError\u001b[0m: 'float' object cannot be interpreted as an integer"
     ]
    }
   ],
   "source": [
    "print(range(1.5, 3))"
   ]
  },
  {
   "cell_type": "code",
   "execution_count": 8,
   "id": "cc74ce6f",
   "metadata": {},
   "outputs": [
    {
     "ename": "TypeError",
     "evalue": "'float' object cannot be interpreted as an integer",
     "output_type": "error",
     "traceback": [
      "\u001b[1;31m---------------------------------------------------------------------------\u001b[0m",
      "\u001b[1;31mTypeError\u001b[0m                                 Traceback (most recent call last)",
      "Cell \u001b[1;32mIn[8], line 1\u001b[0m\n\u001b[1;32m----> 1\u001b[0m \u001b[38;5;28mprint\u001b[39m(\u001b[38;5;28;43mrange\u001b[39;49m\u001b[43m(\u001b[49m\u001b[38;5;241;43m1\u001b[39;49m\u001b[43m,\u001b[49m\u001b[43m \u001b[49m\u001b[38;5;241;43m3\u001b[39;49m\u001b[43m,\u001b[49m\u001b[43m \u001b[49m\u001b[38;5;241;43m4.5\u001b[39;49m\u001b[43m)\u001b[49m)\n",
      "\u001b[1;31mTypeError\u001b[0m: 'float' object cannot be interpreted as an integer"
     ]
    }
   ],
   "source": [
    "print(range(1, 3, 4.5))"
   ]
  },
  {
   "cell_type": "code",
   "execution_count": 9,
   "id": "957b3dec",
   "metadata": {},
   "outputs": [
    {
     "name": "stdout",
     "output_type": "stream",
     "text": [
      "[]\n"
     ]
    }
   ],
   "source": [
    "# Không có số nào trong range cả vì start = 0, stop = -5, step = 1\n",
    "# => list rỗng\n",
    "print(list(range(-5)))"
   ]
  },
  {
   "cell_type": "markdown",
   "id": "f0d78ff1",
   "metadata": {},
   "source": [
    "## 3. Vòng lặp for\n",
    "+ Lặp đi lặp lại một khối lệnh (nhiều hành động) bên trong nó\n",
    "+ Lặp với số lần xác định\n",
    "+ Có thể kết hợp với từ khóa else cùng cấp với for"
   ]
  },
  {
   "cell_type": "code",
   "execution_count": 10,
   "id": "a9c86dc4",
   "metadata": {},
   "outputs": [
    {
     "name": "stdout",
     "output_type": "stream",
     "text": [
      "1\n",
      "2\n",
      "3\n",
      "4\n",
      "5\n",
      "6\n",
      "7\n",
      "8\n",
      "9\n",
      "10\n",
      "11\n",
      "12\n",
      "13\n",
      "14\n",
      "15\n",
      "16\n",
      "17\n",
      "18\n",
      "19\n",
      "20\n"
     ]
    }
   ],
   "source": [
    "# Ví dụ\n",
    "# In ra các số từ 1 tới 21 (không lấy 21 vì nó là stop)\n",
    "# trên các dòng phân biệt\n",
    "# mình sẽ giải thích kỹ trong phần demo hướng dẫn debug để hiểu cách hoạt động của vòng lặp for\n",
    "for i in range(1, 21):\n",
    "    print(i)"
   ]
  },
  {
   "cell_type": "code",
   "execution_count": 11,
   "id": "6fe69653",
   "metadata": {},
   "outputs": [
    {
     "name": "stdout",
     "output_type": "stream",
     "text": [
      "0 2 4 6 8 10 12 14 16 18 20 "
     ]
    }
   ],
   "source": [
    "# In ra các số chẵn trong đoạn [0, 20]\n",
    "for n in range(21):\n",
    "    if n % 2 == 0: # Kiểm tra n có phải số chẵn không ?\n",
    "        print(n, end=' ') # In trên cùng một hàng"
   ]
  },
  {
   "cell_type": "code",
   "execution_count": 12,
   "id": "5d846b52",
   "metadata": {},
   "outputs": [
    {
     "name": "stdout",
     "output_type": "stream",
     "text": [
      "1 3 5 7 9 11 13 15 17 19 "
     ]
    }
   ],
   "source": [
    "# In ra các số lẻ trong đoạn [0, 20]\n",
    "for n in range(21):\n",
    "    if n % 2 != 0: # Kiểm tra n có phải số lẻ không ?\n",
    "        print(n, end=' ')"
   ]
  },
  {
   "cell_type": "markdown",
   "id": "73b298d2",
   "metadata": {},
   "source": [
    "## 4. Từ khóa break\n",
    "+ dùng để thoát ra khỏi vòng lặp mà đang chứa nó\n",
    "+ break thường được dùng bên trong vòng lặp for\n",
    "+ sử dụng kết hợp với câu điều kiện if"
   ]
  },
  {
   "cell_type": "code",
   "execution_count": 13,
   "id": "1a5447fa",
   "metadata": {},
   "outputs": [
    {
     "name": "stdout",
     "output_type": "stream",
     "text": [
      "1 2 3 4 5 "
     ]
    }
   ],
   "source": [
    "# In ra các số từ 1 đến 5 trong đoạn [1, 10]\n",
    "for i in range(1, 11): # không lấy 11 vì nó là stop\n",
    "    if i > 5:\n",
    "        break # thoát ra khỏi vòng lặp đang chứa nó với điều kiện i > 5\n",
    "    print(i, end=' ')"
   ]
  },
  {
   "cell_type": "markdown",
   "id": "dc9d9304",
   "metadata": {},
   "source": [
    "## 5. Từ khóa continue\n",
    "+ bỏ qua lần lặp hiện tại và chuyển sang một lần lặp mới\n",
    "+ continue thường được dùng bên trong vòng lặp for\n",
    "+ sử dụng kết hợp với câu điều kiện if\""
   ]
  },
  {
   "cell_type": "code",
   "execution_count": 14,
   "id": "cb27cff1",
   "metadata": {},
   "outputs": [
    {
     "name": "stdout",
     "output_type": "stream",
     "text": [
      "2 4 6 8 10 12 14 16 18 20 "
     ]
    }
   ],
   "source": [
    "# In ra các số chẵn trong đoạn [1, 20]\n",
    "for n in range(1, 21):\n",
    "    if n % 2 != 0:\n",
    "        continue # bỏ qua các dòng code phía sau\n",
    "        \n",
    "    print(n, end=' ')"
   ]
  },
  {
   "cell_type": "markdown",
   "id": "86d5df58",
   "metadata": {},
   "source": [
    "## 6. Vòng lặp while\n",
    "+ Lặp lại với số lần không xác định\n",
    "+ while lặp cho đến khi một điều kiện trở thành False (sai)"
   ]
  },
  {
   "cell_type": "code",
   "execution_count": 15,
   "id": "2a4cc945",
   "metadata": {},
   "outputs": [
    {
     "name": "stdout",
     "output_type": "stream",
     "text": [
      "> \n",
      "Hello\n",
      "> \n",
      "Hello\n",
      "> \n",
      "Hello\n",
      "> q\n"
     ]
    }
   ],
   "source": [
    "# Ví dụ\n",
    "# Nhập cho đến khi đầu vào là 'q'\n",
    "user_input = input(\"> \")\n",
    "\n",
    "while user_input != 'q':\n",
    "    print(\"Hello\")\n",
    "    user_input = input(\"> \")"
   ]
  },
  {
   "cell_type": "markdown",
   "id": "75a0779f",
   "metadata": {},
   "source": [
    "## 7. Vòng lặp for lồng nhau\n",
    "+ for nằm trong for\n",
    "+ ứng với mỗi lần lặp for ngoài thì thực hiện tương ứng số lần lặp của for trong"
   ]
  },
  {
   "cell_type": "code",
   "execution_count": 16,
   "id": "ce27eae1",
   "metadata": {},
   "outputs": [
    {
     "name": "stdout",
     "output_type": "stream",
     "text": [
      "1 - 0\n",
      "1 - 1\n",
      "1 - 2\n",
      "1 - 3\n",
      "1 - 4\n",
      "2 - 0\n",
      "2 - 1\n",
      "2 - 2\n",
      "2 - 3\n",
      "2 - 4\n",
      "3 - 0\n",
      "3 - 1\n",
      "3 - 2\n",
      "3 - 3\n",
      "3 - 4\n",
      "4 - 0\n",
      "4 - 1\n",
      "4 - 2\n",
      "4 - 3\n",
      "4 - 4\n",
      "5 - 0\n",
      "5 - 1\n",
      "5 - 2\n",
      "5 - 3\n",
      "5 - 4\n"
     ]
    }
   ],
   "source": [
    "# Ví dụ\n",
    "# Sẽ debug để mọi người có thể hiểu được\n",
    "for i in range(1, 6):\n",
    "    for j in range(5):\n",
    "        print(i, j, sep=' - ')"
   ]
  },
  {
   "cell_type": "markdown",
   "id": "794399ed",
   "metadata": {},
   "source": [
    "## 8. Từ khóa else với vòng lặp for\n",
    "+ Khi for thực hiện thành công không bị break hay lỗi (Exception) thì khối else sẽ được thực hiện"
   ]
  },
  {
   "cell_type": "code",
   "execution_count": 17,
   "id": "1cb6ccc3",
   "metadata": {},
   "outputs": [
    {
     "name": "stdout",
     "output_type": "stream",
     "text": [
      "2 3 5 7 11 13 17 19 23 29 31 37 41 43 47 53 59 61 67 71 73 79 83 89 97 "
     ]
    }
   ],
   "source": [
    "# In ra các số nguyên tố trong đoạn [2, 100]\n",
    "for n in range(2, 101):\n",
    "    for i in range(2, int(n**0.5) + 1):\n",
    "        if n % i == 0:\n",
    "            break\n",
    "    else:\n",
    "        print(n, end=' ')"
   ]
  },
  {
   "cell_type": "markdown",
   "id": "a0509b41",
   "metadata": {},
   "source": [
    "## 9. Bài tập\n",
    "1. In các số từ 1 đến 100 trên cùng một hàng\n",
    "2. In 100 lần dòng chữ \"Hello World!\"\n",
    "3. In ra các số chia hết cho 3 trong đoạn [1, 1000]\n",
    "4. Đếm số lượng số nguyên tố trong [1, 100]\n",
    "5. Nhập vào một số nguyên dương n tính tổng các chữ số của n. Ví dụ: n = 4312 => S = 4 + 3 + 1 + 2 = 10\n",
    "6. Nhập vào một số nguyên dương n. Đếm số lượng số chẵn và lẻ trong đoạn [0, n]"
   ]
  }
 ],
 "metadata": {
  "kernelspec": {
   "display_name": "Python 3 (ipykernel)",
   "language": "python",
   "name": "python3"
  },
  "language_info": {
   "codemirror_mode": {
    "name": "ipython",
    "version": 3
   },
   "file_extension": ".py",
   "mimetype": "text/x-python",
   "name": "python",
   "nbconvert_exporter": "python",
   "pygments_lexer": "ipython3",
   "version": "3.10.9"
  }
 },
 "nbformat": 4,
 "nbformat_minor": 5
}
