{
 "cells": [
  {
   "cell_type": "markdown",
   "id": "1f985056",
   "metadata": {},
   "source": [
    "## 1. Toán tử (Operators) - được sử dụng để thực hiện các phép toán trên hai hay nhiều biến"
   ]
  },
  {
   "cell_type": "code",
   "execution_count": 1,
   "id": "647de41d",
   "metadata": {},
   "outputs": [
    {
     "name": "stdout",
     "output_type": "stream",
     "text": [
      "+ Trong Python toán tử thông thường chia làm các nhóm sau:\n",
      "1. Toán tử số học: +, -, *, /, //, **, %\n",
      "2. Toán tử so sánh: >, <, >=, <=, ==, !=\n",
      "3. Toán tử logic: and, or, not\n",
      "4. Toán tử gán bằng: +=, -=, *=, /=, //=, **=, %=, vv\n"
     ]
    }
   ],
   "source": [
    "print(\"\"\"+ Trong Python toán tử thông thường chia làm các nhóm sau:\n",
    "1. Toán tử số học: +, -, *, /, //, **, %\n",
    "2. Toán tử so sánh: >, <, >=, <=, ==, !=\n",
    "3. Toán tử logic: and, or, not\n",
    "4. Toán tử gán bằng: +=, -=, *=, /=, //=, **=, %=, vv\"\"\")"
   ]
  },
  {
   "cell_type": "code",
   "execution_count": 2,
   "id": "e6ba7b82",
   "metadata": {},
   "outputs": [
    {
     "name": "stdout",
     "output_type": "stream",
     "text": [
      "12 + 9 = 21\n",
      "12 - 9 = 3\n",
      "12 x 9 = 108\n",
      "12 : 9 = 1.3333333333333333\n",
      "12 // 9 = 1\n",
      "12 % 9 = 3\n",
      "12 ^ 9 = 5159780352\n"
     ]
    }
   ],
   "source": [
    "# Toán tử số học: \n",
    "# +: cộng\n",
    "# -: trừ\n",
    "# *: nhân\n",
    "# /: chia ra số thực (float)\n",
    "# //: chia ra số nguyên (int)\n",
    "# **: lũy thừa\n",
    "# %: chia lấy dư (remainder)\n",
    "# Ví dụ:\n",
    "number_one = 12\n",
    "number_two = 9\n",
    "\n",
    "print(number_one, '+', number_two, '=', number_one + number_two)\n",
    "print(number_one, '-', number_two, '=', number_one - number_two)\n",
    "print(number_one, 'x', number_two, '=', number_one * number_two)\n",
    "print(number_one, ':', number_two, '=', number_one / number_two)\n",
    "print(number_one, '//', number_two, '=', number_one // number_two)\n",
    "print(number_one, '%', number_two, '=', number_one % number_two)\n",
    "print(number_one, '^', number_two, '=', number_one ** number_two)"
   ]
  },
  {
   "cell_type": "markdown",
   "id": "73179eaa",
   "metadata": {},
   "source": [
    "### Lưu ý: \n",
    "### 1. phép chia (/) cho kết quả số thực, trong khi đó phép chia (//) cho kết quả số nguyên\n",
    "### 2. chia một số cho 0 nghĩa là sử dụng các toán tử (/, //, %) thì bị lỗi"
   ]
  },
  {
   "cell_type": "code",
   "execution_count": 3,
   "id": "eb671a2b",
   "metadata": {},
   "outputs": [
    {
     "name": "stdout",
     "output_type": "stream",
     "text": [
      "1.3333333333333333\n",
      "1\n"
     ]
    }
   ],
   "source": [
    "# Ví dụ thêm về / và //\n",
    "print(4 / 3) # float\n",
    "print(4 // 3) # int"
   ]
  },
  {
   "cell_type": "code",
   "execution_count": 4,
   "id": "d89bfc27",
   "metadata": {},
   "outputs": [
    {
     "ename": "ZeroDivisionError",
     "evalue": "division by zero",
     "output_type": "error",
     "traceback": [
      "\u001b[1;31m---------------------------------------------------------------------------\u001b[0m",
      "\u001b[1;31mZeroDivisionError\u001b[0m                         Traceback (most recent call last)",
      "Cell \u001b[1;32mIn[4], line 2\u001b[0m\n\u001b[0;32m      1\u001b[0m \u001b[38;5;66;03m# Ví dụ về chia cho 0 hay 0.0 (về kiểu dữ liệu thì 0 và 0.0 khác nhau còn về giá trị thì bằng nhau)\u001b[39;00m\n\u001b[1;32m----> 2\u001b[0m \u001b[38;5;28mprint\u001b[39m(\u001b[38;5;241;43m5\u001b[39;49m\u001b[43m \u001b[49m\u001b[38;5;241;43m/\u001b[39;49m\u001b[43m \u001b[49m\u001b[38;5;241;43m0\u001b[39;49m)\n",
      "\u001b[1;31mZeroDivisionError\u001b[0m: division by zero"
     ]
    }
   ],
   "source": [
    "# Ví dụ về chia cho 0 hay 0.0 (về kiểu dữ liệu thì 0 và 0.0 khác nhau còn về giá trị thì bằng nhau)\n",
    "print(5 / 0)"
   ]
  },
  {
   "cell_type": "code",
   "execution_count": 5,
   "id": "55f0a580",
   "metadata": {},
   "outputs": [
    {
     "ename": "ZeroDivisionError",
     "evalue": "integer division or modulo by zero",
     "output_type": "error",
     "traceback": [
      "\u001b[1;31m---------------------------------------------------------------------------\u001b[0m",
      "\u001b[1;31mZeroDivisionError\u001b[0m                         Traceback (most recent call last)",
      "Cell \u001b[1;32mIn[5], line 1\u001b[0m\n\u001b[1;32m----> 1\u001b[0m \u001b[38;5;28mprint\u001b[39m(\u001b[38;5;241;43m5\u001b[39;49m\u001b[43m \u001b[49m\u001b[38;5;241;43m/\u001b[39;49m\u001b[38;5;241;43m/\u001b[39;49m\u001b[43m \u001b[49m\u001b[38;5;241;43m0\u001b[39;49m)\n",
      "\u001b[1;31mZeroDivisionError\u001b[0m: integer division or modulo by zero"
     ]
    }
   ],
   "source": [
    "print(5 // 0)"
   ]
  },
  {
   "cell_type": "code",
   "execution_count": 6,
   "id": "faacb5f3",
   "metadata": {},
   "outputs": [
    {
     "ename": "ZeroDivisionError",
     "evalue": "float modulo",
     "output_type": "error",
     "traceback": [
      "\u001b[1;31m---------------------------------------------------------------------------\u001b[0m",
      "\u001b[1;31mZeroDivisionError\u001b[0m                         Traceback (most recent call last)",
      "Cell \u001b[1;32mIn[6], line 1\u001b[0m\n\u001b[1;32m----> 1\u001b[0m \u001b[38;5;28mprint\u001b[39m(\u001b[38;5;241;43m5\u001b[39;49m\u001b[43m \u001b[49m\u001b[38;5;241;43m%\u001b[39;49m\u001b[43m \u001b[49m\u001b[38;5;241;43m0.0\u001b[39;49m)\n",
      "\u001b[1;31mZeroDivisionError\u001b[0m: float modulo"
     ]
    }
   ],
   "source": [
    "print(5 % 0.0)"
   ]
  },
  {
   "cell_type": "code",
   "execution_count": 7,
   "id": "1453b4df",
   "metadata": {},
   "outputs": [
    {
     "name": "stdout",
     "output_type": "stream",
     "text": [
      ">: lớn hơn\n",
      "<: nhỏ hơn\n",
      ">=: lớn hơn hay bằng \n",
      "<=: nhỏ hơn hay bằng\n",
      "==: bằng bằng\n",
      "!=: khác bằng\n"
     ]
    }
   ],
   "source": [
    "# Toán tử só sánh trả về kết quả thuộc kiểu boolean - bool (True/False)\n",
    "print(\"\"\">: lớn hơn\n",
    "<: nhỏ hơn\n",
    ">=: lớn hơn hay bằng \n",
    "<=: nhỏ hơn hay bằng\n",
    "==: bằng bằng\n",
    "!=: khác bằng\"\"\")"
   ]
  },
  {
   "cell_type": "code",
   "execution_count": 8,
   "id": "b925703e",
   "metadata": {},
   "outputs": [
    {
     "name": "stdout",
     "output_type": "stream",
     "text": [
      "False\n",
      "True\n",
      "True\n",
      "False\n",
      "True\n",
      "True\n"
     ]
    }
   ],
   "source": [
    "# Ví dụ:\n",
    "print(1 > 2)\n",
    "print(3 < 4)\n",
    "print(4 >= 4.0)\n",
    "print(5 <= -5)\n",
    "print(3 == 3.0)\n",
    "print('a' != 'b')"
   ]
  },
  {
   "cell_type": "code",
   "execution_count": 9,
   "id": "03297f55",
   "metadata": {},
   "outputs": [
    {
     "name": "stdout",
     "output_type": "stream",
     "text": [
      "and: và\n",
      "or: hay|hoặc\n",
      "not: không phải\n"
     ]
    }
   ],
   "source": [
    "# Toán tử logic: kết hợp hai hay nhiều điều kiện lại để đánh giá\n",
    "print(\"\"\"and: và\n",
    "or: hay|hoặc\n",
    "not: không phải\"\"\")"
   ]
  },
  {
   "cell_type": "markdown",
   "id": "dad86aa1",
   "metadata": {},
   "source": [
    "### Thứ tự thực hiện các phép toán - độ ưu tiên toán tử"
   ]
  },
  {
   "cell_type": "markdown",
   "id": "1110313f",
   "metadata": {},
   "source": [
    "![](python-operator-precedence.jpg)"
   ]
  },
  {
   "cell_type": "code",
   "execution_count": 10,
   "id": "295d5e16",
   "metadata": {},
   "outputs": [
    {
     "name": "stdout",
     "output_type": "stream",
     "text": [
      "False\n"
     ]
    }
   ],
   "source": [
    "# Theo bảng trên ta thấy\n",
    "# các toán tử so sánh có độ ưu tiên cao hơn toán tử logic\n",
    "# nghĩa là toán tử so sánh (>) được thực hiện trước toán tử logic (and) trong biểu thức 3 > 2 and 4 > 5\n",
    "print(3 > 2 and 4 > 5) # <=> (3 > 2) and (4 > 5) <=> True and False = False"
   ]
  },
  {
   "cell_type": "code",
   "execution_count": 11,
   "id": "a49b35eb",
   "metadata": {},
   "outputs": [
    {
     "name": "stdout",
     "output_type": "stream",
     "text": [
      "True\n"
     ]
    }
   ],
   "source": [
    "print(3 > 2 or 4 > 5) # <=> True or False = True"
   ]
  },
  {
   "cell_type": "code",
   "execution_count": 12,
   "id": "8ff4485c",
   "metadata": {},
   "outputs": [
    {
     "name": "stdout",
     "output_type": "stream",
     "text": [
      "False\n",
      "True\n"
     ]
    }
   ],
   "source": [
    "# not  - đảo ngược giá trị đánh giá\n",
    "print(not True) # False\n",
    "print(not False) # True"
   ]
  },
  {
   "cell_type": "markdown",
   "id": "5d712e53",
   "metadata": {},
   "source": [
    "#### Những giá trị khi truyền vào hàm bool cho kết quả False được gọi là falsy\n",
    "#### falsy: 0, 0.0, 0j, None, [], set(), (), {}, '', vv"
   ]
  },
  {
   "cell_type": "code",
   "execution_count": 13,
   "id": "8f5b831d",
   "metadata": {},
   "outputs": [
    {
     "name": "stdout",
     "output_type": "stream",
     "text": [
      "False\n",
      "False\n",
      "False\n",
      "False\n",
      "False\n",
      "False\n",
      "False\n",
      "False\n"
     ]
    }
   ],
   "source": [
    "print(bool(0))\n",
    "print(bool(0.0))\n",
    "print(bool(0j))\n",
    "print(bool(None)) # None: no value - không có giá trị\n",
    "print(bool([])) # [] - empty list - danh sách trống\n",
    "print(bool(set())) # set() - set trống\n",
    "print(bool(())) # tuple trống\n",
    "print(bool({})) # dict trống"
   ]
  },
  {
   "cell_type": "markdown",
   "id": "486a9e6f",
   "metadata": {},
   "source": [
    "#### Nâng cao về and - or - not\n",
    "![](and-or-not.png)"
   ]
  },
  {
   "cell_type": "code",
   "execution_count": 14,
   "id": "f8d4e6b4",
   "metadata": {},
   "outputs": [
    {
     "name": "stdout",
     "output_type": "stream",
     "text": [
      "True\n"
     ]
    }
   ],
   "source": [
    "# Câu lệnh dưới tương dương với not bool(0.0) = not False = True\n",
    "print(not 0.0)"
   ]
  },
  {
   "cell_type": "code",
   "execution_count": 15,
   "id": "e780c20a",
   "metadata": {},
   "outputs": [
    {
     "name": "stdout",
     "output_type": "stream",
     "text": [
      "False\n"
     ]
    }
   ],
   "source": [
    "print(not 1) # <=> not bool(1) = not True = False"
   ]
  },
  {
   "cell_type": "code",
   "execution_count": 16,
   "id": "0d4ff811",
   "metadata": {},
   "outputs": [],
   "source": [
    "# Toán tử and và or trong Python hoạt động khác với các ngôn ngữ lập trình khác\n",
    "# Như hình trên thầy rằng: \n",
    "# and trả về giá trị thứ nhất nếu giá trị thứ nhất được đánh giá là False ngược lại trả về giá trị thứ hai\n",
    "# or trả về giá trị thứ nhất nếu nó được đánh giá là True ngược lại trả về giá trị thứ hai\n",
    "# Giá trị thứ nhất ở bên trái and/or\n",
    "# Giá trị thứ hai ở bên phải and/or"
   ]
  },
  {
   "cell_type": "code",
   "execution_count": 17,
   "id": "0115ac73",
   "metadata": {},
   "outputs": [
    {
     "name": "stdout",
     "output_type": "stream",
     "text": [
      "2\n"
     ]
    }
   ],
   "source": [
    "# Ví dụ\n",
    "print(1 and 2) # In ra 2 bởi vì 1 (giá trị thứ nhất đánh giá là True <bool(1) = True> \n",
    "# nên biểu thức (1 and 2) trả về giá trị thứ hai"
   ]
  },
  {
   "cell_type": "code",
   "execution_count": 18,
   "id": "4fffe8d5",
   "metadata": {},
   "outputs": [
    {
     "name": "stdout",
     "output_type": "stream",
     "text": [
      "1\n"
     ]
    }
   ],
   "source": [
    "print(1 or 2) # In ra 1 vì 1 (giá trị thứ nhất đánh giá là True <bool(1) = True> \n",
    "# nên biểu thức (1 or 2) trả về giá trị thứ nhất"
   ]
  },
  {
   "cell_type": "code",
   "execution_count": 19,
   "id": "df9c186c",
   "metadata": {},
   "outputs": [],
   "source": [
    "# Toán tử gán bằng: +=, -=, *=, /=, //=, **=, %=, vv"
   ]
  },
  {
   "cell_type": "code",
   "execution_count": 20,
   "id": "94433169",
   "metadata": {},
   "outputs": [
    {
     "name": "stdout",
     "output_type": "stream",
     "text": [
      "x =  20\n",
      "x =  25\n"
     ]
    }
   ],
   "source": [
    "# Ví dụ:\n",
    "x = 20\n",
    "print(\"x = \", x)\n",
    "\n",
    "x += 5 # Tăng giá trị của x lên 5 đơn vị\n",
    "print(\"x = \", x)"
   ]
  },
  {
   "cell_type": "code",
   "execution_count": 21,
   "id": "fd45c6fb",
   "metadata": {},
   "outputs": [
    {
     "name": "stdout",
     "output_type": "stream",
     "text": [
      "x = 21\n"
     ]
    }
   ],
   "source": [
    "x -= 4 # giảm x xuống 4 đơn vị\n",
    "print(\"x =\", x)"
   ]
  },
  {
   "cell_type": "code",
   "execution_count": 22,
   "id": "f6562b06",
   "metadata": {},
   "outputs": [
    {
     "name": "stdout",
     "output_type": "stream",
     "text": [
      "x = 42\n"
     ]
    }
   ],
   "source": [
    "x *= 2 # gấp đôi giá trị của x\n",
    "print(\"x =\", x)"
   ]
  },
  {
   "cell_type": "markdown",
   "id": "d2d11ac1",
   "metadata": {},
   "source": [
    "## 2. Bài tập"
   ]
  },
  {
   "cell_type": "markdown",
   "id": "32c4eac7",
   "metadata": {},
   "source": [
    "1. Nhập vào từ bàn phím hai số thực number1, number2. Hãy in ra tổng, hiệu, tích, thương, chia nguyên, chia lấy dư, lũy thừa của hai số đó\n",
    "2. Dự đoán kết quả của các biểu thức so sánh sau:\n",
    "+ 'a' > 'b'\n",
    "+ 3.0 > 3\n",
    "+ '' <= ' '\n",
    "+ .5 > 1\n",
    "3. Dự đoán kết quả của các biểu thức logic sau:\n",
    "+ 0 and 1\n",
    "+ '' or None\n",
    "+ 3 and 4 or 0\n",
    "+ 'a' or '1'\n",
    "+ not None\n",
    "+ not 0\n",
    "4. Nhập vào số nguyên n. Hãy thực hiện các công việc sau:\n",
    "+ tăng n lên 10 đơn vị\n",
    "+ gấp 3 lần n\n",
    "+ giảm n đi 9 đơn vị\n",
    "- Cuối cùng in ra n"
   ]
  }
 ],
 "metadata": {
  "kernelspec": {
   "display_name": "Python 3 (ipykernel)",
   "language": "python",
   "name": "python3"
  },
  "language_info": {
   "codemirror_mode": {
    "name": "ipython",
    "version": 3
   },
   "file_extension": ".py",
   "mimetype": "text/x-python",
   "name": "python",
   "nbconvert_exporter": "python",
   "pygments_lexer": "ipython3",
   "version": "3.10.8"
  }
 },
 "nbformat": 4,
 "nbformat_minor": 5
}
