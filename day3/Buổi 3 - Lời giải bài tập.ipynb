{
 "cells": [
  {
   "cell_type": "markdown",
   "id": "4298b5ec",
   "metadata": {},
   "source": [
    "#### 1. Nhập vào từ bàn phím hai số thực number1, number2. Hãy in ra tổng, hiệu, tích, thương, chia nguyên, chia lấy dư, lũy thừa của hai số đó"
   ]
  },
  {
   "cell_type": "code",
   "execution_count": 1,
   "id": "1b6a9a0e",
   "metadata": {},
   "outputs": [
    {
     "name": "stdout",
     "output_type": "stream",
     "text": [
      "Nhập số thứ nhất: 12.5\n",
      "Nhập số thứ hai: 3.5\n",
      "--------------------\n",
      "12.5 + 3.5 = 16.0\n",
      "12.5 - 3.5 = 9.0\n",
      "12.5 * 3.5 = 43.75\n",
      "12.5 : 3.5 = 3.5714285714285716\n",
      "12.5 // 3.5 = 3.0\n",
      "12.5 % 3.5 = 2.0\n",
      "12.5 ^ 3.5 = 6905.339660024878\n"
     ]
    }
   ],
   "source": [
    "# Nhập vào số thực number1 từ bàn phím\n",
    "number1 = float(input(\"Nhập số thứ nhất: \"))\n",
    "\n",
    "# Nhập vào số thực number2 từ bàn phím\n",
    "number2 = float(input(\"Nhập số thứ hai: \"))\n",
    "\n",
    "print('-' * 20) # In ra một chuỗi (str) 20 dấu '-' liền nhau trên cùng một hàng\n",
    "\n",
    "total = number1 + number2 # Tính tổng của 2 số number1, number2\n",
    "sub = number1 - number2 # Tính hiệu của 2 số number1, number2\n",
    "multiply = number1 * number2 # Tính tích của hai số number1, number2\n",
    "div = number1 / number2 # Tính thương (float - số thực - số dấu chấm động) của hai số number1, number2\n",
    "int_div = number1 // number2 # Tính thương (kết quả số nguyên) của hai số number1, number2\n",
    "remainder = number1 % number2 # Tính phần dư của phép chia number1 // number2 của hai số number1, number2\n",
    "exp = number1 ** number2 # Tính lũy thừa của hai số number1, number2\n",
    "\n",
    "# In ra kêt quả\n",
    "print(number1, '+', number2, '=', total)\n",
    "print(number1, '-', number2, '=', sub)\n",
    "print(number1, '*', number2, '=', multiply)\n",
    "print(number1, ':', number2, '=', div)\n",
    "print(number1, '//', number2, '=', int_div)\n",
    "print(number1, '%', number2, '=', remainder)\n",
    "print(number1, '^', number2, '=', exp)"
   ]
  },
  {
   "cell_type": "code",
   "execution_count": 2,
   "id": "195fc09e",
   "metadata": {},
   "outputs": [
    {
     "name": "stdout",
     "output_type": "stream",
     "text": [
      "True\n"
     ]
    }
   ],
   "source": [
    "# Lưu ý: // cho ra kết quả số thực 3.0 nhưng về mặt giá trị vẫn là số nguyên vì 3.0 == 3 (True)\n",
    "print(3.0 == 3)"
   ]
  },
  {
   "cell_type": "markdown",
   "id": "52ebe69e",
   "metadata": {},
   "source": [
    "#### 2. Dự đoán kết quả của các biểu thức so sánh sau:\n",
    "+ 'a' > 'b'\n",
    "+ 3.0 > 3\n",
    "+ '' <= ' '\n",
    "+ .5 > 1"
   ]
  },
  {
   "cell_type": "markdown",
   "id": "d0232043",
   "metadata": {},
   "source": [
    "### 1. 'a' > 'b'\n",
    "+ Khi so sánh các chuỗi bằng toán tử so sánh (>, <, >=, <=, ==, !=) thì nó sẽ so sánh các ký tự trong chuỗi từ trái qua phải nếu ký tự nào có mã ASCII lớn hơn thì lớn hơn\n",
    "\n",
    "+ mã ASCII (American Standard Code For Information Interchange): là một bảng mã được sử dụng cho việc biểu diễn các ký tự văn bản trong máy tính, \n",
    "\n",
    "+ mỗi ký tự được biểu diễn bởi một số nguyên từ 0 đến 127. Ví dụ ký tự 'A' được biểu diễn bởi số 65, ký tự 'B' được biểu diễn bởi số 66, vv\n",
    "\n",
    "+ ASCII đã không còn được sử dụng trong các máy tính hiện đại, nhưng nó vẫn được sử dụng trong một số trường hợp và là cơ sở cho các bảng mã khác như Unicode.\n",
    "\n",
    "+ Trong Python sử dụng hàm ord để lấy giá trị ASCII của một ký tự và chr để lấy giá trị số nguyên tương ứng với ký tự ASCII\n",
    "\n",
    "![](ord-chr.png)"
   ]
  },
  {
   "cell_type": "code",
   "execution_count": 3,
   "id": "8ccbc671",
   "metadata": {},
   "outputs": [
    {
     "name": "stdout",
     "output_type": "stream",
     "text": [
      "97 - 98\n"
     ]
    }
   ],
   "source": [
    "# ord - hàm có sẵn trong Python để lấy mã ASCII của một ký tự truyền vào và kết quả trả về là int (số nguyên)\n",
    "print(ord('a'), '-', ord('b')) "
   ]
  },
  {
   "cell_type": "code",
   "execution_count": 4,
   "id": "559afc31",
   "metadata": {},
   "outputs": [
    {
     "name": "stdout",
     "output_type": "stream",
     "text": [
      "False\n"
     ]
    }
   ],
   "source": [
    "# do mã ASCII của ký tự a nhỏ hơn b nên biểu thức 'a' > 'b' cho kết quả False khi in ra\n",
    "print('a' > 'b')"
   ]
  },
  {
   "cell_type": "markdown",
   "id": "704a7cea",
   "metadata": {},
   "source": [
    "### 2. 3.0 > 3\n",
    "+ 3.0 == 3 trả về kết quả True nên 3.0 > 3 = False"
   ]
  },
  {
   "cell_type": "code",
   "execution_count": 5,
   "id": "4bdbcf86",
   "metadata": {},
   "outputs": [
    {
     "name": "stdout",
     "output_type": "stream",
     "text": [
      "False\n"
     ]
    }
   ],
   "source": [
    "print(3.0 > 3)"
   ]
  },
  {
   "cell_type": "markdown",
   "id": "c232feb6",
   "metadata": {},
   "source": [
    "### 3. '' <= ' '\n",
    "+ '' chứa một ký tự blank khác empty và là tiền tố (prefix) của chuỗi thứ hai bên tay phải (' ') nên chuỗi bên phải lớn hơn (space)"
   ]
  },
  {
   "cell_type": "code",
   "execution_count": 6,
   "id": "94950f97",
   "metadata": {},
   "outputs": [
    {
     "name": "stdout",
     "output_type": "stream",
     "text": [
      "True\n"
     ]
    }
   ],
   "source": [
    "print('' <= ' ')"
   ]
  },
  {
   "cell_type": "markdown",
   "id": "e6d9c261",
   "metadata": {},
   "source": [
    "### 4. .5 > 1\n",
    "+ .5 = 0.5 (mọi người để ý có dấu chấm <.> đằng trước số 5) nên 0.5 > 1 = False"
   ]
  },
  {
   "cell_type": "code",
   "execution_count": 7,
   "id": "4b1f231b",
   "metadata": {},
   "outputs": [
    {
     "name": "stdout",
     "output_type": "stream",
     "text": [
      "False\n"
     ]
    }
   ],
   "source": [
    "print(.5 > 1)"
   ]
  },
  {
   "cell_type": "markdown",
   "id": "29e7b6af",
   "metadata": {},
   "source": [
    "### 3. Dự đoán kết quả của các biểu thức logic sau:\n",
    "+ 0 and 1\n",
    "+ '' or None\n",
    "+ 3 and 4 or 0\n",
    "+ 'a' or '1'\n",
    "+ not None\n",
    "+ not 0"
   ]
  },
  {
   "cell_type": "markdown",
   "id": "f64e5b3b",
   "metadata": {},
   "source": [
    "### 1. 0 and 1\n",
    "+ do 0 được đánh giá là False (bool(0) = False) nên biểu thức 0 and 1 = 0 (trả về giá trị bên trái (đầu tiên) and)"
   ]
  },
  {
   "cell_type": "code",
   "execution_count": 8,
   "id": "a6412f8d",
   "metadata": {},
   "outputs": [
    {
     "name": "stdout",
     "output_type": "stream",
     "text": [
      "0\n"
     ]
    }
   ],
   "source": [
    "print(0 and 1)"
   ]
  },
  {
   "cell_type": "markdown",
   "id": "9ee818f3",
   "metadata": {},
   "source": [
    "### 2. '' or None\n",
    "+ do '' được đánh giá là False (bool('') = False) nên kết quả của biểu thức '' or None = None (trả về giá trị thứ hai <bên phải>)"
   ]
  },
  {
   "cell_type": "code",
   "execution_count": 9,
   "id": "6e5d01f3",
   "metadata": {},
   "outputs": [
    {
     "name": "stdout",
     "output_type": "stream",
     "text": [
      "None\n"
     ]
    }
   ],
   "source": [
    "print('' or None)"
   ]
  },
  {
   "cell_type": "markdown",
   "id": "a197325e",
   "metadata": {},
   "source": [
    "### 3. 3 and 4 or 0\n",
    "+ NHỚ: ngoặc tròn () có độ ưu tiên cao nhất trong một biểu thức\n",
    "+ độ ưu tiên của các toán tử logic như sau: not > and > or (hình trong phần lý thuyết) nên 3 and 4 or 0 = (3 and 4) or 0 nghĩa là and được thực hiện trước\n",
    "+ 3 and 4 = 4 (do bool(3) = True, luôn xét giá trị đầu tiên khi thực hiện and/or)\n",
    "+ tiếp theo 4 or 0 = 4 (do giá trị 4 được đánh giá là True)"
   ]
  },
  {
   "cell_type": "code",
   "execution_count": 10,
   "id": "3c9990de",
   "metadata": {},
   "outputs": [
    {
     "name": "stdout",
     "output_type": "stream",
     "text": [
      "4\n"
     ]
    }
   ],
   "source": [
    "print(3 and 4 or 0)"
   ]
  },
  {
   "cell_type": "markdown",
   "id": "2fdde24a",
   "metadata": {},
   "source": [
    "### 4. 'a' or '1'\n",
    "+ NHỚ: luôn xem xét giá trị bên trái trong các biểu thức chưa and/or \n",
    "+ 'a' (giá trị bên trái - đầu tiên) được đánh giá là True (bool('a') = True) nên theo quy tắc đối với or đã hướng dẫn trong phần lý thuyết thì 'a' là kết quả được trả về."
   ]
  },
  {
   "cell_type": "code",
   "execution_count": 11,
   "id": "8f4971ec",
   "metadata": {},
   "outputs": [
    {
     "name": "stdout",
     "output_type": "stream",
     "text": [
      "a\n"
     ]
    }
   ],
   "source": [
    "print('a' or '1')"
   ]
  },
  {
   "cell_type": "markdown",
   "id": "0b394451",
   "metadata": {},
   "source": [
    "### 5. not None\n",
    "+ None được đánh giá = False (bool(None) = False) nên not None = not False = True"
   ]
  },
  {
   "cell_type": "code",
   "execution_count": 12,
   "id": "75c9c6ef",
   "metadata": {},
   "outputs": [
    {
     "name": "stdout",
     "output_type": "stream",
     "text": [
      "True\n"
     ]
    }
   ],
   "source": [
    "print(not None)"
   ]
  },
  {
   "cell_type": "markdown",
   "id": "8f23b9be",
   "metadata": {},
   "source": [
    "### 6. not 0\n",
    "+ 0 được đánh giá = False (bool(0) = False) nên not 0 = not False = True"
   ]
  },
  {
   "cell_type": "code",
   "execution_count": 13,
   "id": "53a93000",
   "metadata": {},
   "outputs": [
    {
     "name": "stdout",
     "output_type": "stream",
     "text": [
      "True\n"
     ]
    }
   ],
   "source": [
    "print(not 0)"
   ]
  },
  {
   "cell_type": "markdown",
   "id": "fe8beb6c",
   "metadata": {},
   "source": [
    "### 4. Nhập vào số nguyên n. Hãy thực hiện các công việc sau:\n",
    "+ tăng n lên 10 đơn vị\n",
    "+ gấp 3 lần n\n",
    "+ giảm n đi 9 đơn vị\n",
    "- Cuối cùng in ra n"
   ]
  },
  {
   "cell_type": "code",
   "execution_count": 14,
   "id": "ca0277ac",
   "metadata": {},
   "outputs": [
    {
     "name": "stdout",
     "output_type": "stream",
     "text": [
      "n = 20\n",
      "81\n"
     ]
    }
   ],
   "source": [
    "n = int(input(\"n = \"))\n",
    "\n",
    "# tăng n lên 10 đơn vị\n",
    "n += 10\n",
    "\n",
    "# gấp 3 lần n\n",
    "n *= 3\n",
    "\n",
    "# giảm n đi 9 đơn vị\n",
    "n -= 9\n",
    "\n",
    "# Cuối cùng in ra n\n",
    "print(n)"
   ]
  }
 ],
 "metadata": {
  "kernelspec": {
   "display_name": "Python 3 (ipykernel)",
   "language": "python",
   "name": "python3"
  },
  "language_info": {
   "codemirror_mode": {
    "name": "ipython",
    "version": 3
   },
   "file_extension": ".py",
   "mimetype": "text/x-python",
   "name": "python",
   "nbconvert_exporter": "python",
   "pygments_lexer": "ipython3",
   "version": "3.10.8"
  }
 },
 "nbformat": 4,
 "nbformat_minor": 5
}
