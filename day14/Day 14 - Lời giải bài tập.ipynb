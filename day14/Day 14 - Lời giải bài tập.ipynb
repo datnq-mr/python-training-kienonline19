{
 "cells": [
  {
   "cell_type": "markdown",
   "id": "4fe498e2",
   "metadata": {},
   "source": [
    "## Bài tập\n",
    "+ Tạo menu có các chức năng của một app quản lý sách\n",
    "1. Thêm một cuốn sách\n",
    "2. Hiển thị tất cả các cuốn sách\n",
    "3. Xóa các cuốn sách theo id\n",
    "4. Tìm kiếm các cuốn sách theo id\n",
    "+ Lưu ý: dữ liệu về các cuốn sách lưu trữ trong file json"
   ]
  },
  {
   "cell_type": "markdown",
   "id": "6912a3c5",
   "metadata": {},
   "source": [
    "## Full code: main.py file"
   ]
  }
 ],
 "metadata": {
  "kernelspec": {
   "display_name": "Python 3 (ipykernel)",
   "language": "python",
   "name": "python3"
  },
  "language_info": {
   "codemirror_mode": {
    "name": "ipython",
    "version": 3
   },
   "file_extension": ".py",
   "mimetype": "text/x-python",
   "name": "python",
   "nbconvert_exporter": "python",
   "pygments_lexer": "ipython3",
   "version": "3.10.9"
  }
 },
 "nbformat": 4,
 "nbformat_minor": 5
}
