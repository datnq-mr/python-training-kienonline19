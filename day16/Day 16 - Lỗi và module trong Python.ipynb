{
 "cells": [
  {
   "cell_type": "markdown",
   "id": "342ec16c",
   "metadata": {},
   "source": [
    "## 1. Lỗi (Exceptions, Errors)\n",
    "+ Lỗi là những bất thường xảy ra khi chạy chương trình\n",
    "+ Có các loại lỗi trong Python: TypeError, ValueError, KeyError, SyntaxError, IndexError, ...\n",
    "+ Cách để xử lý lỗi: dùng các khối try-except-finally-else"
   ]
  },
  {
   "cell_type": "code",
   "execution_count": 1,
   "id": "b380bcca",
   "metadata": {},
   "outputs": [
    {
     "ename": "IndexError",
     "evalue": "list index out of range",
     "output_type": "error",
     "traceback": [
      "\u001b[1;31m---------------------------------------------------------------------------\u001b[0m",
      "\u001b[1;31mIndexError\u001b[0m                                Traceback (most recent call last)",
      "Cell \u001b[1;32mIn[1], line 3\u001b[0m\n\u001b[0;32m      1\u001b[0m \u001b[38;5;66;03m# Demo về một số lỗi sẽ gặp phải khi chạy chương trình\u001b[39;00m\n\u001b[0;32m      2\u001b[0m lst \u001b[38;5;241m=\u001b[39m [\u001b[38;5;241m1\u001b[39m, \u001b[38;5;241m2\u001b[39m, \u001b[38;5;241m3\u001b[39m, \u001b[38;5;241m4\u001b[39m]\n\u001b[1;32m----> 3\u001b[0m \u001b[38;5;28mprint\u001b[39m(\u001b[43mlst\u001b[49m\u001b[43m[\u001b[49m\u001b[38;5;241;43m4\u001b[39;49m\u001b[43m]\u001b[49m)\n",
      "\u001b[1;31mIndexError\u001b[0m: list index out of range"
     ]
    }
   ],
   "source": [
    "# Demo về một số lỗi sẽ gặp phải khi chạy chương trình\n",
    "lst = [1, 2, 3, 4]\n",
    "print(lst[4])"
   ]
  },
  {
   "cell_type": "code",
   "execution_count": 2,
   "id": "9c3712f6",
   "metadata": {},
   "outputs": [
    {
     "ename": "ValueError",
     "evalue": "invalid literal for int() with base 10: '4.5'",
     "output_type": "error",
     "traceback": [
      "\u001b[1;31m---------------------------------------------------------------------------\u001b[0m",
      "\u001b[1;31mValueError\u001b[0m                                Traceback (most recent call last)",
      "Cell \u001b[1;32mIn[2], line 1\u001b[0m\n\u001b[1;32m----> 1\u001b[0m \u001b[38;5;28mprint\u001b[39m(\u001b[38;5;28;43mint\u001b[39;49m\u001b[43m(\u001b[49m\u001b[38;5;124;43m\"\u001b[39;49m\u001b[38;5;124;43m4.5\u001b[39;49m\u001b[38;5;124;43m\"\u001b[39;49m\u001b[43m)\u001b[49m)\n",
      "\u001b[1;31mValueError\u001b[0m: invalid literal for int() with base 10: '4.5'"
     ]
    }
   ],
   "source": [
    "print(int(\"4.5\"))"
   ]
  },
  {
   "cell_type": "code",
   "execution_count": 3,
   "id": "b89a5516",
   "metadata": {},
   "outputs": [
    {
     "ename": "KeyError",
     "evalue": "'f'",
     "output_type": "error",
     "traceback": [
      "\u001b[1;31m---------------------------------------------------------------------------\u001b[0m",
      "\u001b[1;31mKeyError\u001b[0m                                  Traceback (most recent call last)",
      "Cell \u001b[1;32mIn[3], line 2\u001b[0m\n\u001b[0;32m      1\u001b[0m d \u001b[38;5;241m=\u001b[39m {\u001b[38;5;124m'\u001b[39m\u001b[38;5;124ma\u001b[39m\u001b[38;5;124m'\u001b[39m: \u001b[38;5;241m1\u001b[39m, \u001b[38;5;124m'\u001b[39m\u001b[38;5;124mb\u001b[39m\u001b[38;5;124m'\u001b[39m: \u001b[38;5;241m2\u001b[39m, \u001b[38;5;124m'\u001b[39m\u001b[38;5;124mc\u001b[39m\u001b[38;5;124m'\u001b[39m: \u001b[38;5;241m3\u001b[39m}\n\u001b[1;32m----> 2\u001b[0m \u001b[38;5;28mprint\u001b[39m(\u001b[43md\u001b[49m\u001b[43m[\u001b[49m\u001b[38;5;124;43m'\u001b[39;49m\u001b[38;5;124;43mf\u001b[39;49m\u001b[38;5;124;43m'\u001b[39;49m\u001b[43m]\u001b[49m)\n",
      "\u001b[1;31mKeyError\u001b[0m: 'f'"
     ]
    }
   ],
   "source": [
    "d = {'a': 1, 'b': 2, 'c': 3}\n",
    "print(d['f'])"
   ]
  },
  {
   "cell_type": "code",
   "execution_count": 4,
   "id": "b51e65b5",
   "metadata": {},
   "outputs": [
    {
     "name": "stdout",
     "output_type": "stream",
     "text": [
      "division by zero\n",
      "Always run\n"
     ]
    }
   ],
   "source": [
    "\"\"\"\n",
    "Khối try: để thử xem lỗi có xảy ra hay không ?\n",
    "Khối except: khi có lỗi trong khối try thì chương trình sẽ xử lý lỗi trong khối except\n",
    "Khối finally: luôn chạy cho dù có lỗi hay không trong khối try\n",
    "Khối else: chạy khi khối try không có lỗi\n",
    "\"\"\"\n",
    "try:\n",
    "    print(1/0)\n",
    "except Exception as e:\n",
    "    print(e)\n",
    "else:\n",
    "    print(\"Success\")\n",
    "finally:\n",
    "    print(\"Always run\")"
   ]
  },
  {
   "cell_type": "code",
   "execution_count": 5,
   "id": "2a478e28",
   "metadata": {},
   "outputs": [
    {
     "name": "stdout",
     "output_type": "stream",
     "text": [
      "0.5\n",
      "Success\n",
      "Always run\n"
     ]
    }
   ],
   "source": [
    "try:\n",
    "    print(1/2)\n",
    "except Exception as e:\n",
    "    print(e)\n",
    "else:\n",
    "    print(\"Success\")\n",
    "finally:\n",
    "    print(\"Always run\")"
   ]
  },
  {
   "cell_type": "code",
   "execution_count": 6,
   "id": "841c5639",
   "metadata": {},
   "outputs": [
    {
     "ename": "SyntaxError",
     "evalue": "invalid syntax (2738062486.py, line 8)",
     "output_type": "error",
     "traceback": [
      "\u001b[1;36m  Cell \u001b[1;32mIn[6], line 8\u001b[1;36m\u001b[0m\n\u001b[1;33m    else:\u001b[0m\n\u001b[1;37m    ^\u001b[0m\n\u001b[1;31mSyntaxError\u001b[0m\u001b[1;31m:\u001b[0m invalid syntax\n"
     ]
    }
   ],
   "source": [
    "# Khối finally phải ở cuối cùng trong cấu trúc try-except-else-finally\n",
    "try:\n",
    "    print(1/0)\n",
    "except Exception as e:\n",
    "    print(e)\n",
    "finally:\n",
    "    print(\"Always run\")\n",
    "else:\n",
    "    print(\"Success\")\n"
   ]
  },
  {
   "cell_type": "markdown",
   "id": "a8a45b6b",
   "metadata": {},
   "source": [
    "## 2. Module\n",
    "+ module thông thường là một python file trong đó chứa code mà các file python khác có thể import để sử dụng\n",
    "+ có hai loại module\n",
    "1. module có sẵn: sys, random, math, ...\n",
    "2. module tự định nghĩa: các file python mà chúng ta tạo trong thư mục dự án"
   ]
  },
  {
   "cell_type": "code",
   "execution_count": 7,
   "id": "50beb978",
   "metadata": {},
   "outputs": [
    {
     "name": "stdout",
     "output_type": "stream",
     "text": [
      "19\n"
     ]
    }
   ],
   "source": [
    "import utils # import tên module chính là tên file python để cùng thư mục với file này\n",
    "print(utils.add(1, 2, 7, 9)) # gọi hàm add trong module utils với cú pháp: <tên module>.<tên hàm>"
   ]
  },
  {
   "cell_type": "markdown",
   "id": "4c32e387",
   "metadata": {},
   "source": [
    "## 3. Bài tập\n",
    "link: https://colab.research.google.com/drive/1DUTOSq5e8OTPmbAbfYTGmnu4hnzlCl4x?usp=sharing"
   ]
  }
 ],
 "metadata": {
  "kernelspec": {
   "display_name": "Python 3 (ipykernel)",
   "language": "python",
   "name": "python3"
  },
  "language_info": {
   "codemirror_mode": {
    "name": "ipython",
    "version": 3
   },
   "file_extension": ".py",
   "mimetype": "text/x-python",
   "name": "python",
   "nbconvert_exporter": "python",
   "pygments_lexer": "ipython3",
   "version": "3.10.9"
  }
 },
 "nbformat": 4,
 "nbformat_minor": 5
}
