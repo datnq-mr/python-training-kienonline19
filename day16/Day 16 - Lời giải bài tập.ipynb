{
 "cells": [
  {
   "cell_type": "code",
   "execution_count": 1,
   "id": "ae652de3",
   "metadata": {},
   "outputs": [
    {
     "name": "stdout",
     "output_type": "stream",
     "text": [
      "[1, 'Did not get gold', 'Did not get gold', 10, 'Did not get gold', 46]\n"
     ]
    }
   ],
   "source": [
    "# Bài 1\n",
    "gold = {\"US\": 46, \"Fiji\": 1, \"Great Britain\": 27, \"Cuba\": 5, \"Thailand\": 2, \"China\": 26, \"France\": 10}\n",
    "country = [\"Fiji\", \"Chile\", \"Mexico\", \"France\", \"Norway\", \"US\"]\n",
    "\n",
    "country_gold = []\n",
    "\n",
    "for x in country:\n",
    "    try:\n",
    "        country_gold.append(gold[x])\n",
    "    except:\n",
    "        country_gold.append(\"Did not get gold\")\n",
    "        \n",
    "print(country_gold)"
   ]
  },
  {
   "cell_type": "code",
   "execution_count": 2,
   "id": "392f5261",
   "metadata": {},
   "outputs": [
    {
     "name": "stdout",
     "output_type": "stream",
     "text": [
      "[2, 4, 10, 4, 4, 5, 5, 1]\n"
     ]
    }
   ],
   "source": [
    "# Bài 2\n",
    "lst = [2, 4, 10, 42, 12, 0, 4, 7, 21, 4, 83, 8, 5, 6, 8, 234, 5, 6, 523, 42, 34, 0, 234, 1, 435, 465, 56, 7, 3, 43, 23]\n",
    "\n",
    "lst_three = []\n",
    "\n",
    "for x in lst:\n",
    "    try:\n",
    "        if 100 % x == 0:\n",
    "            lst_three.append(x)\n",
    "    except:\n",
    "        pass\n",
    "        \n",
    "print(lst_three)"
   ]
  }
 ],
 "metadata": {
  "kernelspec": {
   "display_name": "Python 3 (ipykernel)",
   "language": "python",
   "name": "python3"
  },
  "language_info": {
   "codemirror_mode": {
    "name": "ipython",
    "version": 3
   },
   "file_extension": ".py",
   "mimetype": "text/x-python",
   "name": "python",
   "nbconvert_exporter": "python",
   "pygments_lexer": "ipython3",
   "version": "3.10.9"
  }
 },
 "nbformat": 4,
 "nbformat_minor": 5
}
